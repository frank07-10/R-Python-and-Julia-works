{
 "cells": [
  {
   "cell_type": "markdown",
   "id": "6cd06d09-300d-4ac2-856a-d99ee4af4c0b",
   "metadata": {},
   "source": [
    "# Descriptives"
   ]
  },
  {
   "cell_type": "code",
   "execution_count": 1,
   "id": "195c22c9",
   "metadata": {},
   "outputs": [
    {
     "name": "stdout",
     "output_type": "stream",
     "text": [
      "   y  w  gender_female  gender_male  gender_transgender  ethnicgrp_asian  \\\n",
      "0  1  1              0            1                   0                0   \n",
      "1  0  0              0            1                   0                0   \n",
      "2  0  1              0            1                   0                0   \n",
      "3  0  0              1            0                   0                0   \n",
      "4  1  1              1            0                   0                1   \n",
      "\n",
      "   ethnicgrp_black  ethnicgrp_mixed_multiple  ethnicgrp_other  \\\n",
      "0                0                         1                0   \n",
      "1                0                         0                0   \n",
      "2                1                         0                0   \n",
      "3                0                         0                0   \n",
      "4                0                         0                0   \n",
      "\n",
      "   ethnicgrp_white  partners1  postlaunch  msm  age  imd_decile  \n",
      "0                0          0           1    0   27           5  \n",
      "1                1          0           0    0   19           6  \n",
      "2                0          0           1    0   26           4  \n",
      "3                1          1           0    0   20           2  \n",
      "4                0          0           1    0   24           3  \n"
     ]
    }
   ],
   "source": [
    "import pandas as pd\n",
    "\n",
    "data = pd.read_csv('C:\\\\Users\\\\ANGIE\\\\Desktop\\\\abcf\\\\processed_esti.csv')\n",
    "\n",
    "print(data.head())\n"
   ]
  },
  {
   "cell_type": "code",
   "execution_count": 56,
   "id": "2fe1eab2",
   "metadata": {},
   "outputs": [],
   "source": [
    "## Descriptive\n",
    "# Pregunta 1\n",
    "treated = data[data['w'] == 1]\n",
    "control = data[data['w'] == 0]"
   ]
  },
  {
   "cell_type": "code",
   "execution_count": 57,
   "id": "bd2b7f8c",
   "metadata": {},
   "outputs": [],
   "source": [
    "import statsmodels.api as sm"
   ]
  },
  {
   "cell_type": "code",
   "execution_count": 58,
   "id": "0dac994c",
   "metadata": {},
   "outputs": [],
   "source": [
    "variables_to_describe = ['age', 'gender_male', 'imd_decile']"
   ]
  },
  {
   "cell_type": "code",
   "execution_count": 59,
   "id": "60dccfb3",
   "metadata": {},
   "outputs": [],
   "source": [
    "results = pd.DataFrame()"
   ]
  },
  {
   "cell_type": "code",
   "execution_count": 60,
   "id": "96830fa6",
   "metadata": {},
   "outputs": [],
   "source": [
    "for var in variables_to_describe:\n",
    "    # Describir estadísticas para cada grupo\n",
    "    treated_desc = treated[var].describe()\n",
    "    control_desc = control[var].describe()\n",
    "    \n",
    "    # Regresión para obtener la diferencia ajustada\n",
    "    X = sm.add_constant(data['w'])  # w como variable independiente\n",
    "    model = sm.OLS(data[var], X).fit()\n",
    "    diff = model.params['w']  # Coeficiente para w\n",
    "    \n",
    "    # Compilar resultados en un dataframe\n",
    "    results[var] = [\n",
    "        control_desc['count'], control_desc['mean'], control_desc['std'],\n",
    "        treated_desc['count'], treated_desc['mean'], treated_desc['std'],\n",
    "        diff\n",
    "    ]\n"
   ]
  },
  {
   "cell_type": "code",
   "execution_count": 61,
   "id": "9a12f764",
   "metadata": {},
   "outputs": [],
   "source": [
    "results.index = ['n_control', 'mean_control', 'std_control', 'n_treated', 'mean_treated', 'std_treated', 'Diff']\n"
   ]
  },
  {
   "cell_type": "code",
   "execution_count": 62,
   "id": "d89eff0b",
   "metadata": {},
   "outputs": [
    {
     "name": "stdout",
     "output_type": "stream",
     "text": [
      "             n_control  mean_control  std_control  n_treated  mean_treated  \\\n",
      "age              818.0     23.047677     3.594015      921.0     23.158523   \n",
      "gender_male      818.0      0.418093     0.493547      921.0      0.409338   \n",
      "imd_decile       818.0      3.484108     1.486081      921.0      3.460369   \n",
      "\n",
      "             std_treated      Diff  \n",
      "age             3.538738  0.110846  \n",
      "gender_male     0.491979 -0.008755  \n",
      "imd_decile      1.465844 -0.023738  \n"
     ]
    }
   ],
   "source": [
    "results = results.T\n",
    "\n",
    "print(results)"
   ]
  },
  {
   "cell_type": "code",
   "execution_count": 11,
   "id": "5ab8e2e9",
   "metadata": {},
   "outputs": [
    {
     "name": "stdout",
     "output_type": "stream",
     "text": [
      "Collecting python-docx\n",
      "  Downloading python_docx-1.1.2-py3-none-any.whl.metadata (2.0 kB)\n",
      "Requirement already satisfied: lxml>=3.1.0 in c:\\users\\angie\\anaconda3\\lib\\site-packages (from python-docx) (4.9.3)\n",
      "Requirement already satisfied: typing-extensions>=4.9.0 in c:\\users\\angie\\anaconda3\\lib\\site-packages (from python-docx) (4.9.0)\n",
      "Downloading python_docx-1.1.2-py3-none-any.whl (244 kB)\n",
      "   ---------------------------------------- 0.0/244.3 kB ? eta -:--:--\n",
      "   - -------------------------------------- 10.2/244.3 kB ? eta -:--:--\n",
      "   --- ----------------------------------- 20.5/244.3 kB 217.9 kB/s eta 0:00:02\n",
      "   ---- ---------------------------------- 30.7/244.3 kB 325.1 kB/s eta 0:00:01\n",
      "   --------------- ---------------------- 102.4/244.3 kB 653.6 kB/s eta 0:00:01\n",
      "   ---------------------------------------- 244.3/244.3 kB 1.4 MB/s eta 0:00:00\n",
      "Installing collected packages: python-docx\n",
      "Successfully installed python-docx-1.1.2\n",
      "Note: you may need to restart the kernel to use updated packages.\n"
     ]
    }
   ],
   "source": [
    "pip install python-docx\n"
   ]
  },
  {
   "cell_type": "code",
   "execution_count": 63,
   "id": "d56126dd",
   "metadata": {},
   "outputs": [],
   "source": [
    "from docx import Document"
   ]
  },
  {
   "cell_type": "code",
   "execution_count": 64,
   "id": "f721e30c",
   "metadata": {},
   "outputs": [],
   "source": [
    "from docx.shared import Pt"
   ]
  },
  {
   "cell_type": "code",
   "execution_count": 65,
   "id": "c807dde8",
   "metadata": {},
   "outputs": [
    {
     "data": {
      "text/plain": [
       "<docx.text.paragraph.Paragraph at 0x2a8050e7310>"
      ]
     },
     "execution_count": 65,
     "metadata": {},
     "output_type": "execute_result"
    }
   ],
   "source": [
    "doc = Document()\n",
    "style = doc.styles['Normal']\n",
    "font = style.font\n",
    "font.name = 'Times New Roman'\n",
    "font.size = Pt(11)\n",
    "doc.add_heading('Table 1: Descriptive Statistics and Balance', level=1)\n"
   ]
  },
  {
   "cell_type": "code",
   "execution_count": 66,
   "id": "29afc0e2",
   "metadata": {},
   "outputs": [],
   "source": [
    "table = doc.add_table(rows=1, cols=8)\n",
    "hdr_cells = table.rows[0].cells\n",
    "hdr_cells[0].text = 'Variable'\n",
    "hdr_cells[1].text = 'n (Control)'\n",
    "hdr_cells[2].text = 'Mean (Control)'\n",
    "hdr_cells[3].text = 'SD (Control)'\n",
    "hdr_cells[4].text = 'n (Treatment)'\n",
    "hdr_cells[5].text = 'Mean (Treatment)'\n",
    "hdr_cells[6].text = 'SD (Treatment)'\n",
    "hdr_cells[7].text = 'Diff'"
   ]
  },
  {
   "cell_type": "code",
   "execution_count": 68,
   "id": "e5bcca6f",
   "metadata": {},
   "outputs": [],
   "source": [
    "for var in variables_to_describe:\n",
    "    treated_desc = treated[var].describe()\n",
    "    control_desc = control[var].describe()\n",
    "    X = sm.add_constant(data['w'])\n",
    "    model = sm.OLS(data[var], X).fit()\n",
    "    diff = model.params['w']\n",
    "\n",
    "    row_cells = table.add_row().cells\n",
    "    row_cells[0].text = var\n",
    "    row_cells[1].text = str(int(control_desc['count']))\n",
    "    row_cells[2].text = f\"{control_desc['mean']:.2f}\"\n",
    "    row_cells[3].text = f\"{control_desc['std']:.2f}\"\n",
    "    row_cells[4].text = str(int(treated_desc['count']))\n",
    "    row_cells[5].text = f\"{treated_desc['mean']:.2f}\"\n",
    "    row_cells[6].text = f\"{treated_desc['std']:.2f}\"\n",
    "    row_cells[7].text = f\"{diff:.3f}\"\n"
   ]
  },
  {
   "cell_type": "code",
   "execution_count": 69,
   "id": "fa4b43d6",
   "metadata": {},
   "outputs": [],
   "source": [
    "for row in table.rows:\n",
    "    for cell in row.cells:\n",
    "        paragraphs = cell.paragraphs\n",
    "        for paragraph in paragraphs:\n",
    "            paragraph.style = doc.styles['Normal']\n",
    "            paragraph.runs[0].font.size = Pt(10)\n"
   ]
  },
  {
   "cell_type": "code",
   "execution_count": 78,
   "id": "8fcdca0b",
   "metadata": {},
   "outputs": [],
   "source": [
    "doc.save('balancetable.docx')"
   ]
  },
  {
   "cell_type": "code",
   "execution_count": 79,
   "id": "036f9293",
   "metadata": {},
   "outputs": [
    {
     "name": "stdout",
     "output_type": "stream",
     "text": [
      "Requirement already satisfied: matplotlib in c:\\users\\angie\\anaconda3\\lib\\site-packages (3.8.0)\n",
      "Requirement already satisfied: contourpy>=1.0.1 in c:\\users\\angie\\anaconda3\\lib\\site-packages (from matplotlib) (1.2.0)\n",
      "Requirement already satisfied: cycler>=0.10 in c:\\users\\angie\\anaconda3\\lib\\site-packages (from matplotlib) (0.11.0)\n",
      "Requirement already satisfied: fonttools>=4.22.0 in c:\\users\\angie\\anaconda3\\lib\\site-packages (from matplotlib) (4.25.0)\n",
      "Requirement already satisfied: kiwisolver>=1.0.1 in c:\\users\\angie\\anaconda3\\lib\\site-packages (from matplotlib) (1.4.4)\n",
      "Requirement already satisfied: numpy<2,>=1.21 in c:\\users\\angie\\anaconda3\\lib\\site-packages (from matplotlib) (1.26.4)\n",
      "Requirement already satisfied: packaging>=20.0 in c:\\users\\angie\\anaconda3\\lib\\site-packages (from matplotlib) (23.1)\n",
      "Requirement already satisfied: pillow>=6.2.0 in c:\\users\\angie\\anaconda3\\lib\\site-packages (from matplotlib) (10.2.0)\n",
      "Requirement already satisfied: pyparsing>=2.3.1 in c:\\users\\angie\\anaconda3\\lib\\site-packages (from matplotlib) (3.0.9)\n",
      "Requirement already satisfied: python-dateutil>=2.7 in c:\\users\\angie\\anaconda3\\lib\\site-packages (from matplotlib) (2.8.2)\n",
      "Requirement already satisfied: six>=1.5 in c:\\users\\angie\\anaconda3\\lib\\site-packages (from python-dateutil>=2.7->matplotlib) (1.16.0)\n",
      "Requirement already satisfied: pandas in c:\\users\\angie\\anaconda3\\lib\\site-packages (2.1.4)\n",
      "Requirement already satisfied: numpy<2,>=1.23.2 in c:\\users\\angie\\anaconda3\\lib\\site-packages (from pandas) (1.26.4)\n",
      "Requirement already satisfied: python-dateutil>=2.8.2 in c:\\users\\angie\\anaconda3\\lib\\site-packages (from pandas) (2.8.2)\n",
      "Requirement already satisfied: pytz>=2020.1 in c:\\users\\angie\\anaconda3\\lib\\site-packages (from pandas) (2023.3.post1)\n",
      "Requirement already satisfied: tzdata>=2022.1 in c:\\users\\angie\\anaconda3\\lib\\site-packages (from pandas) (2023.3)\n",
      "Requirement already satisfied: six>=1.5 in c:\\users\\angie\\anaconda3\\lib\\site-packages (from python-dateutil>=2.8.2->pandas) (1.16.0)\n"
     ]
    }
   ],
   "source": [
    "##Descriptive. Pregunta 2\n",
    "!pip install matplotlib\n",
    "!pip install pandas\n",
    "\n"
   ]
  },
  {
   "cell_type": "code",
   "execution_count": 80,
   "id": "53b4116e",
   "metadata": {},
   "outputs": [],
   "source": [
    "import matplotlib.pyplot as plt"
   ]
  },
  {
   "cell_type": "code",
   "execution_count": 81,
   "id": "2f069983",
   "metadata": {},
   "outputs": [
    {
     "data": {
      "text/plain": [
       "<Figure size 1200x1800 with 0 Axes>"
      ]
     },
     "execution_count": 81,
     "metadata": {},
     "output_type": "execute_result"
    },
    {
     "data": {
      "text/plain": [
       "<Figure size 1200x1800 with 0 Axes>"
      ]
     },
     "metadata": {},
     "output_type": "display_data"
    }
   ],
   "source": [
    "plt.figure(figsize=(12, 18))"
   ]
  },
  {
   "cell_type": "code",
   "execution_count": 82,
   "id": "49154986",
   "metadata": {},
   "outputs": [
    {
     "data": {
      "text/plain": [
       "<matplotlib.legend.Legend at 0x2a80746d3d0>"
      ]
     },
     "execution_count": 82,
     "metadata": {},
     "output_type": "execute_result"
    },
    {
     "data": {
      "image/png": "[encoded data removed]",
      "text/plain": [
       "<Figure size 640x480 with 1 Axes>"
      ]
     },
     "metadata": {},
     "output_type": "display_data"
    }
   ],
   "source": [
    "plt.subplot(3, 2, 2)\n",
    "plt.bar(['Male', 'Female'], [treated['gender_male'].mean(), 1 - treated['gender_male'].mean()], alpha=0.7, label='Treated')\n",
    "plt.bar(['Male', 'Female'], [control['gender_male'].mean(), 1 - control['gender_male'].mean()], alpha=0.7, label='Control', bottom=[treated['gender_male'].mean(), 1 - treated['gender_male'].mean()])\n",
    "plt.title('Gender Proportions')\n",
    "plt.ylabel('Proportion')\n",
    "plt.legend()"
   ]
  },
  {
   "cell_type": "code",
   "execution_count": 83,
   "id": "d359f5a6",
   "metadata": {
    "scrolled": true
   },
   "outputs": [
    {
     "data": {
      "image/png": "[encoded data removed]",
      "text/plain": [
       "<Figure size 640x480 with 1 Axes>"
      ]
     },
     "metadata": {},
     "output_type": "display_data"
    }
   ],
   "source": [
    "treated['age'].plot(kind='density', label='Treated', color='blue')\n",
    "control['age'].plot(kind='density', label='Control', color='red')\n",
    "plt.title('Density Plot of Age for Treated vs. Control')\n",
    "plt.xlabel('Age')\n",
    "plt.legend()\n",
    "plt.show()\n"
   ]
  },
  {
   "cell_type": "code",
   "execution_count": 84,
   "id": "da406988",
   "metadata": {},
   "outputs": [
    {
     "data": {
      "image/png": "[encoded data removed]",
      "text/plain": [
       "<Figure size 640x480 with 1 Axes>"
      ]
     },
     "metadata": {},
     "output_type": "display_data"
    }
   ],
   "source": [
    "treated['imd_decile'].plot(kind='density', label='Treated', color='blue')\n",
    "control['imd_decile'].plot(kind='density', label='Control', color='red')\n",
    "plt.title('Density Plot of IMD Decile')\n",
    "plt.xlabel('IMD Decile')\n",
    "plt.legend()\n",
    "plt.show()"
   ]
  },
  {
   "cell_type": "markdown",
   "id": "8ebc7dcd-e154-4569-8216-ba9db75d394d",
   "metadata": {},
   "source": [
    "# Linear Regression analysis"
   ]
  },
  {
   "cell_type": "markdown",
   "id": "3f778c5b-17bb-4cd9-a194-1d5d9aaf8e62",
   "metadata": {
    "tags": []
   },
   "source": [
    "### Y ~ T"
   ]
  },
  {
   "cell_type": "code",
   "execution_count": 85,
   "id": "bdfb0304",
   "metadata": {},
   "outputs": [],
   "source": [
    "import statsmodels.formula.api as smf"
   ]
  },
  {
   "cell_type": "code",
   "execution_count": 86,
   "id": "a1276b4f",
   "metadata": {},
   "outputs": [],
   "source": [
    "result = smf.ols('y ~ w', data=data).fit()"
   ]
  },
  {
   "cell_type": "code",
   "execution_count": 87,
   "id": "7a9794a7",
   "metadata": {},
   "outputs": [
    {
     "name": "stdout",
     "output_type": "stream",
     "text": [
      "                            OLS Regression Results                            \n",
      "==============================================================================\n",
      "Dep. Variable:                      y   R-squared:                       0.077\n",
      "Model:                            OLS   Adj. R-squared:                  0.076\n",
      "Method:                 Least Squares   F-statistic:                     144.5\n",
      "Date:                Sat, 15 Jun 2024   Prob (F-statistic):           4.96e-32\n",
      "Time:                        19:37:32   Log-Likelihood:                -1112.9\n",
      "No. Observations:                1739   AIC:                             2230.\n",
      "Df Residuals:                    1737   BIC:                             2241.\n",
      "Df Model:                           1                                         \n",
      "Covariance Type:            nonrobust                                         \n",
      "==============================================================================\n",
      "                 coef    std err          t      P>|t|      [0.025      0.975]\n",
      "------------------------------------------------------------------------------\n",
      "Intercept      0.2115      0.016     13.174      0.000       0.180       0.243\n",
      "w              0.2652      0.022     12.021      0.000       0.222       0.308\n",
      "==============================================================================\n",
      "Omnibus:                    38241.926   Durbin-Watson:                   1.995\n",
      "Prob(Omnibus):                  0.000   Jarque-Bera (JB):              217.327\n",
      "Skew:                           0.532   Prob(JB):                     6.43e-48\n",
      "Kurtosis:                       1.634   Cond. No.                         2.69\n",
      "==============================================================================\n",
      "\n",
      "Notes:\n",
      "[1] Standard Errors assume that the covariance matrix of the errors is correctly specified.\n"
     ]
    }
   ],
   "source": [
    "print(result.summary())"
   ]
  },
  {
   "cell_type": "markdown",
   "id": "34aa0900-3884-442f-a67b-0487116987cf",
   "metadata": {},
   "source": [
    "Receiving the treatment is associated with an average increase in academic achievement scores of 0.2652 units. The treatment has a positive and significant effect on academic achievement scores. The R-squared value of 0.077 indicates that approximately 7.7% of the variability in academic achievement scores can be explained by the difference in treatment status among individuals. This suggests that there are other factors not captured in the model that significantly influence academic achievement outcomes."
   ]
  },
  {
   "cell_type": "markdown",
   "id": "8cf5c9d5-cc7a-452e-a98f-17bebaec121c",
   "metadata": {},
   "source": [
    "### Y ~ T + X"
   ]
  },
  {
   "cell_type": "code",
   "execution_count": 2,
   "id": "17ecfbdb-a538-4a4b-bee1-bca3f805e545",
   "metadata": {},
   "outputs": [
    {
     "name": "stdout",
     "output_type": "stream",
     "text": [
      "                            OLS Regression Results                            \n",
      "==============================================================================\n",
      "Dep. Variable:                      y   R-squared:                       0.115\n",
      "Model:                            OLS   Adj. R-squared:                  0.109\n",
      "Method:                 Least Squares   F-statistic:                     18.64\n",
      "Date:                Fri, 14 Jun 2024   Prob (F-statistic):           1.76e-38\n",
      "Time:                        12:19:15   Log-Likelihood:                -1076.4\n",
      "No. Observations:                1739   AIC:                             2179.\n",
      "Df Residuals:                    1726   BIC:                             2250.\n",
      "Df Model:                          12                                         \n",
      "Covariance Type:            nonrobust                                         \n",
      "============================================================================================\n",
      "                               coef    std err          t      P>|t|      [0.025      0.975]\n",
      "--------------------------------------------------------------------------------------------\n",
      "const                       -0.0044      0.070     -0.063      0.950      -0.142       0.133\n",
      "w                            0.2562      0.022     11.752      0.000       0.213       0.299\n",
      "gender_female               -0.0597      0.064     -0.935      0.350      -0.185       0.065\n",
      "gender_male                 -0.1543      0.065     -2.392      0.017      -0.281      -0.028\n",
      "gender_transgender           0.2095      0.168      1.246      0.213      -0.120       0.539\n",
      "ethnicgrp_asian             -0.0311      0.043     -0.721      0.471      -0.116       0.054\n",
      "ethnicgrp_black             -0.0486      0.039     -1.255      0.210      -0.125       0.027\n",
      "ethnicgrp_mixed_multiple    -0.0472      0.038     -1.230      0.219      -0.122       0.028\n",
      "ethnicgrp_other              0.0821      0.080      1.032      0.302      -0.074       0.238\n",
      "ethnicgrp_white              0.0404      0.028      1.442      0.150      -0.015       0.095\n",
      "partners1                   -0.0576      0.024     -2.363      0.018      -0.105      -0.010\n",
      "postlaunch                   0.0748      0.023      3.303      0.001       0.030       0.119\n",
      "msm                         -0.0023      0.037     -0.063      0.949      -0.074       0.070\n",
      "age                          0.0126      0.003      3.954      0.000       0.006       0.019\n",
      "imd_decile                  -0.0040      0.007     -0.541      0.589      -0.019       0.011\n",
      "==============================================================================\n",
      "Omnibus:                     1733.745   Durbin-Watson:                   1.998\n",
      "Prob(Omnibus):                  0.000   Jarque-Bera (JB):              188.649\n",
      "Skew:                           0.527   Prob(JB):                     1.08e-41\n",
      "Kurtosis:                       1.779   Cond. No.                     1.42e+17\n",
      "==============================================================================\n",
      "\n",
      "Notes:\n",
      "[1] Standard Errors assume that the covariance matrix of the errors is correctly specified.\n",
      "[2] The smallest eigenvalue is 4.86e-29. This might indicate that there are\n",
      "strong multicollinearity problems or that the design matrix is singular.\n"
     ]
    }
   ],
   "source": [
    "\n",
    "import statsmodels.api as sm\n",
    "\n",
    "Y = data['y']\n",
    "\n",
    "X = data[['w', 'gender_female', 'gender_male', 'gender_transgender',\n",
    "          'ethnicgrp_asian', 'ethnicgrp_black', 'ethnicgrp_mixed_multiple',\n",
    "          'ethnicgrp_other', 'ethnicgrp_white', 'partners1', 'postlaunch', \n",
    "          'msm', 'age', 'imd_decile']]\n",
    "\n",
    "X = sm.add_constant(X)\n",
    "model = sm.OLS(Y, X).fit()\n",
    "\n",
    "print(model.summary())"
   ]
  },
  {
   "cell_type": "markdown",
   "id": "92db8ea3-e148-4d88-9173-6feeb38eca4b",
   "metadata": {},
   "source": [
    "El resultado de la regresión sugiere que el uso del servicio de pruebas eSTI en línea tiene un efecto positivo significativo en el resultado medido: la tasa de detección o tratamiento exitoso de infecciones de transmisión sexual (ITS). Específicamente, el tratamiento aumenta el valor de y en aproximadamente 0.2562 unidades, manteniendo constantes las demás variables. La significancia estadística es muy alta (p < 0.001), lo que indica que es poco probable que este resultado sea debido al azar.\n",
    "\n",
    "Sobre los controles: \n",
    "\n",
    ".-gender_male: Negativo y significativo (coeficiente = -0.1543, p = 0.017), sugiriendo que ser hombre está asociado con una reducción en el resultado y en comparación con la categoría de referencia (probablemente gender_transgender).\n",
    "\n",
    ".-partners1: Negativo y significativo (coeficiente = -0.0576, p = 0.018), indicando que tener más de una pareja reduce el valor de y.\n",
    "\n",
    ".-postlaunch: Positivo y significativo (coeficiente = 0.0748, p = 0.001), sugiriendo que el periodo postlanzamiento del servicio de pruebas tiene un efecto positivo en el resultado y.\n",
    "\n",
    ".-age: Positivo y significativo (coeficiente = 0.0126, p = 0.000), indicando que la edad está positivamente asociada con el resultado y.\n",
    "\n",
    "Los demás controles no son significativos, lo que sugiere que no hay diferencias sustanciales en el resultado y en función a dichas variables."
   ]
  },
  {
   "cell_type": "markdown",
   "id": "7f7e2002-7ec2-458d-8354-e903854830f5",
   "metadata": {},
   "source": [
    "### Y ~ T + X DOUBLE LASSO"
   ]
  },
  {
   "cell_type": "code",
   "execution_count": 3,
   "id": "167c4e6c-cd70-4187-95b1-af2b849d2620",
   "metadata": {},
   "outputs": [
    {
     "name": "stdout",
     "output_type": "stream",
     "text": [
      "const                       0.000000\n",
      "w                           0.249733\n",
      "gender_female               0.000000\n",
      "gender_male                -0.097209\n",
      "gender_transgender          0.000000\n",
      "ethnicgrp_asian            -0.000000\n",
      "ethnicgrp_black            -0.000000\n",
      "ethnicgrp_mixed_multiple    0.000000\n",
      "ethnicgrp_other             0.000000\n",
      "ethnicgrp_white             0.041119\n",
      "partners1                  -0.021628\n",
      "postlaunch                  0.068194\n",
      "msm                        -0.000000\n",
      "age                         0.013087\n",
      "imd_decile                 -0.003517\n",
      "dtype: float64\n"
     ]
    }
   ],
   "source": [
    "#Double Lasso con controles: Y ~ T + X\n",
    "from sklearn.linear_model import LassoCV\n",
    "from sklearn.model_selection import train_test_split\n",
    "\n",
    "X_train, X_test, Y_train, Y_test = train_test_split(X, Y, test_size=0.3, random_state=42)\n",
    "\n",
    "lasso = LassoCV(cv=10).fit(X_train, Y_train)\n",
    "\n",
    "lasso_coef = pd.Series(lasso.coef_, index=X.columns)\n",
    "print(lasso_coef)\n"
   ]
  },
  {
   "cell_type": "markdown",
   "id": "23fdbbf2-e676-4ab3-9805-fc90005cd867",
   "metadata": {},
   "source": [
    "Ambos métodos indican que el tratamiento tiene un efecto positivo y significativo sobre el resultado. El coeficiente es ligeramente menor en el modelo Double Lasso, pero sigue siendo consistente en dirección y magnitud, lo que refuerza la conclusión de que el servicio de pruebas eSTI en línea es efectivo.\n",
    "\n",
    "Sobre los controles, gender_male sigue siendo negativo y significativo, aunque con un coeficiente más pequeño, lo que sugiere una penalización menor en comparación con el modelo de regresión múltiple. Por otro lado, a diferencia de la regresión lineal donde nigún grupo étnico es significativo se mantiene ethnicgrp_white, que tiene un coeficiente positivo pequeño. Esto sugiere que ser blanco podría tener una pequeña asociación positiva con el resultado, aunque esta conclusión debe tomarse con cautela debido a la eliminación de otros grupos étnicos. Además de esto, ambos métodos coinciden en que postlaunch y age son positivos y significativos, lo que indica que el periodo postlanzamiento y la edad tienen un impacto positivo en el resultado. Por último, partners1 es negativo y significativo en ambos modelos, aunque el impacto es menor en el modelo Double Lasso."
   ]
  },
  {
   "cell_type": "code",
   "execution_count": 4,
   "id": "5151560b-b8bd-4d88-8bc6-d28677ad0683",
   "metadata": {},
   "outputs": [
    {
     "data": {
      "image/png": "[encoded data removed]",
      "text/plain": [
       "<Figure size 1000x600 with 1 Axes>"
      ]
     },
     "metadata": {},
     "output_type": "display_data"
    }
   ],
   "source": [
    "#Comparación entre los coeficientes: regresión lineal, regresión lineal con controles, Double Lasso con controles\n",
    "\n",
    "import matplotlib.pyplot as plt\n",
    "\n",
    "X_simple = sm.add_constant(data['w'])\n",
    "model1 = sm.OLS(Y, X_simple).fit()\n",
    "\n",
    "model2 = model\n",
    "\n",
    "coefficients = pd.DataFrame({\n",
    "    'Model': ['Simple Linear Regression', 'Multiple Linear Regression', 'Double Lasso'],\n",
    "    'Coefficient': [model1.params['w'], model2.params['w'], lasso_coef['w']]\n",
    "})\n",
    "\n",
    "plt.figure(figsize=(10, 6))\n",
    "plt.bar(coefficients['Model'], coefficients['Coefficient'], color=['blue', 'green', 'red'])\n",
    "plt.xlabel('Model')\n",
    "plt.ylabel('Coefficient of T (w)')\n",
    "plt.title('Comparison of Treatment Coefficients Across Models')\n",
    "plt.show()"
   ]
  },
  {
   "cell_type": "markdown",
   "id": "bbde7e18-ad97-4c6e-9e1b-9bce91e23641",
   "metadata": {},
   "source": [
    "# Non-Linear Methods DML"
   ]
  },
  {
   "cell_type": "code",
   "execution_count": 67,
   "id": "3a9f242c-33fc-49bc-a287-104a06c0db2f",
   "metadata": {},
   "outputs": [],
   "source": [
    "import pandas as pd\n",
    "import numpy as np\n",
    "from sklearn.linear_model import Lasso\n",
    "from sklearn.model_selection import train_test_split\n",
    "from sklearn.ensemble import RandomForestRegressor\n",
    "from sklearn.metrics import mean_squared_error\n",
    "from sklearn.ensemble import GradientBoostingRegressor"
   ]
  },
  {
   "cell_type": "code",
   "execution_count": 68,
   "id": "ae176354-aef9-4a21-87d2-ba8871118234",
   "metadata": {},
   "outputs": [],
   "source": [
    "# Upload data\n",
    "data = pd.read_csv('/Users/fernandaamartel/Downloads/processed_esti.csv')"
   ]
  },
  {
   "cell_type": "code",
   "execution_count": 69,
   "id": "bff73d76-5be7-4e06-a049-030a8b8ec368",
   "metadata": {},
   "outputs": [
    {
     "name": "stdout",
     "output_type": "stream",
     "text": [
      "   y  w  gender_female  gender_male  gender_transgender  ethnicgrp_asian  \\\n",
      "0  1  1              0            1                   0                0   \n",
      "1  0  0              0            1                   0                0   \n",
      "2  0  1              0            1                   0                0   \n",
      "3  0  0              1            0                   0                0   \n",
      "4  1  1              1            0                   0                1   \n",
      "\n",
      "   ethnicgrp_black  ethnicgrp_mixed_multiple  ethnicgrp_other  \\\n",
      "0                0                         1                0   \n",
      "1                0                         0                0   \n",
      "2                1                         0                0   \n",
      "3                0                         0                0   \n",
      "4                0                         0                0   \n",
      "\n",
      "   ethnicgrp_white  partners1  postlaunch  msm  age  imd_decile  \n",
      "0                0          0           1    0   27           5  \n",
      "1                1          0           0    0   19           6  \n",
      "2                0          0           1    0   26           4  \n",
      "3                1          1           0    0   20           2  \n",
      "4                0          0           1    0   24           3  \n"
     ]
    }
   ],
   "source": [
    "# Print data\n",
    "print(data.head())"
   ]
  },
  {
   "cell_type": "code",
   "execution_count": 70,
   "id": "f89b9fd0-8be6-445f-8df7-d3b43c801159",
   "metadata": {},
   "outputs": [],
   "source": [
    "y = data['y'] \n",
    "T = data['w'] \n",
    "X = data.drop(columns=['y', 'w'])"
   ]
  },
  {
   "cell_type": "code",
   "execution_count": 71,
   "id": "c0638c55-7d2c-4e5b-85c5-195da4191a06",
   "metadata": {},
   "outputs": [],
   "source": [
    "X_train, X_test, y_train, y_test, T_train, T_test = train_test_split(X, y, T, test_size=0.2, random_state=42)"
   ]
  },
  {
   "cell_type": "markdown",
   "id": "8c8f039f-7339-4951-847c-fd289a2cbf5a",
   "metadata": {},
   "source": [
    "## Lasso"
   ]
  },
  {
   "cell_type": "code",
   "execution_count": 72,
   "id": "37bdde23-f87d-46ff-ac42-ac90dfe59a12",
   "metadata": {},
   "outputs": [],
   "source": [
    "model_t = Lasso(alpha=0.1)\n",
    "model_t.fit(X_train, T_train)\n",
    "T_pred = model_t.predict(X_test)"
   ]
  },
  {
   "cell_type": "code",
   "execution_count": 73,
   "id": "ba40051b-f8ce-43a9-9b96-772fc530931e",
   "metadata": {},
   "outputs": [],
   "source": [
    "model_y = Lasso(alpha=0.1)\n",
    "model_y.fit(X_train, y_train)\n",
    "y_pred = model_y.predict(X_test)"
   ]
  },
  {
   "cell_type": "code",
   "execution_count": 74,
   "id": "3266e0ce-89ae-47c8-8648-551fe050bbbd",
   "metadata": {},
   "outputs": [],
   "source": [
    "residuals_T = T_test.values - T_pred\n",
    "residuals_Y = y_test.values - y_pred"
   ]
  },
  {
   "cell_type": "code",
   "execution_count": 75,
   "id": "359da9b9-b18c-425e-b549-49a1e2e8db10",
   "metadata": {},
   "outputs": [],
   "source": [
    "model_effect = Lasso(alpha=0.1)\n",
    "model_effect.fit(residuals_T.reshape(-1, 1), residuals_Y)\n",
    "treatment_effects = model_effect.coef_[0]"
   ]
  },
  {
   "cell_type": "code",
   "execution_count": 76,
   "id": "7dac3591-847c-4bed-acf2-74db27b91195",
   "metadata": {},
   "outputs": [
    {
     "name": "stdout",
     "output_type": "stream",
     "text": [
      "Estimated Treatment Effect: 0.0000\n"
     ]
    }
   ],
   "source": [
    "print(f\"Estimated Treatment Effect: {treatment_effects:.4f}\")"
   ]
  },
  {
   "cell_type": "markdown",
   "id": "b1b628dc-a880-49eb-8f10-f2be4faab233",
   "metadata": {},
   "source": [
    "#### Interpretation:"
   ]
  },
  {
   "cell_type": "markdown",
   "id": "732ba864-8434-42c8-982c-017e21e0493b",
   "metadata": {},
   "source": [
    "There is no statistically significant relationship between the treatment variable and the dependent variable."
   ]
  },
  {
   "cell_type": "markdown",
   "id": "edc42589-8a83-4d78-af3c-0718de5badd6",
   "metadata": {},
   "source": [
    "## Regression Trees"
   ]
  },
  {
   "cell_type": "code",
   "execution_count": 77,
   "id": "88a8e88f-15b3-45a9-85c0-acf9977d9485",
   "metadata": {},
   "outputs": [
    {
     "data": {
      "text/html": [
       "<style>#sk-container-id-9 {color: black;background-color: white;}#sk-container-id-9 pre{padding: 0;}#sk-container-id-9 div.sk-toggleable {background-color: white;}#sk-container-id-9 label.sk-toggleable__label {cursor: pointer;display: block;width: 100%;margin-bottom: 0;padding: 0.3em;box-sizing: border-box;text-align: center;}#sk-container-id-9 label.sk-toggleable__label-arrow:before {content: \"▸\";float: left;margin-right: 0.25em;color: #696969;}#sk-container-id-9 label.sk-toggleable__label-arrow:hover:before {color: black;}#sk-container-id-9 div.sk-estimator:hover label.sk-toggleable__label-arrow:before {color: black;}#sk-container-id-9 div.sk-toggleable__content {max-height: 0;max-width: 0;overflow: hidden;text-align: left;background-color: #f0f8ff;}#sk-container-id-9 div.sk-toggleable__content pre {margin: 0.2em;color: black;border-radius: 0.25em;background-color: #f0f8ff;}#sk-container-id-9 input.sk-toggleable__control:checked~div.sk-toggleable__content {max-height: 200px;max-width: 100%;overflow: auto;}#sk-container-id-9 input.sk-toggleable__control:checked~label.sk-toggleable__label-arrow:before {content: \"▾\";}#sk-container-id-9 div.sk-estimator input.sk-toggleable__control:checked~label.sk-toggleable__label {background-color: #d4ebff;}#sk-container-id-9 div.sk-label input.sk-toggleable__control:checked~label.sk-toggleable__label {background-color: #d4ebff;}#sk-container-id-9 input.sk-hidden--visually {border: 0;clip: rect(1px 1px 1px 1px);clip: rect(1px, 1px, 1px, 1px);height: 1px;margin: -1px;overflow: hidden;padding: 0;position: absolute;width: 1px;}#sk-container-id-9 div.sk-estimator {font-family: monospace;background-color: #f0f8ff;border: 1px dotted black;border-radius: 0.25em;box-sizing: border-box;margin-bottom: 0.5em;}#sk-container-id-9 div.sk-estimator:hover {background-color: #d4ebff;}#sk-container-id-9 div.sk-parallel-item::after {content: \"\";width: 100%;border-bottom: 1px solid gray;flex-grow: 1;}#sk-container-id-9 div.sk-label:hover label.sk-toggleable__label {background-color: #d4ebff;}#sk-container-id-9 div.sk-serial::before {content: \"\";position: absolute;border-left: 1px solid gray;box-sizing: border-box;top: 0;bottom: 0;left: 50%;z-index: 0;}#sk-container-id-9 div.sk-serial {display: flex;flex-direction: column;align-items: center;background-color: white;padding-right: 0.2em;padding-left: 0.2em;position: relative;}#sk-container-id-9 div.sk-item {position: relative;z-index: 1;}#sk-container-id-9 div.sk-parallel {display: flex;align-items: stretch;justify-content: center;background-color: white;position: relative;}#sk-container-id-9 div.sk-item::before, #sk-container-id-9 div.sk-parallel-item::before {content: \"\";position: absolute;border-left: 1px solid gray;box-sizing: border-box;top: 0;bottom: 0;left: 50%;z-index: -1;}#sk-container-id-9 div.sk-parallel-item {display: flex;flex-direction: column;z-index: 1;position: relative;background-color: white;}#sk-container-id-9 div.sk-parallel-item:first-child::after {align-self: flex-end;width: 50%;}#sk-container-id-9 div.sk-parallel-item:last-child::after {align-self: flex-start;width: 50%;}#sk-container-id-9 div.sk-parallel-item:only-child::after {width: 0;}#sk-container-id-9 div.sk-dashed-wrapped {border: 1px dashed gray;margin: 0 0.4em 0.5em 0.4em;box-sizing: border-box;padding-bottom: 0.4em;background-color: white;}#sk-container-id-9 div.sk-label label {font-family: monospace;font-weight: bold;display: inline-block;line-height: 1.2em;}#sk-container-id-9 div.sk-label-container {text-align: center;}#sk-container-id-9 div.sk-container {/* jupyter's `normalize.less` sets `[hidden] { display: none; }` but bootstrap.min.css set `[hidden] { display: none !important; }` so we also need the `!important` here to be able to override the default hidden behavior on the sphinx rendered scikit-learn.org. See: https://github.com/scikit-learn/scikit-learn/issues/21755 */display: inline-block !important;position: relative;}#sk-container-id-9 div.sk-text-repr-fallback {display: none;}</style><div id=\"sk-container-id-9\" class=\"sk-top-container\"><div class=\"sk-text-repr-fallback\"><pre>RandomForestRegressor(random_state=42)</pre><b>In a Jupyter environment, please rerun this cell to show the HTML representation or trust the notebook. <br />On GitHub, the HTML representation is unable to render, please try loading this page with nbviewer.org.</b></div><div class=\"sk-container\" hidden><div class=\"sk-item\"><div class=\"sk-estimator sk-toggleable\"><input class=\"sk-toggleable__control sk-hidden--visually\" id=\"sk-estimator-id-9\" type=\"checkbox\" checked><label for=\"sk-estimator-id-9\" class=\"sk-toggleable__label sk-toggleable__label-arrow\">RandomForestRegressor</label><div class=\"sk-toggleable__content\"><pre>RandomForestRegressor(random_state=42)</pre></div></div></div></div></div>"
      ],
      "text/plain": [
       "RandomForestRegressor(random_state=42)"
      ]
     },
     "execution_count": 77,
     "metadata": {},
     "output_type": "execute_result"
    }
   ],
   "source": [
    "# Fit Random Forest for Y\n",
    "model_y = RandomForestRegressor(random_state=42)\n",
    "model_y.fit(X_train, y_train)\n",
    "\n",
    "# Fit Random Forest for T\n",
    "model_t = RandomForestRegressor(random_state=42)\n",
    "model_t.fit(X_train, T_train)"
   ]
  },
  {
   "cell_type": "code",
   "execution_count": 78,
   "id": "a1901f70-8b06-46d3-8ac3-538e1d7172c8",
   "metadata": {},
   "outputs": [],
   "source": [
    "y_pred = model_y.predict(X_test)\n",
    "T_pred = model_t.predict(X_test)"
   ]
  },
  {
   "cell_type": "code",
   "execution_count": 79,
   "id": "2b0df3d9-9ed7-4b84-b874-aceb83bb63b5",
   "metadata": {},
   "outputs": [],
   "source": [
    "residuals_y = y_test - y_pred\n",
    "residuals_t = T_test - T_pred"
   ]
  },
  {
   "cell_type": "code",
   "execution_count": 80,
   "id": "7c74fe86-cf88-4654-999a-6f782f547e88",
   "metadata": {},
   "outputs": [],
   "source": [
    "residuals_y = residuals_y.values.reshape(-1, 1)\n",
    "residuals_t = residuals_t.values.reshape(-1, 1)"
   ]
  },
  {
   "cell_type": "code",
   "execution_count": 81,
   "id": "6ca35978-db52-40c2-8781-ce8810fc8be1",
   "metadata": {},
   "outputs": [
    {
     "name": "stderr",
     "output_type": "stream",
     "text": [
      "/var/folders/_t/77pjth2j05lf_rl53gvvpwh80000gn/T/ipykernel_61645/756431601.py:2: DataConversionWarning: A column-vector y was passed when a 1d array was expected. Please change the shape of y to (n_samples,), for example using ravel().\n",
      "  model_effect.fit(residuals_t, residuals_y)\n"
     ]
    },
    {
     "data": {
      "text/html": [
       "<style>#sk-container-id-10 {color: black;background-color: white;}#sk-container-id-10 pre{padding: 0;}#sk-container-id-10 div.sk-toggleable {background-color: white;}#sk-container-id-10 label.sk-toggleable__label {cursor: pointer;display: block;width: 100%;margin-bottom: 0;padding: 0.3em;box-sizing: border-box;text-align: center;}#sk-container-id-10 label.sk-toggleable__label-arrow:before {content: \"▸\";float: left;margin-right: 0.25em;color: #696969;}#sk-container-id-10 label.sk-toggleable__label-arrow:hover:before {color: black;}#sk-container-id-10 div.sk-estimator:hover label.sk-toggleable__label-arrow:before {color: black;}#sk-container-id-10 div.sk-toggleable__content {max-height: 0;max-width: 0;overflow: hidden;text-align: left;background-color: #f0f8ff;}#sk-container-id-10 div.sk-toggleable__content pre {margin: 0.2em;color: black;border-radius: 0.25em;background-color: #f0f8ff;}#sk-container-id-10 input.sk-toggleable__control:checked~div.sk-toggleable__content {max-height: 200px;max-width: 100%;overflow: auto;}#sk-container-id-10 input.sk-toggleable__control:checked~label.sk-toggleable__label-arrow:before {content: \"▾\";}#sk-container-id-10 div.sk-estimator input.sk-toggleable__control:checked~label.sk-toggleable__label {background-color: #d4ebff;}#sk-container-id-10 div.sk-label input.sk-toggleable__control:checked~label.sk-toggleable__label {background-color: #d4ebff;}#sk-container-id-10 input.sk-hidden--visually {border: 0;clip: rect(1px 1px 1px 1px);clip: rect(1px, 1px, 1px, 1px);height: 1px;margin: -1px;overflow: hidden;padding: 0;position: absolute;width: 1px;}#sk-container-id-10 div.sk-estimator {font-family: monospace;background-color: #f0f8ff;border: 1px dotted black;border-radius: 0.25em;box-sizing: border-box;margin-bottom: 0.5em;}#sk-container-id-10 div.sk-estimator:hover {background-color: #d4ebff;}#sk-container-id-10 div.sk-parallel-item::after {content: \"\";width: 100%;border-bottom: 1px solid gray;flex-grow: 1;}#sk-container-id-10 div.sk-label:hover label.sk-toggleable__label {background-color: #d4ebff;}#sk-container-id-10 div.sk-serial::before {content: \"\";position: absolute;border-left: 1px solid gray;box-sizing: border-box;top: 0;bottom: 0;left: 50%;z-index: 0;}#sk-container-id-10 div.sk-serial {display: flex;flex-direction: column;align-items: center;background-color: white;padding-right: 0.2em;padding-left: 0.2em;position: relative;}#sk-container-id-10 div.sk-item {position: relative;z-index: 1;}#sk-container-id-10 div.sk-parallel {display: flex;align-items: stretch;justify-content: center;background-color: white;position: relative;}#sk-container-id-10 div.sk-item::before, #sk-container-id-10 div.sk-parallel-item::before {content: \"\";position: absolute;border-left: 1px solid gray;box-sizing: border-box;top: 0;bottom: 0;left: 50%;z-index: -1;}#sk-container-id-10 div.sk-parallel-item {display: flex;flex-direction: column;z-index: 1;position: relative;background-color: white;}#sk-container-id-10 div.sk-parallel-item:first-child::after {align-self: flex-end;width: 50%;}#sk-container-id-10 div.sk-parallel-item:last-child::after {align-self: flex-start;width: 50%;}#sk-container-id-10 div.sk-parallel-item:only-child::after {width: 0;}#sk-container-id-10 div.sk-dashed-wrapped {border: 1px dashed gray;margin: 0 0.4em 0.5em 0.4em;box-sizing: border-box;padding-bottom: 0.4em;background-color: white;}#sk-container-id-10 div.sk-label label {font-family: monospace;font-weight: bold;display: inline-block;line-height: 1.2em;}#sk-container-id-10 div.sk-label-container {text-align: center;}#sk-container-id-10 div.sk-container {/* jupyter's `normalize.less` sets `[hidden] { display: none; }` but bootstrap.min.css set `[hidden] { display: none !important; }` so we also need the `!important` here to be able to override the default hidden behavior on the sphinx rendered scikit-learn.org. See: https://github.com/scikit-learn/scikit-learn/issues/21755 */display: inline-block !important;position: relative;}#sk-container-id-10 div.sk-text-repr-fallback {display: none;}</style><div id=\"sk-container-id-10\" class=\"sk-top-container\"><div class=\"sk-text-repr-fallback\"><pre>RandomForestRegressor(random_state=42)</pre><b>In a Jupyter environment, please rerun this cell to show the HTML representation or trust the notebook. <br />On GitHub, the HTML representation is unable to render, please try loading this page with nbviewer.org.</b></div><div class=\"sk-container\" hidden><div class=\"sk-item\"><div class=\"sk-estimator sk-toggleable\"><input class=\"sk-toggleable__control sk-hidden--visually\" id=\"sk-estimator-id-10\" type=\"checkbox\" checked><label for=\"sk-estimator-id-10\" class=\"sk-toggleable__label sk-toggleable__label-arrow\">RandomForestRegressor</label><div class=\"sk-toggleable__content\"><pre>RandomForestRegressor(random_state=42)</pre></div></div></div></div></div>"
      ],
      "text/plain": [
       "RandomForestRegressor(random_state=42)"
      ]
     },
     "execution_count": 81,
     "metadata": {},
     "output_type": "execute_result"
    }
   ],
   "source": [
    "model_effect = RandomForestRegressor(random_state=42)\n",
    "model_effect.fit(residuals_t, residuals_y)"
   ]
  },
  {
   "cell_type": "code",
   "execution_count": 82,
   "id": "b1f24c13-7e3e-4206-a382-aef7c0238d0d",
   "metadata": {},
   "outputs": [],
   "source": [
    "treatment_effects = model_effect.predict(residuals_t)"
   ]
  },
  {
   "cell_type": "code",
   "execution_count": 83,
   "id": "0519faeb-e87e-4a92-98c6-931ba6991bfb",
   "metadata": {},
   "outputs": [],
   "source": [
    "mse_y = mean_squared_error(y_test, y_pred)\n",
    "mse_t = mean_squared_error(T_test, T_pred)"
   ]
  },
  {
   "cell_type": "code",
   "execution_count": 84,
   "id": "cc42f0d3-53dc-4f81-98cc-6ba1c8efb9fe",
   "metadata": {},
   "outputs": [
    {
     "name": "stdout",
     "output_type": "stream",
     "text": [
      "Results:\n",
      "                       Metric     Value\n",
      "0      Mean Squared Error (Y)  0.259589\n",
      "1      Mean Squared Error (T)  0.334393\n",
      "2  Estimated Treatment Effect  0.124282\n"
     ]
    }
   ],
   "source": [
    "results_table = pd.DataFrame({\n",
    "    \"Metric\": [\"Mean Squared Error (Y)\", \"Mean Squared Error (T)\", \"Estimated Treatment Effect\"],\n",
    "    \"Value\": [mse_y, mse_t, treatment_effects[0]]  # Assuming treatment_effects is a single value\n",
    "})\n",
    "\n",
    "print(\"Results:\")\n",
    "print(results_table)"
   ]
  },
  {
   "cell_type": "markdown",
   "id": "6eb9fd16-4ac4-4b24-a93b-d358145f0c6e",
   "metadata": {},
   "source": [
    "#### Interpretation"
   ]
  },
  {
   "cell_type": "markdown",
   "id": "1b3dc1c6-f4b2-4e4c-a0e1-c87492e36d59",
   "metadata": {},
   "source": [
    "The treatment is estimated to have a causal effect on the Y: the expected increase in Y, on average, is 12.43%."
   ]
  },
  {
   "cell_type": "markdown",
   "id": "0ee957b4-2e8e-4683-acb5-cd3e5ce1a397",
   "metadata": {},
   "source": [
    "## Boosting Trees"
   ]
  },
  {
   "cell_type": "code",
   "execution_count": 85,
   "id": "6f413c9f-2922-42a5-87c3-d3a3534802e8",
   "metadata": {},
   "outputs": [
    {
     "data": {
      "text/html": [
       "<style>#sk-container-id-11 {color: black;background-color: white;}#sk-container-id-11 pre{padding: 0;}#sk-container-id-11 div.sk-toggleable {background-color: white;}#sk-container-id-11 label.sk-toggleable__label {cursor: pointer;display: block;width: 100%;margin-bottom: 0;padding: 0.3em;box-sizing: border-box;text-align: center;}#sk-container-id-11 label.sk-toggleable__label-arrow:before {content: \"▸\";float: left;margin-right: 0.25em;color: #696969;}#sk-container-id-11 label.sk-toggleable__label-arrow:hover:before {color: black;}#sk-container-id-11 div.sk-estimator:hover label.sk-toggleable__label-arrow:before {color: black;}#sk-container-id-11 div.sk-toggleable__content {max-height: 0;max-width: 0;overflow: hidden;text-align: left;background-color: #f0f8ff;}#sk-container-id-11 div.sk-toggleable__content pre {margin: 0.2em;color: black;border-radius: 0.25em;background-color: #f0f8ff;}#sk-container-id-11 input.sk-toggleable__control:checked~div.sk-toggleable__content {max-height: 200px;max-width: 100%;overflow: auto;}#sk-container-id-11 input.sk-toggleable__control:checked~label.sk-toggleable__label-arrow:before {content: \"▾\";}#sk-container-id-11 div.sk-estimator input.sk-toggleable__control:checked~label.sk-toggleable__label {background-color: #d4ebff;}#sk-container-id-11 div.sk-label input.sk-toggleable__control:checked~label.sk-toggleable__label {background-color: #d4ebff;}#sk-container-id-11 input.sk-hidden--visually {border: 0;clip: rect(1px 1px 1px 1px);clip: rect(1px, 1px, 1px, 1px);height: 1px;margin: -1px;overflow: hidden;padding: 0;position: absolute;width: 1px;}#sk-container-id-11 div.sk-estimator {font-family: monospace;background-color: #f0f8ff;border: 1px dotted black;border-radius: 0.25em;box-sizing: border-box;margin-bottom: 0.5em;}#sk-container-id-11 div.sk-estimator:hover {background-color: #d4ebff;}#sk-container-id-11 div.sk-parallel-item::after {content: \"\";width: 100%;border-bottom: 1px solid gray;flex-grow: 1;}#sk-container-id-11 div.sk-label:hover label.sk-toggleable__label {background-color: #d4ebff;}#sk-container-id-11 div.sk-serial::before {content: \"\";position: absolute;border-left: 1px solid gray;box-sizing: border-box;top: 0;bottom: 0;left: 50%;z-index: 0;}#sk-container-id-11 div.sk-serial {display: flex;flex-direction: column;align-items: center;background-color: white;padding-right: 0.2em;padding-left: 0.2em;position: relative;}#sk-container-id-11 div.sk-item {position: relative;z-index: 1;}#sk-container-id-11 div.sk-parallel {display: flex;align-items: stretch;justify-content: center;background-color: white;position: relative;}#sk-container-id-11 div.sk-item::before, #sk-container-id-11 div.sk-parallel-item::before {content: \"\";position: absolute;border-left: 1px solid gray;box-sizing: border-box;top: 0;bottom: 0;left: 50%;z-index: -1;}#sk-container-id-11 div.sk-parallel-item {display: flex;flex-direction: column;z-index: 1;position: relative;background-color: white;}#sk-container-id-11 div.sk-parallel-item:first-child::after {align-self: flex-end;width: 50%;}#sk-container-id-11 div.sk-parallel-item:last-child::after {align-self: flex-start;width: 50%;}#sk-container-id-11 div.sk-parallel-item:only-child::after {width: 0;}#sk-container-id-11 div.sk-dashed-wrapped {border: 1px dashed gray;margin: 0 0.4em 0.5em 0.4em;box-sizing: border-box;padding-bottom: 0.4em;background-color: white;}#sk-container-id-11 div.sk-label label {font-family: monospace;font-weight: bold;display: inline-block;line-height: 1.2em;}#sk-container-id-11 div.sk-label-container {text-align: center;}#sk-container-id-11 div.sk-container {/* jupyter's `normalize.less` sets `[hidden] { display: none; }` but bootstrap.min.css set `[hidden] { display: none !important; }` so we also need the `!important` here to be able to override the default hidden behavior on the sphinx rendered scikit-learn.org. See: https://github.com/scikit-learn/scikit-learn/issues/21755 */display: inline-block !important;position: relative;}#sk-container-id-11 div.sk-text-repr-fallback {display: none;}</style><div id=\"sk-container-id-11\" class=\"sk-top-container\"><div class=\"sk-text-repr-fallback\"><pre>GradientBoostingRegressor(random_state=42)</pre><b>In a Jupyter environment, please rerun this cell to show the HTML representation or trust the notebook. <br />On GitHub, the HTML representation is unable to render, please try loading this page with nbviewer.org.</b></div><div class=\"sk-container\" hidden><div class=\"sk-item\"><div class=\"sk-estimator sk-toggleable\"><input class=\"sk-toggleable__control sk-hidden--visually\" id=\"sk-estimator-id-11\" type=\"checkbox\" checked><label for=\"sk-estimator-id-11\" class=\"sk-toggleable__label sk-toggleable__label-arrow\">GradientBoostingRegressor</label><div class=\"sk-toggleable__content\"><pre>GradientBoostingRegressor(random_state=42)</pre></div></div></div></div></div>"
      ],
      "text/plain": [
       "GradientBoostingRegressor(random_state=42)"
      ]
     },
     "execution_count": 85,
     "metadata": {},
     "output_type": "execute_result"
    }
   ],
   "source": [
    "model_y = GradientBoostingRegressor(random_state=42)\n",
    "model_y.fit(X_train, y_train)"
   ]
  },
  {
   "cell_type": "code",
   "execution_count": 86,
   "id": "06b78c1d-406d-4c40-91a0-cc448149211b",
   "metadata": {},
   "outputs": [
    {
     "data": {
      "text/html": [
       "<style>#sk-container-id-12 {color: black;background-color: white;}#sk-container-id-12 pre{padding: 0;}#sk-container-id-12 div.sk-toggleable {background-color: white;}#sk-container-id-12 label.sk-toggleable__label {cursor: pointer;display: block;width: 100%;margin-bottom: 0;padding: 0.3em;box-sizing: border-box;text-align: center;}#sk-container-id-12 label.sk-toggleable__label-arrow:before {content: \"▸\";float: left;margin-right: 0.25em;color: #696969;}#sk-container-id-12 label.sk-toggleable__label-arrow:hover:before {color: black;}#sk-container-id-12 div.sk-estimator:hover label.sk-toggleable__label-arrow:before {color: black;}#sk-container-id-12 div.sk-toggleable__content {max-height: 0;max-width: 0;overflow: hidden;text-align: left;background-color: #f0f8ff;}#sk-container-id-12 div.sk-toggleable__content pre {margin: 0.2em;color: black;border-radius: 0.25em;background-color: #f0f8ff;}#sk-container-id-12 input.sk-toggleable__control:checked~div.sk-toggleable__content {max-height: 200px;max-width: 100%;overflow: auto;}#sk-container-id-12 input.sk-toggleable__control:checked~label.sk-toggleable__label-arrow:before {content: \"▾\";}#sk-container-id-12 div.sk-estimator input.sk-toggleable__control:checked~label.sk-toggleable__label {background-color: #d4ebff;}#sk-container-id-12 div.sk-label input.sk-toggleable__control:checked~label.sk-toggleable__label {background-color: #d4ebff;}#sk-container-id-12 input.sk-hidden--visually {border: 0;clip: rect(1px 1px 1px 1px);clip: rect(1px, 1px, 1px, 1px);height: 1px;margin: -1px;overflow: hidden;padding: 0;position: absolute;width: 1px;}#sk-container-id-12 div.sk-estimator {font-family: monospace;background-color: #f0f8ff;border: 1px dotted black;border-radius: 0.25em;box-sizing: border-box;margin-bottom: 0.5em;}#sk-container-id-12 div.sk-estimator:hover {background-color: #d4ebff;}#sk-container-id-12 div.sk-parallel-item::after {content: \"\";width: 100%;border-bottom: 1px solid gray;flex-grow: 1;}#sk-container-id-12 div.sk-label:hover label.sk-toggleable__label {background-color: #d4ebff;}#sk-container-id-12 div.sk-serial::before {content: \"\";position: absolute;border-left: 1px solid gray;box-sizing: border-box;top: 0;bottom: 0;left: 50%;z-index: 0;}#sk-container-id-12 div.sk-serial {display: flex;flex-direction: column;align-items: center;background-color: white;padding-right: 0.2em;padding-left: 0.2em;position: relative;}#sk-container-id-12 div.sk-item {position: relative;z-index: 1;}#sk-container-id-12 div.sk-parallel {display: flex;align-items: stretch;justify-content: center;background-color: white;position: relative;}#sk-container-id-12 div.sk-item::before, #sk-container-id-12 div.sk-parallel-item::before {content: \"\";position: absolute;border-left: 1px solid gray;box-sizing: border-box;top: 0;bottom: 0;left: 50%;z-index: -1;}#sk-container-id-12 div.sk-parallel-item {display: flex;flex-direction: column;z-index: 1;position: relative;background-color: white;}#sk-container-id-12 div.sk-parallel-item:first-child::after {align-self: flex-end;width: 50%;}#sk-container-id-12 div.sk-parallel-item:last-child::after {align-self: flex-start;width: 50%;}#sk-container-id-12 div.sk-parallel-item:only-child::after {width: 0;}#sk-container-id-12 div.sk-dashed-wrapped {border: 1px dashed gray;margin: 0 0.4em 0.5em 0.4em;box-sizing: border-box;padding-bottom: 0.4em;background-color: white;}#sk-container-id-12 div.sk-label label {font-family: monospace;font-weight: bold;display: inline-block;line-height: 1.2em;}#sk-container-id-12 div.sk-label-container {text-align: center;}#sk-container-id-12 div.sk-container {/* jupyter's `normalize.less` sets `[hidden] { display: none; }` but bootstrap.min.css set `[hidden] { display: none !important; }` so we also need the `!important` here to be able to override the default hidden behavior on the sphinx rendered scikit-learn.org. See: https://github.com/scikit-learn/scikit-learn/issues/21755 */display: inline-block !important;position: relative;}#sk-container-id-12 div.sk-text-repr-fallback {display: none;}</style><div id=\"sk-container-id-12\" class=\"sk-top-container\"><div class=\"sk-text-repr-fallback\"><pre>GradientBoostingRegressor(random_state=42)</pre><b>In a Jupyter environment, please rerun this cell to show the HTML representation or trust the notebook. <br />On GitHub, the HTML representation is unable to render, please try loading this page with nbviewer.org.</b></div><div class=\"sk-container\" hidden><div class=\"sk-item\"><div class=\"sk-estimator sk-toggleable\"><input class=\"sk-toggleable__control sk-hidden--visually\" id=\"sk-estimator-id-12\" type=\"checkbox\" checked><label for=\"sk-estimator-id-12\" class=\"sk-toggleable__label sk-toggleable__label-arrow\">GradientBoostingRegressor</label><div class=\"sk-toggleable__content\"><pre>GradientBoostingRegressor(random_state=42)</pre></div></div></div></div></div>"
      ],
      "text/plain": [
       "GradientBoostingRegressor(random_state=42)"
      ]
     },
     "execution_count": 86,
     "metadata": {},
     "output_type": "execute_result"
    }
   ],
   "source": [
    "model_t = GradientBoostingRegressor(random_state=42)\n",
    "model_t.fit(X_train, T_train)"
   ]
  },
  {
   "cell_type": "code",
   "execution_count": 87,
   "id": "86575162-dbe8-4414-bcc4-48ace28f3b28",
   "metadata": {},
   "outputs": [
    {
     "data": {
      "text/html": [
       "<style>#sk-container-id-13 {color: black;background-color: white;}#sk-container-id-13 pre{padding: 0;}#sk-container-id-13 div.sk-toggleable {background-color: white;}#sk-container-id-13 label.sk-toggleable__label {cursor: pointer;display: block;width: 100%;margin-bottom: 0;padding: 0.3em;box-sizing: border-box;text-align: center;}#sk-container-id-13 label.sk-toggleable__label-arrow:before {content: \"▸\";float: left;margin-right: 0.25em;color: #696969;}#sk-container-id-13 label.sk-toggleable__label-arrow:hover:before {color: black;}#sk-container-id-13 div.sk-estimator:hover label.sk-toggleable__label-arrow:before {color: black;}#sk-container-id-13 div.sk-toggleable__content {max-height: 0;max-width: 0;overflow: hidden;text-align: left;background-color: #f0f8ff;}#sk-container-id-13 div.sk-toggleable__content pre {margin: 0.2em;color: black;border-radius: 0.25em;background-color: #f0f8ff;}#sk-container-id-13 input.sk-toggleable__control:checked~div.sk-toggleable__content {max-height: 200px;max-width: 100%;overflow: auto;}#sk-container-id-13 input.sk-toggleable__control:checked~label.sk-toggleable__label-arrow:before {content: \"▾\";}#sk-container-id-13 div.sk-estimator input.sk-toggleable__control:checked~label.sk-toggleable__label {background-color: #d4ebff;}#sk-container-id-13 div.sk-label input.sk-toggleable__control:checked~label.sk-toggleable__label {background-color: #d4ebff;}#sk-container-id-13 input.sk-hidden--visually {border: 0;clip: rect(1px 1px 1px 1px);clip: rect(1px, 1px, 1px, 1px);height: 1px;margin: -1px;overflow: hidden;padding: 0;position: absolute;width: 1px;}#sk-container-id-13 div.sk-estimator {font-family: monospace;background-color: #f0f8ff;border: 1px dotted black;border-radius: 0.25em;box-sizing: border-box;margin-bottom: 0.5em;}#sk-container-id-13 div.sk-estimator:hover {background-color: #d4ebff;}#sk-container-id-13 div.sk-parallel-item::after {content: \"\";width: 100%;border-bottom: 1px solid gray;flex-grow: 1;}#sk-container-id-13 div.sk-label:hover label.sk-toggleable__label {background-color: #d4ebff;}#sk-container-id-13 div.sk-serial::before {content: \"\";position: absolute;border-left: 1px solid gray;box-sizing: border-box;top: 0;bottom: 0;left: 50%;z-index: 0;}#sk-container-id-13 div.sk-serial {display: flex;flex-direction: column;align-items: center;background-color: white;padding-right: 0.2em;padding-left: 0.2em;position: relative;}#sk-container-id-13 div.sk-item {position: relative;z-index: 1;}#sk-container-id-13 div.sk-parallel {display: flex;align-items: stretch;justify-content: center;background-color: white;position: relative;}#sk-container-id-13 div.sk-item::before, #sk-container-id-13 div.sk-parallel-item::before {content: \"\";position: absolute;border-left: 1px solid gray;box-sizing: border-box;top: 0;bottom: 0;left: 50%;z-index: -1;}#sk-container-id-13 div.sk-parallel-item {display: flex;flex-direction: column;z-index: 1;position: relative;background-color: white;}#sk-container-id-13 div.sk-parallel-item:first-child::after {align-self: flex-end;width: 50%;}#sk-container-id-13 div.sk-parallel-item:last-child::after {align-self: flex-start;width: 50%;}#sk-container-id-13 div.sk-parallel-item:only-child::after {width: 0;}#sk-container-id-13 div.sk-dashed-wrapped {border: 1px dashed gray;margin: 0 0.4em 0.5em 0.4em;box-sizing: border-box;padding-bottom: 0.4em;background-color: white;}#sk-container-id-13 div.sk-label label {font-family: monospace;font-weight: bold;display: inline-block;line-height: 1.2em;}#sk-container-id-13 div.sk-label-container {text-align: center;}#sk-container-id-13 div.sk-container {/* jupyter's `normalize.less` sets `[hidden] { display: none; }` but bootstrap.min.css set `[hidden] { display: none !important; }` so we also need the `!important` here to be able to override the default hidden behavior on the sphinx rendered scikit-learn.org. See: https://github.com/scikit-learn/scikit-learn/issues/21755 */display: inline-block !important;position: relative;}#sk-container-id-13 div.sk-text-repr-fallback {display: none;}</style><div id=\"sk-container-id-13\" class=\"sk-top-container\"><div class=\"sk-text-repr-fallback\"><pre>GradientBoostingRegressor(random_state=42)</pre><b>In a Jupyter environment, please rerun this cell to show the HTML representation or trust the notebook. <br />On GitHub, the HTML representation is unable to render, please try loading this page with nbviewer.org.</b></div><div class=\"sk-container\" hidden><div class=\"sk-item\"><div class=\"sk-estimator sk-toggleable\"><input class=\"sk-toggleable__control sk-hidden--visually\" id=\"sk-estimator-id-13\" type=\"checkbox\" checked><label for=\"sk-estimator-id-13\" class=\"sk-toggleable__label sk-toggleable__label-arrow\">GradientBoostingRegressor</label><div class=\"sk-toggleable__content\"><pre>GradientBoostingRegressor(random_state=42)</pre></div></div></div></div></div>"
      ],
      "text/plain": [
       "GradientBoostingRegressor(random_state=42)"
      ]
     },
     "execution_count": 87,
     "metadata": {},
     "output_type": "execute_result"
    }
   ],
   "source": [
    "model_y = GradientBoostingRegressor(random_state=42)\n",
    "model_y.fit(X_train, y_train)"
   ]
  },
  {
   "cell_type": "code",
   "execution_count": 88,
   "id": "befc9ddc-9c2c-4013-a8ab-1b1351d152db",
   "metadata": {},
   "outputs": [
    {
     "data": {
      "text/html": [
       "<style>#sk-container-id-14 {color: black;background-color: white;}#sk-container-id-14 pre{padding: 0;}#sk-container-id-14 div.sk-toggleable {background-color: white;}#sk-container-id-14 label.sk-toggleable__label {cursor: pointer;display: block;width: 100%;margin-bottom: 0;padding: 0.3em;box-sizing: border-box;text-align: center;}#sk-container-id-14 label.sk-toggleable__label-arrow:before {content: \"▸\";float: left;margin-right: 0.25em;color: #696969;}#sk-container-id-14 label.sk-toggleable__label-arrow:hover:before {color: black;}#sk-container-id-14 div.sk-estimator:hover label.sk-toggleable__label-arrow:before {color: black;}#sk-container-id-14 div.sk-toggleable__content {max-height: 0;max-width: 0;overflow: hidden;text-align: left;background-color: #f0f8ff;}#sk-container-id-14 div.sk-toggleable__content pre {margin: 0.2em;color: black;border-radius: 0.25em;background-color: #f0f8ff;}#sk-container-id-14 input.sk-toggleable__control:checked~div.sk-toggleable__content {max-height: 200px;max-width: 100%;overflow: auto;}#sk-container-id-14 input.sk-toggleable__control:checked~label.sk-toggleable__label-arrow:before {content: \"▾\";}#sk-container-id-14 div.sk-estimator input.sk-toggleable__control:checked~label.sk-toggleable__label {background-color: #d4ebff;}#sk-container-id-14 div.sk-label input.sk-toggleable__control:checked~label.sk-toggleable__label {background-color: #d4ebff;}#sk-container-id-14 input.sk-hidden--visually {border: 0;clip: rect(1px 1px 1px 1px);clip: rect(1px, 1px, 1px, 1px);height: 1px;margin: -1px;overflow: hidden;padding: 0;position: absolute;width: 1px;}#sk-container-id-14 div.sk-estimator {font-family: monospace;background-color: #f0f8ff;border: 1px dotted black;border-radius: 0.25em;box-sizing: border-box;margin-bottom: 0.5em;}#sk-container-id-14 div.sk-estimator:hover {background-color: #d4ebff;}#sk-container-id-14 div.sk-parallel-item::after {content: \"\";width: 100%;border-bottom: 1px solid gray;flex-grow: 1;}#sk-container-id-14 div.sk-label:hover label.sk-toggleable__label {background-color: #d4ebff;}#sk-container-id-14 div.sk-serial::before {content: \"\";position: absolute;border-left: 1px solid gray;box-sizing: border-box;top: 0;bottom: 0;left: 50%;z-index: 0;}#sk-container-id-14 div.sk-serial {display: flex;flex-direction: column;align-items: center;background-color: white;padding-right: 0.2em;padding-left: 0.2em;position: relative;}#sk-container-id-14 div.sk-item {position: relative;z-index: 1;}#sk-container-id-14 div.sk-parallel {display: flex;align-items: stretch;justify-content: center;background-color: white;position: relative;}#sk-container-id-14 div.sk-item::before, #sk-container-id-14 div.sk-parallel-item::before {content: \"\";position: absolute;border-left: 1px solid gray;box-sizing: border-box;top: 0;bottom: 0;left: 50%;z-index: -1;}#sk-container-id-14 div.sk-parallel-item {display: flex;flex-direction: column;z-index: 1;position: relative;background-color: white;}#sk-container-id-14 div.sk-parallel-item:first-child::after {align-self: flex-end;width: 50%;}#sk-container-id-14 div.sk-parallel-item:last-child::after {align-self: flex-start;width: 50%;}#sk-container-id-14 div.sk-parallel-item:only-child::after {width: 0;}#sk-container-id-14 div.sk-dashed-wrapped {border: 1px dashed gray;margin: 0 0.4em 0.5em 0.4em;box-sizing: border-box;padding-bottom: 0.4em;background-color: white;}#sk-container-id-14 div.sk-label label {font-family: monospace;font-weight: bold;display: inline-block;line-height: 1.2em;}#sk-container-id-14 div.sk-label-container {text-align: center;}#sk-container-id-14 div.sk-container {/* jupyter's `normalize.less` sets `[hidden] { display: none; }` but bootstrap.min.css set `[hidden] { display: none !important; }` so we also need the `!important` here to be able to override the default hidden behavior on the sphinx rendered scikit-learn.org. See: https://github.com/scikit-learn/scikit-learn/issues/21755 */display: inline-block !important;position: relative;}#sk-container-id-14 div.sk-text-repr-fallback {display: none;}</style><div id=\"sk-container-id-14\" class=\"sk-top-container\"><div class=\"sk-text-repr-fallback\"><pre>GradientBoostingRegressor(random_state=42)</pre><b>In a Jupyter environment, please rerun this cell to show the HTML representation or trust the notebook. <br />On GitHub, the HTML representation is unable to render, please try loading this page with nbviewer.org.</b></div><div class=\"sk-container\" hidden><div class=\"sk-item\"><div class=\"sk-estimator sk-toggleable\"><input class=\"sk-toggleable__control sk-hidden--visually\" id=\"sk-estimator-id-14\" type=\"checkbox\" checked><label for=\"sk-estimator-id-14\" class=\"sk-toggleable__label sk-toggleable__label-arrow\">GradientBoostingRegressor</label><div class=\"sk-toggleable__content\"><pre>GradientBoostingRegressor(random_state=42)</pre></div></div></div></div></div>"
      ],
      "text/plain": [
       "GradientBoostingRegressor(random_state=42)"
      ]
     },
     "execution_count": 88,
     "metadata": {},
     "output_type": "execute_result"
    }
   ],
   "source": [
    "model_t = GradientBoostingRegressor(random_state=42)\n",
    "model_t.fit(X_train, T_train)"
   ]
  },
  {
   "cell_type": "code",
   "execution_count": 89,
   "id": "4fb09da7-af34-4430-aa05-56133d7ed0f2",
   "metadata": {},
   "outputs": [],
   "source": [
    "y_pred = model_y.predict(X_test)\n",
    "T_pred = model_t.predict(X_test)"
   ]
  },
  {
   "cell_type": "code",
   "execution_count": 90,
   "id": "ab718806-4137-49a6-92a8-848a515ec387",
   "metadata": {},
   "outputs": [],
   "source": [
    "residuals_y = y_test - y_pred\n",
    "residuals_t = T_test - T_pred"
   ]
  },
  {
   "cell_type": "code",
   "execution_count": 91,
   "id": "56b9a4e6-6de7-4f8a-bac0-1dbfc6b97fe8",
   "metadata": {},
   "outputs": [],
   "source": [
    "residuals_y = residuals_y.values.reshape(-1, 1)\n",
    "residuals_t = residuals_t.values.reshape(-1, 1)"
   ]
  },
  {
   "cell_type": "code",
   "execution_count": 92,
   "id": "1c1904ed-b5fd-4306-8932-0bdf4adc950e",
   "metadata": {},
   "outputs": [
    {
     "name": "stderr",
     "output_type": "stream",
     "text": [
      "/opt/anaconda3/lib/python3.11/site-packages/sklearn/ensemble/_gb.py:437: DataConversionWarning: A column-vector y was passed when a 1d array was expected. Please change the shape of y to (n_samples, ), for example using ravel().\n",
      "  y = column_or_1d(y, warn=True)\n"
     ]
    },
    {
     "data": {
      "text/html": [
       "<style>#sk-container-id-15 {color: black;background-color: white;}#sk-container-id-15 pre{padding: 0;}#sk-container-id-15 div.sk-toggleable {background-color: white;}#sk-container-id-15 label.sk-toggleable__label {cursor: pointer;display: block;width: 100%;margin-bottom: 0;padding: 0.3em;box-sizing: border-box;text-align: center;}#sk-container-id-15 label.sk-toggleable__label-arrow:before {content: \"▸\";float: left;margin-right: 0.25em;color: #696969;}#sk-container-id-15 label.sk-toggleable__label-arrow:hover:before {color: black;}#sk-container-id-15 div.sk-estimator:hover label.sk-toggleable__label-arrow:before {color: black;}#sk-container-id-15 div.sk-toggleable__content {max-height: 0;max-width: 0;overflow: hidden;text-align: left;background-color: #f0f8ff;}#sk-container-id-15 div.sk-toggleable__content pre {margin: 0.2em;color: black;border-radius: 0.25em;background-color: #f0f8ff;}#sk-container-id-15 input.sk-toggleable__control:checked~div.sk-toggleable__content {max-height: 200px;max-width: 100%;overflow: auto;}#sk-container-id-15 input.sk-toggleable__control:checked~label.sk-toggleable__label-arrow:before {content: \"▾\";}#sk-container-id-15 div.sk-estimator input.sk-toggleable__control:checked~label.sk-toggleable__label {background-color: #d4ebff;}#sk-container-id-15 div.sk-label input.sk-toggleable__control:checked~label.sk-toggleable__label {background-color: #d4ebff;}#sk-container-id-15 input.sk-hidden--visually {border: 0;clip: rect(1px 1px 1px 1px);clip: rect(1px, 1px, 1px, 1px);height: 1px;margin: -1px;overflow: hidden;padding: 0;position: absolute;width: 1px;}#sk-container-id-15 div.sk-estimator {font-family: monospace;background-color: #f0f8ff;border: 1px dotted black;border-radius: 0.25em;box-sizing: border-box;margin-bottom: 0.5em;}#sk-container-id-15 div.sk-estimator:hover {background-color: #d4ebff;}#sk-container-id-15 div.sk-parallel-item::after {content: \"\";width: 100%;border-bottom: 1px solid gray;flex-grow: 1;}#sk-container-id-15 div.sk-label:hover label.sk-toggleable__label {background-color: #d4ebff;}#sk-container-id-15 div.sk-serial::before {content: \"\";position: absolute;border-left: 1px solid gray;box-sizing: border-box;top: 0;bottom: 0;left: 50%;z-index: 0;}#sk-container-id-15 div.sk-serial {display: flex;flex-direction: column;align-items: center;background-color: white;padding-right: 0.2em;padding-left: 0.2em;position: relative;}#sk-container-id-15 div.sk-item {position: relative;z-index: 1;}#sk-container-id-15 div.sk-parallel {display: flex;align-items: stretch;justify-content: center;background-color: white;position: relative;}#sk-container-id-15 div.sk-item::before, #sk-container-id-15 div.sk-parallel-item::before {content: \"\";position: absolute;border-left: 1px solid gray;box-sizing: border-box;top: 0;bottom: 0;left: 50%;z-index: -1;}#sk-container-id-15 div.sk-parallel-item {display: flex;flex-direction: column;z-index: 1;position: relative;background-color: white;}#sk-container-id-15 div.sk-parallel-item:first-child::after {align-self: flex-end;width: 50%;}#sk-container-id-15 div.sk-parallel-item:last-child::after {align-self: flex-start;width: 50%;}#sk-container-id-15 div.sk-parallel-item:only-child::after {width: 0;}#sk-container-id-15 div.sk-dashed-wrapped {border: 1px dashed gray;margin: 0 0.4em 0.5em 0.4em;box-sizing: border-box;padding-bottom: 0.4em;background-color: white;}#sk-container-id-15 div.sk-label label {font-family: monospace;font-weight: bold;display: inline-block;line-height: 1.2em;}#sk-container-id-15 div.sk-label-container {text-align: center;}#sk-container-id-15 div.sk-container {/* jupyter's `normalize.less` sets `[hidden] { display: none; }` but bootstrap.min.css set `[hidden] { display: none !important; }` so we also need the `!important` here to be able to override the default hidden behavior on the sphinx rendered scikit-learn.org. See: https://github.com/scikit-learn/scikit-learn/issues/21755 */display: inline-block !important;position: relative;}#sk-container-id-15 div.sk-text-repr-fallback {display: none;}</style><div id=\"sk-container-id-15\" class=\"sk-top-container\"><div class=\"sk-text-repr-fallback\"><pre>GradientBoostingRegressor(random_state=42)</pre><b>In a Jupyter environment, please rerun this cell to show the HTML representation or trust the notebook. <br />On GitHub, the HTML representation is unable to render, please try loading this page with nbviewer.org.</b></div><div class=\"sk-container\" hidden><div class=\"sk-item\"><div class=\"sk-estimator sk-toggleable\"><input class=\"sk-toggleable__control sk-hidden--visually\" id=\"sk-estimator-id-15\" type=\"checkbox\" checked><label for=\"sk-estimator-id-15\" class=\"sk-toggleable__label sk-toggleable__label-arrow\">GradientBoostingRegressor</label><div class=\"sk-toggleable__content\"><pre>GradientBoostingRegressor(random_state=42)</pre></div></div></div></div></div>"
      ],
      "text/plain": [
       "GradientBoostingRegressor(random_state=42)"
      ]
     },
     "execution_count": 92,
     "metadata": {},
     "output_type": "execute_result"
    }
   ],
   "source": [
    "model_effect = GradientBoostingRegressor(random_state=42)\n",
    "model_effect.fit(residuals_t, residuals_y)"
   ]
  },
  {
   "cell_type": "code",
   "execution_count": 93,
   "id": "eb58375c-51d5-4232-b2dc-2355c5266090",
   "metadata": {},
   "outputs": [],
   "source": [
    "treatment_effects = model_effect.predict(residuals_t)"
   ]
  },
  {
   "cell_type": "code",
   "execution_count": 94,
   "id": "7298039e-eed7-4b73-95dd-685ed430d12e",
   "metadata": {},
   "outputs": [],
   "source": [
    "mse_y = mean_squared_error(y_test, y_pred)\n",
    "mse_t = mean_squared_error(T_test, T_pred)"
   ]
  },
  {
   "cell_type": "code",
   "execution_count": 95,
   "id": "d9563c82-594c-4a9b-bd05-8f49722b1a52",
   "metadata": {},
   "outputs": [
    {
     "name": "stdout",
     "output_type": "stream",
     "text": [
      "Results:\n",
      "                       Metric     Value\n",
      "0      Mean Squared Error (Y)  0.246823\n",
      "1      Mean Squared Error (T)  0.271580\n",
      "2  Estimated Treatment Effect -0.066796\n"
     ]
    }
   ],
   "source": [
    "results_table = pd.DataFrame({\n",
    "    \"Metric\": [\"Mean Squared Error (Y)\", \"Mean Squared Error (T)\", \"Estimated Treatment Effect\"],\n",
    "    \"Value\": [mse_y, mse_t, treatment_effects[0]]  # Assuming treatment_effects is a single value\n",
    "})\n",
    "\n",
    "print(\"Results:\")\n",
    "print(results_table)"
   ]
  },
  {
   "cell_type": "markdown",
   "id": "7db7dc9f-7112-43fd-b72f-501850cb42a6",
   "metadata": {},
   "source": [
    "#### Interpretation:"
   ]
  },
  {
   "cell_type": "markdown",
   "id": "6f4e657e-b767-4753-9404-cf3e29a81114",
   "metadata": {},
   "source": [
    "The treatment is estimated to have a negative causal effect on the Y: with the treatment, the expected decreaese in Y, on average is 6.68%."
   ]
  },
  {
   "cell_type": "markdown",
   "id": "a54824c5-2e49-448b-873d-c02c4ded3a0b",
   "metadata": {
    "tags": []
   },
   "source": [
    "## Regression forest"
   ]
  },
  {
   "cell_type": "code",
   "execution_count": 15,
   "id": "7e90e14f-c70f-4913-b020-a7050becc293",
   "metadata": {
    "tags": []
   },
   "outputs": [
    {
     "data": {
      "image/png": "[encoded data removed]",
      "text/plain": [
       "<Figure size 864x432 with 1 Axes>"
      ]
     },
     "metadata": {
      "needs_background": "light"
     },
     "output_type": "display_data"
    },
    {
     "data": {
      "image/png": "[encoded data removed]",
      "text/plain": [
       "<Figure size 720x432 with 1 Axes>"
      ]
     },
     "metadata": {
      "needs_background": "light"
     },
     "output_type": "display_data"
    }
   ],
   "source": [
    "import pandas as pd\n",
    "from sklearn.model_selection import train_test_split\n",
    "from econml.dml import CausalForestDML\n",
    "import numpy as np\n",
    "import matplotlib.pyplot as plt\n",
    "import seaborn as sns\n",
    "\n",
    "data = pd.read_csv('C:/Users/Frank/Downloads/processed_esti.csv')\n",
    "\n",
    "feature_columns = [\n",
    "    'gender_female', 'gender_male', 'gender_transgender',\n",
    "    'ethnicgrp_asian', 'ethnicgrp_black', 'ethnicgrp_mixed_multiple', \n",
    "    'ethnicgrp_other', 'ethnicgrp_white', 'partners1', 'postlaunch', \n",
    "    'msm', 'age', 'imd_decile'\n",
    "]\n",
    "\n",
    "treatment_column = 'w'\n",
    "target_column = 'y'\n",
    "\n",
    "X = data[feature_columns]\n",
    "T = data[treatment_column]\n",
    "y = data[target_column]\n",
    "\n",
    "X_train, X_test, T_train, T_test, y_train, y_test = train_test_split(X, T, y, test_size=0.3, random_state=77)\n",
    "\n",
    "est = CausalForestDML(n_estimators=1000,\n",
    "                      min_samples_leaf=10,\n",
    "                      max_depth=3,\n",
    "                      random_state=77)\n",
    "\n",
    "est = est.fit(Y=y_train, X=X_train, T=T_train)\n",
    "\n",
    "feature_importances = est.feature_importances_\n",
    "\n",
    "treatment_effects = est.effect(X_test)\n",
    "te_lower, te_upper = est.effect_interval(X_test)\n",
    "results_df = pd.DataFrame({\n",
    "    'treatment_effect': treatment_effects,\n",
    "    'te_lower': te_lower,\n",
    "    'te_upper': te_upper\n",
    "})\n",
    "\n",
    "importances_df = pd.DataFrame({\n",
    "    'Feature': feature_columns,\n",
    "    'Importance': feature_importances\n",
    "})\n",
    "\n",
    "plt.figure(figsize=(12, 6))\n",
    "sns.barplot(x='Feature', y='Importance', data=importances_df, color='C0')\n",
    "plt.title('Feature Importances')\n",
    "plt.xlabel('Feature')\n",
    "plt.ylabel('Importance')\n",
    "plt.xticks(rotation=45, ha='right')\n",
    "plt.show()\n",
    "\n",
    "plt.figure(figsize=(10, 6))\n",
    "sns.histplot(results_df['treatment_effect'], kde=True)\n",
    "plt.title('Estimated Treatment Effect Distribution')\n",
    "plt.xlabel('Treatment effect')\n",
    "plt.ylabel('Frecuency')\n",
    "plt.show()\n",
    "###"
   ]
  },
  {
   "cell_type": "code",
   "execution_count": 16,
   "id": "f894daef-a10f-4be2-a5ac-2eabd0c0ecec",
   "metadata": {
    "tags": []
   },
   "outputs": [
    {
     "data": {
      "text/plain": [
       "0.25335167673397985"
      ]
     },
     "execution_count": 16,
     "metadata": {},
     "output_type": "execute_result"
    }
   ],
   "source": [
    "results_df['treatment_effect'].mean()"
   ]
  },
  {
   "cell_type": "code",
   "execution_count": 17,
   "id": "4d711c04-6f18-4ed3-a0a2-1e59866736d1",
   "metadata": {
    "tags": []
   },
   "outputs": [
    {
     "data": {
      "text/plain": [
       "0.039901782238421286"
      ]
     },
     "execution_count": 17,
     "metadata": {},
     "output_type": "execute_result"
    }
   ],
   "source": [
    "results_df['treatment_effect'].std()"
   ]
  },
  {
   "cell_type": "markdown",
   "id": "f2ded21a-a999-4d3a-a85c-a1d416b0d6a8",
   "metadata": {},
   "source": [
    "## All results"
   ]
  },
  {
   "cell_type": "code",
   "execution_count": 10,
   "id": "6ab73de5-b6fc-47a5-b51b-ee1ee8e7f188",
   "metadata": {},
   "outputs": [
    {
     "name": "stdout",
     "output_type": "stream",
     "text": [
      "               label         r   moerror\n",
      "0              lasso  0.000000  0.000000\n",
      "1   regression trees  0.124282  0.259589\n",
      "2     boosting trees -0.066796  0.246823\n",
      "3  regression forest  0.253000  0.039000\n"
     ]
    },
    {
     "data": {
      "text/plain": [
       "<AxesSubplot:xlabel='Pearson correlation', ylabel='Confidence interval'>"
      ]
     },
     "execution_count": 10,
     "metadata": {},
     "output_type": "execute_result"
    },
    {
     "data": {
      "image/png": "[encoded data removed]",
      "text/plain": [
       "<Figure size 288x576 with 1 Axes>"
      ]
     },
     "metadata": {},
     "output_type": "display_data"
    }
   ],
   "source": [
    "import forestplot as fp\n",
    "\n",
    "total = [\n",
    "    {'label': 'lasso', 'r': 0, 'moerror': 0},\n",
    "    {'label': 'regression trees', 'r': 0.124282, 'moerror': 0.259589},\n",
    "    {'label': 'boosting trees', 'r': -0.066796, 'moerror': 0.246823},\n",
    "    {'label': 'regression forest', 'r': 0.253, 'moerror': 0.039}\n",
    "]\n",
    "\n",
    "tot = pd.DataFrame(total)\n",
    "print(tot)\n",
    "tot['ll'] = tot['r'] - 1.96 * tot['moerror']\n",
    "tot['hl'] = tot['r'] + 1.96 * tot['moerror']\n",
    "\n",
    "fp.forestplot(df,  # the dataframe with results data\n",
    "              estimate=\"r\",  # col containing estimated effect size \n",
    "              ll=\"ll\", hl=\"hl\",  # columns containing conf. int. lower and higher limits\n",
    "              varlabel=\"label\",  # column containing variable label\n",
    "              ylabel=\"Confidence interval\",  # y-label title\n",
    "              xlabel=\"Pearson correlation\",  # x-label title\n",
    "              )"
   ]
  },
  {
   "cell_type": "markdown",
   "id": "b6de7017-f335-443c-8bf8-1facd8227e01",
   "metadata": {},
   "source": [
    "The coefficients for regression trees and regression forest are positive, suggesting a direct effect between offering electronic tests and individuals using one of these tests. This aligns with the findings in the paper. We would choose regression forest because it offers greater accuracy and stability due to its method of averaging multiple trees, which reduces the risk of overfitting and improves predictive capability compared to a single regression tree"
   ]
  }
 ],
 "metadata": {
  "kernelspec": {
   "display_name": "Python 3 (ipykernel)",
   "language": "python",
   "name": "python3"
  },
  "language_info": {
   "codemirror_mode": {
    "name": "ipython",
    "version": 3
   },
   "file_extension": ".py",
   "mimetype": "text/x-python",
   "name": "python",
   "nbconvert_exporter": "python",
   "pygments_lexer": "ipython3",
   "version": "3.9.13"
  }
 },
 "nbformat": 4,
 "nbformat_minor": 5
}
