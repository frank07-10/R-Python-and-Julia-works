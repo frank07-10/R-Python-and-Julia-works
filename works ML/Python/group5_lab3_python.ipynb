{
 "cells": [
  {
   "cell_type": "markdown",
   "metadata": {
    "tags": []
   },
   "source": [
    "# Neyman Orthogonality Proof"
   ]
  },
  {
   "cell_type": "markdown",
   "metadata": {},
   "source": [
    "$$\n",
    "y=\\alpha D+\\beta'W+\\epsilon\n",
    "$$\n",
    "$$\n",
    "\\overline{y}=y-X'W; \\overline{D}=D-X_{n1.1}\n",
    "$$\n",
    "Se propone\n",
    "$$\n",
    "\\overline{y}=a\n",
    "\\overline{D}+u\n",
    "$$\n",
    "\n",
    "$$\n",
    "\\alpha = \\arg \\min_{a \\in \\mathbb{R}} E[(\\overline{y} - a\\overline{D})^2] = E[\\overline{D}^2]^{-1} - E[\\overline{D}y]^2\n",
    "$$\n",
    "alpha se puede recuperar de la regresión lineal poblacional de Y o D\n",
    "$$\n",
    "a=\\overline{\\alpha} \n",
    "$$ \n",
    "resuelve la ecuación:\n",
    "$$\n",
    "E(\\overline{y}-a\\overline{D})\\overline{D}=0\n",
    "$$\n",
    "Entonces, si tenemos una muestra aleatoria,\n",
    "$$\n",
    "(y_i,x_i)^\\eta_{i=1}\n",
    "$$\n",
    "debemos imitar el procedimiento de partición en la población.\n",
    "\n",
    "## NEYMAN ORTHOGONALITY\n",
    "\n",
    "alpha : parametro obejtivo\n",
    "eta: parámetros de proyección con valor real\n",
    "$$\n",
    "\\eta°=(\\delta'_{DW}, \\delta'_{YW})'\n",
    "$$\n",
    "$$\n",
    "\\alpha=\\alpha(\\eta)\n",
    "$$\n",
    "por el IMPLICIT FUNCTION THEOREM\n",
    "$$\n",
    "D=\\partial a M(\\alpha,\\eta°)^{-1} \\partial \\eta M(\\alpha,\\eta°)\n",
    "$$\n",
    "y\n",
    "$$\n",
    "\\partial \\eta_{1} M(\\alpha, \\eta°)=E(W \\overline{D})=0\n",
    "$$\n",
    "$$\n",
    "\\partial \\eta_{2} M(\\alpha, \\eta°)=-E(W\\overline{y})+2E(\\alpha W \\overline{D})=0\n",
    "$$\n",
    "usando ITF\n",
    "$$\n",
    "\\left[\\frac{\\partial M}{\\partial a}(a, \\eta_0)\\right]da+\\left[\\frac{\\partial M}{\\partial a}(a, \\eta_0)\\right]d\\eta=0\n",
    "$$\n",
    "$$\n",
    "\\frac{da}{d\\eta} = \\left(-\\left[\\frac{\\partial M}{\\partial a}(a, \\eta_0)\\right]^{-1} \\left[\\frac{\\partial M}{\\partial \\eta}(a, \\eta°)\\right]\\right)\n",
    "$$\n",
    "$$\n",
    "\\left[\\frac{\\partial M}{\\partial \\eta}(\\alpha, \\eta_0)\\right]=\\left[\\frac{\\partial M}{\\partial \\eta_1}(\\alpha, \\eta_0)\\right]+\\left[\\frac{\\partial M}{\\partial \\eta_2}(\\alpha, \\eta_0)\\right]\n",
    "$$\n",
    "$$\n",
    "\\left[\\frac{\\partial M}{\\partial \\eta}(\\alpha, \\eta_0)\\right]=\\left[\\frac{\\partial M}{\\partial \\eta_1}(\\alpha, \\delta'_{yW}, \\delta'_{DW})\\right]+\\left[\\frac{\\partial M}{\\partial \\eta_2}(\\alpha, \\delta'_{yW}, \\delta'_{DW})\\right]\n",
    "$$\n",
    "## Para S1:\n",
    "$$\n",
    "\\frac{\\partial M}{\\partial \\eta_1}(\\alpha, \\delta'_{yW}, \\delta'_{DW})\n",
    "$$\n",
    "\n",
    "\n",
    "$$\n",
    "S_1 = \\frac{\\partial M}{\\partial \\eta_1} \\bigg|_{(\\alpha, \\delta'_{yW},\\delta'_{DW})}\n",
    "$$\n",
    "$$\n",
    "S_1=\\frac{\\partial E[[\\overline y(\\eta_1)-\\overline{D}(\\eta_2)]\\overline{D}(\\eta_2)]}{\\partial \\eta_1}\n",
    "$$\n",
    "$$\n",
    "S_1=\\frac{\\partial E[\\overline y(\\eta_1)\\overline{D}(\\eta_2)]}{\\partial \\eta_1}\n",
    "$$\n",
    "y\n",
    "$$\n",
    "\\overline y(\\eta_1)=y-\\eta_1W\n",
    "$$\n",
    "$$\n",
    "S_1 = E[(W)\\overline{D}(\\eta _2)]\\bigg|_{(\\alpha, \\delta'_{yW},\\delta'_{DW})}\n",
    "$$\n",
    "$$\n",
    "S_1 = E[(W)(D - \\eta _2)]\\bigg|_{(\\alpha, \\delta'_{yW},\\delta'_{DW})}\n",
    "$$\n",
    "$$\n",
    "S_1 = E[(W)(D-\\delta'_{DW}W)]\n",
    "$$\n",
    "$$\n",
    "S_1 = E[wD-\\delta'_{DW}W]\n",
    "$$\n",
    "$$\n",
    "S_1 = E[WD-W[(W'W)^{-1}(W'D)]'W]\n",
    "$$\n",
    "$$\n",
    "S_1 = E[WD-WD]=0\n",
    "$$\n",
    "\n",
    "## Ahora en cuanto a S2:\n",
    "$$\n",
    "S_2 = \\frac{\\partial M}{\\partial \\eta_2} \\bigg|_{(\\alpha, \\delta'_{yW},\\delta'_{DW})}\n",
    "$$\n",
    "\n",
    "$$\n",
    "S_2 = -E[W\\overline{y}]+2E[\\alpha W\\overline{D}] = 0\n",
    "$$\n",
    "\n",
    "Desarrollamos cada término usando las definiciones\n",
    "$$ \n",
    "( \\overline{y} = y - \\eta_1 W )\n",
    "$$ y \n",
    "$$\n",
    "( \\overline{D} = D - \\eta_2 W )\n",
    "$$\n",
    "Primer Término: \n",
    "$$\n",
    "( -E[W\\overline{y}])\n",
    "$$\n",
    "$$\n",
    "\\overline{y} = y - \\eta_1 W \\implies -E[W\\overline{y}] = -E[W(y - \\eta_1 W)]\n",
    "$$\n",
    "\n",
    "Expandimos el producto dentro de la esperanza:\n",
    "\n",
    "$$\n",
    "-E[W\\overline{y}] = -E[W y] + E[\\eta_1 W^2]\n",
    "$$\n",
    "\n",
    "Donde \n",
    "$$\n",
    "(\\eta_1 = (\\delta'_{yW})')\n",
    "$$ tenemos:\n",
    "\n",
    "$$\n",
    "-E[W\\overline{y}] = -E[W y] + (\\delta'_{yW})' E[W^2]\n",
    "$$\n",
    "\n",
    "Segundo Término:\n",
    "$$\n",
    "( 2E[\\alpha W\\overline{D}])\n",
    "$$\n",
    "\n",
    "$$\n",
    "\\overline{D} = D - \\eta_2 W \\implies 2E[\\alpha W\\overline{D}] = 2E[\\alpha W(D - \\eta_2 W)]\n",
    "$$\n",
    "\n",
    "Expandimos el producto dentro de la esperanza:\n",
    "\n",
    "$$\n",
    "2E[\\alpha W\\overline{D}] = 2\\alpha E[WD] - 2\\alpha \\eta_2 E[W^2]\n",
    "$$\n",
    "\n",
    "Donde \n",
    "$$\n",
    "(\\eta_2 = \\delta'_{DW})\n",
    "$$tenemos:\n",
    "\n",
    "$$\n",
    "2E[\\alpha W\\overline{D}] = 2\\alpha E[WD] - 2\\alpha (\\delta'_{DW})' E[W^2]\n",
    "$$\n",
    "\n",
    "Sumando ambos para S2\n",
    "\n",
    "$$\n",
    "S_2 = -E[W y] + (\\delta'_{yW})' E[W^2] + 2\\alpha E[WD] - 2\\alpha (\\delta'_{DW})' E[W^2] = 0\n",
    "$$\n",
    "como\n",
    "$$\n",
    "S_2 =-E[W\\overline{y}]+2E[\\alpha W\\overline{D}]=0\n",
    "$$"
   ]
  },
  {
   "cell_type": "markdown",
   "metadata": {},
   "source": [
    "# Code section"
   ]
  },
  {
   "cell_type": "markdown",
   "metadata": {},
   "source": [
    "## Orthogonal learning"
   ]
  },
  {
   "cell_type": "markdown",
   "metadata": {},
   "source": [
    "### Simulation Design"
   ]
  },
  {
   "cell_type": "code",
   "execution_count": 1,
   "metadata": {
    "tags": []
   },
   "outputs": [],
   "source": [
    "#!pip install multiprocess\n",
    "#!pip install pyreadr\n",
    "#!git clone https://github.com/maxhuppertz/hdmpy"
   ]
  },
  {
   "cell_type": "code",
   "execution_count": 2,
   "metadata": {},
   "outputs": [],
   "source": [
    "import hdmpy\n",
    "import numpy as np\n",
    "import random\n",
    "import statsmodels.api as sm\n",
    "import matplotlib.pyplot as plt\n",
    "import numpy as np\n",
    "from matplotlib import colors"
   ]
  },
  {
   "cell_type": "markdown",
   "metadata": {
    "tags": []
   },
   "source": [
    "### Simulation Design 1"
   ]
  },
  {
   "cell_type": "code",
   "execution_count": 3,
   "metadata": {},
   "outputs": [],
   "source": [
    "# Set seed\n",
    "np.random.seed(0)\n",
    "B = 100\n",
    "Naive = np.zeros( B )\n",
    "Orthogonal = np.zeros( B )"
   ]
  },
  {
   "cell_type": "code",
   "execution_count": 4,
   "metadata": {},
   "outputs": [],
   "source": [
    "    n = 100\n",
    "    p = 100\n",
    "    beta = ( 1 / (np.arange( 1, p + 1 ) ** 2 ) ).reshape( p , 1 )\n",
    "    gamma = ( 1 / (np.arange( 1, p + 1 ) ** 2 ) ).reshape( p , 1 )\n",
    "\n",
    "    mean = 0\n",
    "    sd = 1\n",
    "    X = np.random.normal( mean , sd, n * p ).reshape( n, p )\n",
    "\n",
    "    D = ( X @ gamma ) + np.random.normal( mean , sd, n ).reshape( n, 1 )/4 # We reshape because in r when we sum a vecto with a matrix it sum by column\n",
    "    \n",
    "    # DGP \n",
    "    Y = 10 * D + ( X @ beta ) + np.random.normal( mean , sd, n ).reshape( n, 1 )\n",
    "\n",
    "    # single selection method\n",
    "    r_lasso_estimation = hdmpy.rlasso( np.concatenate( ( D , X ) , axis  =  1 ) , Y , post = True ) # Regress main equation by lasso\n",
    "\n",
    "coef_array = r_lasso_estimation.est[ 'coefficients' ].iloc[ 2:, :].to_numpy()    # Get \"X\" coefficients "
   ]
  },
  {
   "cell_type": "code",
   "execution_count": 5,
   "metadata": {},
   "outputs": [],
   "source": [
    "for i in range( 0, B ):\n",
    "    n = 100\n",
    "    p = 100\n",
    "    beta = ( 1 / (np.arange( 1, p + 1 ) ** 2 ) ).reshape( p , 1 )\n",
    "    gamma = ( 1 / (np.arange( 1, p + 1 ) ** 2 ) ).reshape( p , 1 )\n",
    "\n",
    "    mean = 0\n",
    "    sd = 1\n",
    "    X = np.random.normal( mean , sd, n * p ).reshape( n, p )\n",
    "\n",
    "    D = ( X @ gamma ) + np.random.normal( mean , sd, n ).reshape( n, 1 )/4 # We reshape because in r when we sum a vecto with a matrix it sum by column\n",
    "    \n",
    "    # DGP \n",
    "    Y = D + ( X @ beta ) + np.random.normal( mean , sd, n ).reshape( n, 1 )\n",
    "\n",
    "    # single selection method\n",
    "    r_lasso_estimation = hdmpy.rlasso( np.concatenate( ( D , X ) , axis  =  1 ) , Y , post = True ) # Regress main equation by lasso\n",
    "\n",
    "    coef_array = r_lasso_estimation.est[ 'coefficients' ].iloc[ 2:, :].to_numpy()    # Get \"X\" coefficients \n",
    "\n",
    "    SX_IDs = np.where( coef_array != 0 )[0]\n",
    "\n",
    "    # In case all X coefficients are zero, then regress Y on D\n",
    "    if sum(SX_IDs) == 0 : \n",
    "        Naive[ i ] = sm.OLS( Y , sm.add_constant(D) ).fit().summary2().tables[1].round(3).iloc[ 1, 0 ] \n",
    "\n",
    "    # Otherwise, then regress Y on X and D (but only in the selected coefficients)\n",
    "    elif sum( SX_IDs ) > 0 :\n",
    "        X_D = np.concatenate( ( D, X[:, SX_IDs ] ) , axis = 1 )\n",
    "        Naive[ i ] = sm.OLS( Y , sm.add_constant( X_D ) ).fit().summary2().tables[1].round(3).iloc[ 1, 0]\n",
    "\n",
    "    # In both cases we save D coefficient\n",
    "        \n",
    "    # Regress residuals. \n",
    "    resY = hdmpy.rlasso( X , Y , post = False ).est[ 'residuals' ]\n",
    "    resD = hdmpy.rlasso( X , D , post = False ).est[ 'residuals' ]\n",
    "    Orthogonal[ i ] = sm.OLS( resY , sm.add_constant( resD ) ).fit().summary2().tables[1].round(3).iloc[ 1, 0]"
   ]
  },
  {
   "cell_type": "code",
   "execution_count": 6,
   "metadata": {
    "tags": []
   },
   "outputs": [],
   "source": [
    "Orto_breaks = [-1.2, -1, -0.8, -0.6, -0.4, -0.2, 0, 0.2, 0.4, 0.6, 0.8, 1, 1.2, 1.4, 1.6, 1.8, 2]\n",
    "Naive_breaks = [-0.6, -0.4, -0.2, 0, 0.2, 0.4, 0.6, 0.8, 1, 1.2]"
   ]
  },
  {
   "cell_type": "code",
   "execution_count": 7,
   "metadata": {},
   "outputs": [
    {
     "data": {
      "text/plain": [
       "Text(0.5, 0, 'Naive - True')"
      ]
     },
     "execution_count": 7,
     "metadata": {},
     "output_type": "execute_result"
    },
    {
     "data": {
      "image/png": "[encoded data removed]",
      "text/plain": [
       "<Figure size 640x480 with 2 Axes>"
      ]
     },
     "metadata": {},
     "output_type": "display_data"
    }
   ],
   "source": [
    "fig, axs = plt.subplots(1, 2, sharex= True, tight_layout=True)\n",
    "\n",
    "# We can set the number of bins with the `bins` kwarg\n",
    "axs[0].hist( Orthogonal - 1 , range = (-2, 2), density = True , bins = Orto_breaks )\n",
    "axs[1].hist( Naive - 1, range = (-2, 2), density = True , bins = Naive_breaks )\n",
    "\n",
    "axs[0].title.set_text('Orthogonal')\n",
    "axs[1].title.set_text('Naive')\n",
    "\n",
    "axs[0].set_xlabel( 'Orhtogonal - True' )\n",
    "axs[1].set_xlabel( 'Naive - True' )"
   ]
  },
  {
   "cell_type": "code",
   "execution_count": null,
   "metadata": {},
   "outputs": [],
   "source": []
  },
  {
   "cell_type": "code",
   "execution_count": 8,
   "metadata": {},
   "outputs": [
    {
     "data": {
      "text/plain": [
       "Text(0.5, 0, 'Naive - True')"
      ]
     },
     "execution_count": 8,
     "metadata": {},
     "output_type": "execute_result"
    },
    {
     "data": {
      "image/png": "[encoded data removed]",
      "text/plain": [
       "<Figure size 640x480 with 2 Axes>"
      ]
     },
     "metadata": {},
     "output_type": "display_data"
    }
   ],
   "source": [
    "# b = 1000\n",
    "np.random.seed(0)\n",
    "B = 1000\n",
    "Naive = np.zeros( B )\n",
    "Orthogonal = np.zeros( B )\n",
    "\n",
    "for i in range( 0, B ):\n",
    "    n = 100\n",
    "    p = 100\n",
    "    beta = ( 1 / (np.arange( 1, p + 1 ) ** 2 ) ).reshape( p , 1 )\n",
    "    gamma = ( 1 / (np.arange( 1, p + 1 ) ** 2 ) ).reshape( p , 1 )\n",
    "\n",
    "    mean = 0\n",
    "    sd = 1\n",
    "    X = np.random.normal( mean , sd, n * p ).reshape( n, p )\n",
    "\n",
    "    D = ( X @ gamma ) + np.random.normal( mean , sd, n ).reshape( n, 1 )/4 # We reshape because in r when we sum a vecto with a matrix it sum by column\n",
    "    \n",
    "    # DGP \n",
    "    Y = D + ( X @ beta ) + np.random.normal( mean , sd, n ).reshape( n, 1 )\n",
    "\n",
    "    # single selection method\n",
    "    r_lasso_estimation = hdmpy.rlasso( np.concatenate( ( D , X ) , axis  =  1 ) , Y , post = True ) # Regress main equation by lasso\n",
    "\n",
    "    coef_array = r_lasso_estimation.est[ 'coefficients' ].iloc[ 2:, :].to_numpy()    # Get \"X\" coefficients \n",
    "\n",
    "    SX_IDs = np.where( coef_array != 0 )[0]\n",
    "\n",
    "    # In case all X coefficients are zero, then regress Y on D\n",
    "    if sum(SX_IDs) == 0 : \n",
    "        Naive[ i ] = sm.OLS( Y , sm.add_constant(D) ).fit().summary2().tables[1].round(3).iloc[ 1, 0 ] \n",
    "\n",
    "    # Otherwise, then regress Y on X and D (but only in the selected coefficients)\n",
    "    elif sum( SX_IDs ) > 0 :\n",
    "        X_D = np.concatenate( ( D, X[:, SX_IDs ] ) , axis = 1 )\n",
    "        Naive[ i ] = sm.OLS( Y , sm.add_constant( X_D ) ).fit().summary2().tables[1].round(3).iloc[ 1, 0]\n",
    "\n",
    "    # In both cases we save D coefficient\n",
    "        \n",
    "    # Regress residuals. \n",
    "    resY = hdmpy.rlasso( X , Y , post = False ).est[ 'residuals' ]\n",
    "    resD = hdmpy.rlasso( X , D , post = False ).est[ 'residuals' ]\n",
    "    Orthogonal[ i ] = sm.OLS( resY , sm.add_constant( resD ) ).fit().summary2().tables[1].round(3).iloc[ 1, 0]\n",
    "    \n",
    "Orto_breaks = [-1.2, -1, -0.8, -0.6, -0.4, -0.2, 0, 0.2, 0.4, 0.6, 0.8, 1, 1.2, 1.4, 1.6, 1.8, 2]\n",
    "Naive_breaks = [-0.6, -0.4, -0.2, 0, 0.2, 0.4, 0.6, 0.8, 1, 1.2]\n",
    "\n",
    "fig, axs = plt.subplots(1, 2, sharex= True, tight_layout=True)\n",
    "\n",
    "# We can set the number of bins with the `bins` kwarg\n",
    "axs[0].hist( Orthogonal - 1 , range = (-2, 2), density = True , bins = Orto_breaks )\n",
    "axs[1].hist( Naive - 1, range = (-2, 2), density = True , bins = Naive_breaks )\n",
    "\n",
    "axs[0].title.set_text('Orthogonal')\n",
    "axs[1].title.set_text('Naive')\n",
    "\n",
    "axs[0].set_xlabel( 'Orhtogonal - True' )\n",
    "axs[1].set_xlabel( 'Naive - True' )"
   ]
  },
  {
   "cell_type": "code",
   "execution_count": null,
   "metadata": {},
   "outputs": [],
   "source": [
    "# b = 10000\n",
    "np.random.seed(0)\n",
    "B = 10000\n",
    "Naive = np.zeros( B )\n",
    "Orthogonal = np.zeros( B )\n",
    "\n",
    "n = 100\n",
    "p = 100\n",
    "beta = ( 1 / (np.arange( 1, p + 1 ) ** 2 ) ).reshape( p , 1 )\n",
    "gamma = ( 1 / (np.arange( 1, p + 1 ) ** 2 ) ).reshape( p , 1 )\n",
    "\n",
    "mean = 0\n",
    "sd = 1\n",
    "X = np.random.normal( mean , sd, n * p ).reshape( n, p )\n",
    "\n",
    "D = ( X @ gamma ) + np.random.normal( mean , sd, n ).reshape( n, 1 )/4 # We reshape because in r when we sum a vecto with a matrix it sum by column\n",
    "    \n",
    "# DGP \n",
    "Y = D + ( X @ beta ) + np.random.normal( mean , sd, n ).reshape( n, 1 )\n",
    "\n",
    "# single selection method\n",
    "r_lasso_estimation = hdmpy.rlasso( np.concatenate( ( D , X ) , axis  =  1 ) , Y , post = True ) # Regress main equation by lasso\n",
    "\n",
    "coef_array = r_lasso_estimation.est[ 'coefficients' ].iloc[ 2:, :].to_numpy()    # Get \"X\" coefficients \n",
    "\n",
    "for i in range( 0, B ):\n",
    "    n = 100\n",
    "    p = 100\n",
    "    beta = ( 1 / (np.arange( 1, p + 1 ) ** 2 ) ).reshape( p , 1 )\n",
    "    gamma = ( 1 / (np.arange( 1, p + 1 ) ** 2 ) ).reshape( p , 1 )\n",
    "\n",
    "    mean = 0\n",
    "    sd = 1\n",
    "    X = np.random.normal( mean , sd, n * p ).reshape( n, p )\n",
    "\n",
    "    D = ( X @ gamma ) + np.random.normal( mean , sd, n ).reshape( n, 1 )/4 # We reshape because in r when we sum a vecto with a matrix it sum by column\n",
    "    \n",
    "    # DGP \n",
    "    Y = D + ( X @ beta ) + np.random.normal( mean , sd, n ).reshape( n, 1 )\n",
    "\n",
    "    # single selection method\n",
    "    r_lasso_estimation = hdmpy.rlasso( np.concatenate( ( D , X ) , axis  =  1 ) , Y , post = True ) # Regress main equation by lasso\n",
    "\n",
    "    coef_array = r_lasso_estimation.est[ 'coefficients' ].iloc[ 2:, :].to_numpy()    # Get \"X\" coefficients \n",
    "\n",
    "    SX_IDs = np.where( coef_array != 0 )[0]\n",
    "\n",
    "    # In case all X coefficients are zero, then regress Y on D\n",
    "    if sum(SX_IDs) == 0 : \n",
    "        Naive[ i ] = sm.OLS( Y , sm.add_constant(D) ).fit().summary2().tables[1].round(3).iloc[ 1, 0 ] \n",
    "\n",
    "    # Otherwise, then regress Y on X and D (but only in the selected coefficients)\n",
    "    elif sum( SX_IDs ) > 0 :\n",
    "        X_D = np.concatenate( ( D, X[:, SX_IDs ] ) , axis = 1 )\n",
    "        Naive[ i ] = sm.OLS( Y , sm.add_constant( X_D ) ).fit().summary2().tables[1].round(3).iloc[ 1, 0]\n",
    "\n",
    "    # In both cases we save D coefficient\n",
    "        \n",
    "    # Regress residuals. \n",
    "    resY = hdmpy.rlasso( X , Y , post = False ).est[ 'residuals' ]\n",
    "    resD = hdmpy.rlasso( X , D , post = False ).est[ 'residuals' ]\n",
    "    Orthogonal[ i ] = sm.OLS( resY , sm.add_constant( resD ) ).fit().summary2().tables[1].round(3).iloc[ 1, 0]\n",
    "    \n",
    "Orto_breaks = [-1.2, -1, -0.8, -0.6, -0.4, -0.2, 0, 0.2, 0.4, 0.6, 0.8, 1, 1.2, 1.4, 1.6, 1.8, 2]\n",
    "Naive_breaks = [-0.6, -0.4, -0.2, 0, 0.2, 0.4, 0.6, 0.8, 1, 1.2]\n",
    "\n",
    "fig, axs = plt.subplots(1, 2, sharex= True, tight_layout=True)\n",
    "\n",
    "# We can set the number of bins with the `bins` kwarg\n",
    "axs[0].hist( Orthogonal - 1 , range = (-2, 2), density = True , bins = Orto_breaks )\n",
    "axs[1].hist( Naive - 1, range = (-2, 2), density = True , bins = Naive_breaks )\n",
    "\n",
    "axs[0].title.set_text('Orthogonal')\n",
    "axs[1].title.set_text('Naive')\n",
    "\n",
    "axs[0].set_xlabel( 'Orhtogonal - True' )\n",
    "axs[1].set_xlabel( 'Naive - True' )"
   ]
  },
  {
   "cell_type": "markdown",
   "metadata": {
    "tags": []
   },
   "source": [
    "### Explain what you observe in the distribution of the histograms. Where the orthogonal and Naive should be centered?\n",
    "\n",
    "The histogram for the \"orthogonal\" method is more tightly clustered around 0, while the one for the \"naive\" method is more spread out and centered around 0.5. This difference becomes more noticeable with larger values of B. Ideally, both histograms should be centered around 0, indicating that the estimated coefficients are closer to the true values.\n",
    "\n",
    "### Why does this happen?\n",
    "\n",
    "The \"orthogonal\" approach employs techniques such as residualization, where the outcome variable is regressed on covariates to obtain residuals, and then these residuals are regressed on another set of covariates. This procedure aims to make the residuals orthogonal to certain variables of interest, effectively addressing issues like omitted variable biases and endogeneity. \n",
    "\n",
    "### Explain why using parallel computing, the running time is lower. \n",
    "\n",
    "Parallel computing harnesses the power of multiple CPU cores to handle several tasks simultaneously, which speeds up processing. Instead of waiting for each task to finish before starting the next one, the system starts new tasks right away. This approach is especially handy for big loops, like the example provided, as it helps save time by efficiently using available resources. Nevertheless, this could also cause some problems in local variables, making the loop give errors."
   ]
  },
  {
   "cell_type": "markdown",
   "metadata": {},
   "source": [
    "## Double Lasso using school data R"
   ]
  },
  {
   "cell_type": "code",
   "execution_count": 4,
   "metadata": {},
   "outputs": [],
   "source": [
    "import numpy as np\n",
    "import pandas as pd"
   ]
  },
  {
   "cell_type": "code",
   "execution_count": 10,
   "metadata": {},
   "outputs": [],
   "source": [
    "# Data\n",
    "data = pd.read_csv('C:/Users/jeffr/Downloads/bruhn2016.csv')\n",
    "data"
   ]
  },
  {
   "cell_type": "code",
   "execution_count": null,
   "metadata": {},
   "outputs": [],
   "source": [
    "data.info()"
   ]
  },
  {
   "cell_type": "code",
   "execution_count": null,
   "metadata": {},
   "outputs": [],
   "source": [
    "import matplotlib.pyplot as plt\n",
    "import statsmodels.api as sm\n",
    "import statsmodels.formula.api as smf\n",
    "from statsmodels.api import OLS, add_constant"
   ]
  },
  {
   "cell_type": "code",
   "execution_count": null,
   "metadata": {},
   "outputs": [],
   "source": [
    "from sklearn.model_selection import train_test_split\n",
    "from sklearn.preprocessing import StandardScaler\n",
    "from sklearn.linear_model import LassoCV\n",
    "from sklearn.linear_model import Lasso"
   ]
  },
  {
   "cell_type": "code",
   "execution_count": null,
   "metadata": {},
   "outputs": [],
   "source": [
    "import sys\n",
    "sys.path.insert(1, \"./hdmpy\")\n",
    "import hdmpy"
   ]
  },
  {
   "cell_type": "code",
   "execution_count": null,
   "metadata": {},
   "outputs": [],
   "source": [
    "!pip install multiprocess\n",
    "!pip install pyreadr\n",
    "!git clone https://github.com/maxhuppertz/hdmpy.git"
   ]
  },
  {
   "cell_type": "markdown",
   "metadata": {},
   "source": [
    "### OLS regression"
   ]
  },
  {
   "cell_type": "code",
   "execution_count": null,
   "metadata": {},
   "outputs": [],
   "source": [
    "data.columns = data.columns.str.replace('.', '_')\n",
    "\n",
    "# Corrected formula with underscores instead of periods\n",
    "flex = 'outcome_test_score ~ treatment + is_female + mother_attended_secondary_school + father_attened_secondary_school + family_receives_cash_transfer + has_computer_with_internet_at_home + has_some_form_of_income'\n",
    "\n",
    "# Fit the OLS model\n",
    "ols_model = smf.ols(formula=flex, data=data).fit()\n",
    "\n",
    "\n",
    "coef = ols_model.params\n",
    "std_error = ols_model.bse\n",
    "conf_int = ols_model.conf_int().T\n",
    "\n",
    "\n",
    "table_ols_pd = pd.DataFrame({\n",
    "    'Coefficient': coef,\n",
    "    'Std. Error': std_error,\n",
    "    'Conf. Interval Lower': conf_int.loc[0],\n",
    "    'Conf. Interval Upper': conf_int.loc[1]\n",
    "})\n",
    "\n",
    "table_ols_pd"
   ]
  },
  {
   "cell_type": "markdown",
   "metadata": {},
   "source": [
    "### Double Lasso using cross-validation"
   ]
  },
  {
   "cell_type": "code",
   "execution_count": null,
   "metadata": {},
   "outputs": [],
   "source": [
    "data.dropna(axis=0, inplace=True)\n",
    "data.reset_index(inplace=True ,drop=True)"
   ]
  },
  {
   "cell_type": "code",
   "execution_count": null,
   "metadata": {},
   "outputs": [],
   "source": [
    "y = data['outcome_test_score']\n",
    "x = data['treatment']\n",
    "z = data[['is_female','mother_attended_secondary_school','father_attened_secondary_school','family_receives_cash_transfer','has_computer_with_internet_at_home','has_some_form_of_income']] \n",
    "\n",
    "lasso_y_z = LassoCV(cv=10).fit(z, y)\n",
    "lasso_x_z = LassoCV(cv=10).fit(z, x)\n",
    "\n",
    "zy_res = y - lasso_y_z.predict(z)\n",
    "zx_res = x - lasso_x_z.predict(z)"
   ]
  },
  {
   "cell_type": "code",
   "execution_count": null,
   "metadata": {},
   "outputs": [],
   "source": [
    "ols_model = OLS(zy_res, zx_res).fit()\n",
    "coef = ols_model.params['treatment']\n",
    "conf_int = ols_model.conf_int().loc['treatment']\n",
    "std_error = ols_model.bse['treatment']\n",
    "\n",
    "\n",
    "table_DLCV_pd = pd.DataFrame({\n",
    "    'Coefficient': [coef],\n",
    "    'Std. Error': [std_error],\n",
    "    'Conf. Interval Lower': [conf_int[0]],\n",
    "    'Conf. Interval Upper': [conf_int[1]]\n",
    "})\n",
    "\n",
    "table_DLCV_pd"
   ]
  },
  {
   "cell_type": "markdown",
   "metadata": {},
   "source": [
    "### Double lasso using theoretical lambda"
   ]
  },
  {
   "cell_type": "code",
   "execution_count": null,
   "metadata": {},
   "outputs": [],
   "source": [
    "lambda_ = 0.5\n",
    "\n",
    "lasso_yz = Lasso(alpha=lambda_).fit(z, y)\n",
    "lasso_xz = Lasso(alpha=lambda_).fit(z, x)\n",
    "\n",
    "zy_resi = y- lasso_yz.predict(z)\n",
    "zx_resi = x- lasso_xz.predict(z)\n",
    "\n",
    "ols_model = OLS(zy_resi, zx_resi).fit()\n",
    "coef = ols_model.params['treatment']\n",
    "conf_int = ols_model.conf_int().loc['treatment']\n",
    "std_error = ols_model.bse['treatment']\n",
    "\n",
    "table_DLambda_pd = pd.DataFrame({\n",
    "    'Coefficient': [coef],\n",
    "    'Std. Error': [std_error],\n",
    "    'Conf. Interval Lower': [conf_int[0]],\n",
    "    'Conf. Interval Upper': [conf_int[1]]\n",
    "})\n",
    "\n",
    "table_DLambda_pd"
   ]
  },
  {
   "cell_type": "markdown",
   "metadata": {},
   "source": [
    "### Double Lasso using method = “partialling out”"
   ]
  },
  {
   "cell_type": "code",
   "execution_count": null,
   "metadata": {},
   "outputs": [],
   "source": [
    "lasso_direct = hdmpy.rlassoEffect(x=x, y=y, d=z, method=\"partialling out\") \n",
    "lasso_direct\n",
    "\n",
    "lasso_direct['alpha']\n",
    "\n",
    "est_lasso_hdm = lasso_direct['alpha']\n",
    "std_lasso_hdm = lasso_direct[\"se\"]\n",
    "lower_ci_lasso_hdm = est_lasso - 1.96*std_lasso\n",
    "upper_ci_lasso_hdm = est_lasso + 1.96*std_lasso\n",
    "\n",
    "table_DLPO = np.zeros( (1, 4) )\n",
    "\n",
    "table_DLPO[0,0] = est_lasso_hdm   \n",
    "table_DLPO[0,1] = std_lasso_hdm    \n",
    "table_DLPO[0,2] = lower_ci_lasso_hdm \n",
    "table_DLPO[0,3] = upper_ci_lasso_hdm     \n",
    "\n",
    "\n",
    "table_DLPO_pd = pd.DataFrame( table_4, columns = [ \"Coefficient\",\"Std. Error\", \"Conf. Interval Lower\", \"Conf. Interval Upper\"  ]) \n",
    "table_DLPO_pd"
   ]
  }
 ],
 "metadata": {
  "hide_input": false,
  "kernelspec": {
   "display_name": "Python 3 (ipykernel)",
   "language": "python",
   "name": "python3"
  },
  "language_info": {
   "codemirror_mode": {
    "name": "ipython",
    "version": 3
   },
   "file_extension": ".py",
   "mimetype": "text/x-python",
   "name": "python",
   "nbconvert_exporter": "python",
   "pygments_lexer": "ipython3",
   "version": "3.11.7"
  }
 },
 "nbformat": 4,
 "nbformat_minor": 4
}
