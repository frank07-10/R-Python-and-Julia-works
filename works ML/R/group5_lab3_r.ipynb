{
 "cells": [
  {
   "cell_type": "markdown",
   "id": "5a20c117-b921-4209-9d7b-b51305fd4f70",
   "metadata": {},
   "source": [
    "# Neyman Orthogonality Proof"
   ]
  },
  {
   "cell_type": "markdown",
   "id": "7fc619d7-dc1a-4190-aa0b-30b08126675c",
   "metadata": {},
   "source": [
    "$$\n",
    "y=\\alpha D+\\beta'W+\\epsilon\n",
    "$$\n",
    "$$\n",
    "\\overline{y}=y-X'W; \\overline{D}=D-X_{n1.1}\n",
    "$$\n",
    "Se propone\n",
    "$$\n",
    "\\overline{y}=a\n",
    "\\overline{D}+u\n",
    "$$\n",
    "\n",
    "$$\n",
    "\\alpha = \\arg \\min_{a \\in \\mathbb{R}} E[(\\overline{y} - a\\overline{D})^2] = E[\\overline{D}^2]^{-1} - E[\\overline{D}y]^2\n",
    "$$\n",
    "alpha se puede recuperar de la regresión lineal poblacional de Y o D\n",
    "$$\n",
    "a=\\overline{\\alpha} \n",
    "$$ \n",
    "resuelve la ecuación:\n",
    "$$\n",
    "E(\\overline{y}-a\\overline{D})\\overline{D}=0\n",
    "$$\n",
    "Entonces, si tenemos una muestra aleatoria,\n",
    "$$\n",
    "(y_i,x_i)^\\eta_{i=1}\n",
    "$$\n",
    "debemos imitar el procedimiento de partición en la población.\n",
    "\n",
    "## NEYMAN ORTHOGONALITY\n",
    "\n",
    "alpha : parametro obejtivo\n",
    "eta: parámetros de proyección con valor real\n",
    "$$\n",
    "\\eta°=(\\delta'_{DW}, \\delta'_{YW})'\n",
    "$$\n",
    "$$\n",
    "\\alpha=\\alpha(\\eta)\n",
    "$$\n",
    "por el IMPLICIT FUNCTION THEOREM\n",
    "$$\n",
    "D=\\partial a M(\\alpha,\\eta°)^{-1} \\partial \\eta M(\\alpha,\\eta°)\n",
    "$$\n",
    "y\n",
    "$$\n",
    "\\partial \\eta_{1} M(\\alpha, \\eta°)=E(W \\overline{D})=0\n",
    "$$\n",
    "$$\n",
    "\\partial \\eta_{2} M(\\alpha, \\eta°)=-E(W\\overline{y})+2E(\\alpha W \\overline{D})=0\n",
    "$$\n",
    "usando ITF\n",
    "$$\n",
    "\\left[\\frac{\\partial M}{\\partial a}(a, \\eta_0)\\right]da+\\left[\\frac{\\partial M}{\\partial a}(a, \\eta_0)\\right]d\\eta=0\n",
    "$$\n",
    "$$\n",
    "\\frac{da}{d\\eta} = \\left(-\\left[\\frac{\\partial M}{\\partial a}(a, \\eta_0)\\right]^{-1} \\left[\\frac{\\partial M}{\\partial \\eta}(a, \\eta°)\\right]\\right)\n",
    "$$\n",
    "$$\n",
    "\\left[\\frac{\\partial M}{\\partial \\eta}(\\alpha, \\eta_0)\\right]=\\left[\\frac{\\partial M}{\\partial \\eta_1}(\\alpha, \\eta_0)\\right]+\\left[\\frac{\\partial M}{\\partial \\eta_2}(\\alpha, \\eta_0)\\right]\n",
    "$$\n",
    "$$\n",
    "\\left[\\frac{\\partial M}{\\partial \\eta}(\\alpha, \\eta_0)\\right]=\\left[\\frac{\\partial M}{\\partial \\eta_1}(\\alpha, \\delta'_{yW}, \\delta'_{DW})\\right]+\\left[\\frac{\\partial M}{\\partial \\eta_2}(\\alpha, \\delta'_{yW}, \\delta'_{DW})\\right]\n",
    "$$\n",
    "## Para S1:\n",
    "$$\n",
    "\\frac{\\partial M}{\\partial \\eta_1}(\\alpha, \\delta'_{yW}, \\delta'_{DW})\n",
    "$$\n",
    "\n",
    "\n",
    "$$\n",
    "S_1 = \\frac{\\partial M}{\\partial \\eta_1} \\bigg|_{(\\alpha, \\delta'_{yW},\\delta'_{DW})}\n",
    "$$\n",
    "$$\n",
    "S_1=\\frac{\\partial E[[\\overline y(\\eta_1)-\\overline{D}(\\eta_2)]\\overline{D}(\\eta_2)]}{\\partial \\eta_1}\n",
    "$$\n",
    "$$\n",
    "S_1=\\frac{\\partial E[\\overline y(\\eta_1)\\overline{D}(\\eta_2)]}{\\partial \\eta_1}\n",
    "$$\n",
    "y\n",
    "$$\n",
    "\\overline y(\\eta_1)=y-\\eta_1W\n",
    "$$\n",
    "$$\n",
    "S_1 = E[(W)\\overline{D}(\\eta _2)]\\bigg|_{(\\alpha, \\delta'_{yW},\\delta'_{DW})}\n",
    "$$\n",
    "$$\n",
    "S_1 = E[(W)(D - \\eta _2)]\\bigg|_{(\\alpha, \\delta'_{yW},\\delta'_{DW})}\n",
    "$$\n",
    "$$\n",
    "S_1 = E[(W)(D-\\delta'_{DW}W)]\n",
    "$$\n",
    "$$\n",
    "S_1 = E[wD-\\delta'_{DW}W]\n",
    "$$\n",
    "$$\n",
    "S_1 = E[WD-W[(W'W)^{-1}(W'D)]'W]\n",
    "$$\n",
    "$$\n",
    "S_1 = E[WD-WD]=0\n",
    "$$\n",
    "\n",
    "## Ahora en cuanto a S2:\n",
    "$$\n",
    "S_2 = \\frac{\\partial M}{\\partial \\eta_2} \\bigg|_{(\\alpha, \\delta'_{yW},\\delta'_{DW})}\n",
    "$$\n",
    "\n",
    "$$\n",
    "S_2 = -E[W\\overline{y}]+2E[\\alpha W\\overline{D}] = 0\n",
    "$$\n",
    "\n",
    "Desarrollamos cada término usando las definiciones\n",
    "$$ \n",
    "( \\overline{y} = y - \\eta_1 W )\n",
    "$$ y \n",
    "$$\n",
    "( \\overline{D} = D - \\eta_2 W )\n",
    "$$\n",
    "Primer Término: \n",
    "$$\n",
    "( -E[W\\overline{y}])\n",
    "$$\n",
    "$$\n",
    "\\overline{y} = y - \\eta_1 W \\implies -E[W\\overline{y}] = -E[W(y - \\eta_1 W)]\n",
    "$$\n",
    "\n",
    "Expandimos el producto dentro de la esperanza:\n",
    "\n",
    "$$\n",
    "-E[W\\overline{y}] = -E[W y] + E[\\eta_1 W^2]\n",
    "$$\n",
    "\n",
    "Donde \n",
    "$$\n",
    "(\\eta_1 = (\\delta'_{yW})')\n",
    "$$ tenemos:\n",
    "\n",
    "$$\n",
    "-E[W\\overline{y}] = -E[W y] + (\\delta'_{yW})' E[W^2]\n",
    "$$\n",
    "\n",
    "Segundo Término:\n",
    "$$\n",
    "( 2E[\\alpha W\\overline{D}])\n",
    "$$\n",
    "\n",
    "$$\n",
    "\\overline{D} = D - \\eta_2 W \\implies 2E[\\alpha W\\overline{D}] = 2E[\\alpha W(D - \\eta_2 W)]\n",
    "$$\n",
    "\n",
    "Expandimos el producto dentro de la esperanza:\n",
    "\n",
    "$$\n",
    "2E[\\alpha W\\overline{D}] = 2\\alpha E[WD] - 2\\alpha \\eta_2 E[W^2]\n",
    "$$\n",
    "\n",
    "Donde \n",
    "$$\n",
    "(\\eta_2 = \\delta'_{DW})\n",
    "$$tenemos:\n",
    "\n",
    "$$\n",
    "2E[\\alpha W\\overline{D}] = 2\\alpha E[WD] - 2\\alpha (\\delta'_{DW})' E[W^2]\n",
    "$$\n",
    "\n",
    "Sumando ambos para S2\n",
    "\n",
    "$$\n",
    "S_2 = -E[W y] + (\\delta'_{yW})' E[W^2] + 2\\alpha E[WD] - 2\\alpha (\\delta'_{DW})' E[W^2] = 0\n",
    "$$\n",
    "como\n",
    "$$\n",
    "S_2 =-E[W\\overline{y}]+2E[\\alpha W\\overline{D}]=0\n",
    "$$"
   ]
  },
  {
   "cell_type": "markdown",
   "id": "69806566-84f3-498c-b09f-2661ee175c61",
   "metadata": {},
   "source": [
    "# Code section"
   ]
  },
  {
   "cell_type": "markdown",
   "id": "0704b047",
   "metadata": {
    "_execution_state": "idle",
    "_uuid": "051d70d956493feee0c6d64651c6a088724dca2a",
    "execution": {
     "iopub.execute_input": "2021-03-17T13:55:27.521139Z",
     "iopub.status.busy": "2021-03-17T13:55:27.518637Z",
     "iopub.status.idle": "2021-03-17T14:02:21.927575Z",
     "shell.execute_reply": "2021-03-17T14:02:21.925824Z"
    },
    "papermill": {
     "duration": 414.418507,
     "end_time": "2021-03-17T14:02:21.927880",
     "exception": false,
     "start_time": "2021-03-17T13:55:27.509373",
     "status": "completed"
    },
    "tags": []
   },
   "source": [
    "## Orthogonal Learning"
   ]
  },
  {
   "cell_type": "code",
   "execution_count": 53,
   "id": "original-surfing",
   "metadata": {
    "_execution_state": "idle",
    "_uuid": "051d70d956493feee0c6d64651c6a088724dca2a",
    "papermill": {
     "duration": 414.418507,
     "end_time": "2021-03-17T14:02:21.927880",
     "exception": false,
     "start_time": "2021-03-17T13:55:27.509373",
     "status": "completed"
    },
    "tags": []
   },
   "outputs": [],
   "source": [
    "library(hdm)\n",
    "\n",
    "set.seed(1)\n",
    "\n",
    "B = 100 # trials\n",
    "Naive = rep(0, B)\n",
    "Orthogonal = rep(0, B)\n",
    "\n",
    "for (i in 1:B){\n",
    "    \n",
    "n=1000\n",
    "p= 100\n",
    "beta = 1/(1:p)^2\n",
    "gamma = 1/(1:p)^2\n",
    "\n",
    "X=matrix(rnorm(n*p), n, p)\n",
    "    \n",
    "    \n",
    "D=   X%*%gamma + rnorm(n)/4\n",
    "\n",
    "Y = 10*D+ X%*%beta + rnorm(n)\n",
    "\n",
    "# single selection method\n",
    "\n",
    "SX.IDs = which(rlasso(Y~ D+X)$coef[-c(1,2)] !=0)  #select covariates by Lasso\n",
    "\n",
    "\n",
    "if (sum(SX.IDs)==0) {Naive[i] = lm(Y~ D)$coef[2] - 9 }\n",
    "\n",
    "if (sum(SX.IDs)!= 0) {Naive[i] = lm(Y~ D + X[,SX.IDs])$coef[2] - 9}\n",
    "\n",
    "\n",
    "\n",
    "#partialling out\n",
    "\n",
    "resY = rlasso(Y~ X, Post=F)$res\n",
    "resD = rlasso(D~ X, Post=F)$res\n",
    "Orthogonal[i]= lm(resY ~ resD)$coef[2] - 9\n",
    "\n",
    "}"
   ]
  },
  {
   "cell_type": "code",
   "execution_count": 54,
   "id": "artistic-priority",
   "metadata": {
    "papermill": {
     "duration": 0.537926,
     "end_time": "2021-03-17T14:02:22.473201",
     "exception": false,
     "start_time": "2021-03-17T14:02:21.935275",
     "status": "completed"
    },
    "tags": []
   },
   "outputs": [
    {
     "data": {
      "image/png": "[encoded data removed]",
      "text/plain": [
       "Plot with title \"Orthogonal\""
      ]
     },
     "metadata": {
      "image/png": {
       "height": 420,
       "width": 420
      }
     },
     "output_type": "display_data"
    },
    {
     "data": {
      "image/png": "[encoded data removed]",
      "text/plain": [
       "Plot with title \"Naive\""
      ]
     },
     "metadata": {
      "image/png": {
       "height": 420,
       "width": 420
      }
     },
     "output_type": "display_data"
    }
   ],
   "source": [
    "hist(Orthogonal-1,col=4, freq=F, xlim= c(-2, 2), xlab= \"Orhtogonal -True \", main=\"Orthogonal\")\n",
    "hist(Naive-1, col=2, freq=F, xlim= c(-2,2), xlab= \"Naive- True\", main = \"Naive\")"
   ]
  },
  {
   "cell_type": "code",
   "execution_count": 57,
   "id": "outdoor-frame",
   "metadata": {
    "papermill": {
     "duration": 416.805708,
     "end_time": "2021-03-17T14:09:19.285763",
     "exception": false,
     "start_time": "2021-03-17T14:02:22.480055",
     "status": "completed"
    },
    "tags": []
   },
   "outputs": [],
   "source": [
    "library(hdm)\n",
    "\n",
    "set.seed(1)\n",
    "B= 1000 # trials \n",
    "Naive = rep(0, B)\n",
    "Orthogonal = rep(0, B)\n",
    "\n",
    "for (i in 1:B){\n",
    "    \n",
    "n=100\n",
    "p= 100\n",
    "beta = 1/(1:p)^2\n",
    "gamma =1/(1:p)^2\n",
    "\n",
    "X=matrix(rnorm(n*p), n, p)\n",
    "    \n",
    "    \n",
    "D=   X%*%gamma + rnorm(n)/4\n",
    "\n",
    "Y =  10*D+ X%*%beta + rnorm(n)\n",
    "\n",
    "# single selection method\n",
    "\n",
    "SX.IDs = which(rlasso(Y~ D+X)$coef[-c(1,2)] !=0)  #select covariates by Lasso\n",
    "\n",
    "\n",
    "if (sum(SX.IDs)==0) {Naive[i] = lm(Y~ D)$coef[2] -9 }\n",
    "\n",
    "if (sum(SX.IDs)>0) {Naive[i] = lm(Y~ D + X[,SX.IDs])$coef[2] -9}\n",
    "\n",
    "\n",
    "\n",
    "#partialling out\n",
    "\n",
    "resY = rlasso(Y~ X, Post=T)$res\n",
    "resD = rlasso(D~ X, Post=T)$res\n",
    "Orthogonal[i]= lm(resY ~ resD)$coef[2] - 9\n",
    "\n",
    "}\n"
   ]
  },
  {
   "cell_type": "code",
   "execution_count": 58,
   "id": "human-abraham",
   "metadata": {
    "papermill": {
     "duration": 0.217916,
     "end_time": "2021-03-17T14:09:19.514867",
     "exception": false,
     "start_time": "2021-03-17T14:09:19.296951",
     "status": "completed"
    },
    "tags": []
   },
   "outputs": [
    {
     "data": {
      "image/png": "[encoded data removed]",
      "text/plain": [
       "Plot with title \"Orthogonal\""
      ]
     },
     "metadata": {
      "image/png": {
       "height": 420,
       "width": 420
      }
     },
     "output_type": "display_data"
    },
    {
     "data": {
      "image/png": "[encoded data removed]",
      "text/plain": [
       "Plot with title \"Naive\""
      ]
     },
     "metadata": {
      "image/png": {
       "height": 420,
       "width": 420
      }
     },
     "output_type": "display_data"
    }
   ],
   "source": [
    "hist(Orthogonal-1,col=4, freq=F, xlim= c(-2, 2), xlab= \"Orhtogonal -True \", main=\"Orthogonal\")\n",
    "hist(Naive-1, col=2, freq=F, xlim= c(-2,2), xlab= \"Naive- True\", main = \"Naive\")\n"
   ]
  },
  {
   "cell_type": "code",
   "execution_count": 59,
   "id": "86cb96c8-44b5-40b8-86b5-86a925bb3629",
   "metadata": {},
   "outputs": [],
   "source": [
    "library(hdm)\n",
    "\n",
    "set.seed(1)\n",
    "B= 10000 # trials \n",
    "Naive = rep(0, B)\n",
    "Orthogonal = rep(0, B)\n",
    "\n",
    "for (i in 1:B){\n",
    "    \n",
    "n=100\n",
    "p= 100\n",
    "beta = 1/(1:p)^2\n",
    "gamma =1/(1:p)^2\n",
    "\n",
    "X=matrix(rnorm(n*p), n, p)\n",
    "    \n",
    "    \n",
    "D=   X%*%gamma + rnorm(n)/4\n",
    "\n",
    "Y =  10*D+ X%*%beta + rnorm(n)\n",
    "\n",
    "# single selection method\n",
    "\n",
    "SX.IDs = which(rlasso(Y~ D+X)$coef[-c(1,2)] !=0)  #select covariates by Lasso\n",
    "\n",
    "\n",
    "if (sum(SX.IDs)==0) {Naive[i] = lm(Y~ D)$coef[2] -9 }\n",
    "\n",
    "if (sum(SX.IDs)>0) {Naive[i] = lm(Y~ D + X[,SX.IDs])$coef[2] -9}\n",
    "\n",
    "\n",
    "\n",
    "#partialling out\n",
    "\n",
    "resY = rlasso(Y~ X, Post=T)$res\n",
    "resD = rlasso(D~ X, Post=T)$res\n",
    "Orthogonal[i]= lm(resY ~ resD)$coef[2] - 9\n",
    "\n",
    "}"
   ]
  },
  {
   "cell_type": "code",
   "execution_count": 60,
   "id": "e7b5591f",
   "metadata": {},
   "outputs": [
    {
     "data": {
      "image/png": "[encoded data removed]",
      "text/plain": [
       "Plot with title \"Orthogonal\""
      ]
     },
     "metadata": {
      "image/png": {
       "height": 420,
       "width": 420
      }
     },
     "output_type": "display_data"
    },
    {
     "data": {
      "image/png": "[encoded data removed]",
      "text/plain": [
       "Plot with title \"Naive\""
      ]
     },
     "metadata": {
      "image/png": {
       "height": 420,
       "width": 420
      }
     },
     "output_type": "display_data"
    }
   ],
   "source": [
    "hist(Orthogonal-1,col=4, freq=F, xlim= c(-2, 2), xlab= \"Orhtogonal -True \", main=\"Orthogonal\")\n",
    "hist(Naive-1, col=2, freq=F, xlim= c(-2,2), xlab= \"Naive- True\", main = \"Naive\")"
   ]
  },
  {
   "cell_type": "markdown",
   "id": "d4534dfe-e75d-42d8-8a4d-a657340f1a64",
   "metadata": {
    "tags": []
   },
   "source": [
    "### Explain what you observe in the distribution of the histograms. Where the orthogonal and Naive should be centered?\n",
    "\n",
    "The histogram for the \"orthogonal\" method is more tightly clustered around 0, while the one for the \"naive\" method is more spread out and centered around 0.5. This difference becomes more noticeable with larger values of B. Ideally, both histograms should be centered around 0, indicating that the estimated coefficients are closer to the true values.\n",
    "\n",
    "### Why does this happen?\n",
    "\n",
    "The \"orthogonal\" approach employs techniques such as residualization, where the outcome variable is regressed on covariates to obtain residuals, and then these residuals are regressed on another set of covariates. This procedure aims to make the residuals orthogonal to certain variables of interest, effectively addressing issues like omitted variable biases and endogeneity. \n",
    "\n",
    "### Explain why using parallel computing, the running time is lower. \n",
    "\n",
    "Parallel computing harnesses the power of multiple CPU cores to handle several tasks simultaneously, which speeds up processing. Instead of waiting for each task to finish before starting the next one, the system starts new tasks right away. This approach is especially handy for big loops, like the example provided, as it helps save time by efficiently using available resources. Nevertheless, this could also cause some problems in local variables, making the loop give errors."
   ]
  },
  {
   "cell_type": "markdown",
   "id": "53dece2e-c379-4d7f-80c4-3441cd9b50d5",
   "metadata": {},
   "source": [
    "## Double Lasso using school data R"
   ]
  },
  {
   "cell_type": "code",
   "execution_count": null,
   "id": "b0a6e0e1-af17-4788-b21d-2bc6b6b12a3a",
   "metadata": {},
   "outputs": [],
   "source": [
    "# Load packages\n",
    "install.packages(c(\"glmnet\", \"hdm\"))\n",
    "library(glmnet)\n",
    "library(hdm)\n",
    "\n",
    "# Load data\n",
    "\n",
    "data <- read.csv(\"bruhn2016.csv\")"
   ]
  },
  {
   "cell_type": "markdown",
   "id": "b1a12480-cbe7-4d7f-b307-022bc7f85d2c",
   "metadata": {},
   "source": [
    "### OLS regression"
   ]
  },
  {
   "cell_type": "code",
   "execution_count": null,
   "id": "67c5401a-b1db-41ce-8cc9-1d7cbdaa052e",
   "metadata": {},
   "outputs": [],
   "source": [
    "ols_model <- lm(outcome_test_score ~ is_female + mother_attended_secondary_school + father_attended_secondary_school + family_receives_cash_transfer + has_computer_with_internet_at_home + has_some_form_of_income + saves_money_for_future_purchases + intention_to_save_index + financial_autonomy_index, data = data)\n",
    "\n",
    "summary(ols_model)"
   ]
  },
  {
   "cell_type": "markdown",
   "id": "b5b2a893-d3ba-4e04-9feb-f62e46fe0b58",
   "metadata": {},
   "source": [
    "### Double Lasso using cross-validation"
   ]
  },
  {
   "cell_type": "code",
   "execution_count": null,
   "id": "b8b6e37d-8941-4e96-9c5e-2413c1abcde4",
   "metadata": {},
   "outputs": [],
   "source": [
    "# Variables\n",
    "outcome_variable <- \"outcome_test_score\"\n",
    "treatment_variable <- \"is_female\"\n",
    "covariates <- c(\"mother_attended_secondary_school\", \n",
    "                \"father_attended_secondary_school\", \n",
    "                \"family_receives_cash_transfer\", \n",
    "                \"has_computer_with_internet_at_home\", \n",
    "                \"has_some_form_of_income\", \n",
    "                \"saves_money_for_future_purchases\", \n",
    "                \"intention_to_save_index\", \n",
    "                \"financial_autonomy_index\")\n",
    "\n",
    "# Prepare data\n",
    "X_cv <- model.matrix(~ . - 1, data = data[, covariates])\n",
    "y_cv <- data[[outcome_variable]]\n",
    "d_cv <- data[[treatment_variable]]\n",
    "\n",
    "# Controls for outcome\n",
    "cv_lasso_y <- cv.glmnet(X_cv, y_cv)\n",
    "selected_vars_y_cv <- which(coef(cv_lasso_y, s = \"lambda.min\") != 0) - 1\n",
    "selected_vars_y_cv <- selected_vars_y_cv[selected_vars_y_cv > 0]\n",
    "\n",
    "# Controls for treatment\n",
    "cv_lasso_d <- cv.glmnet(X_cv, d_cv)\n",
    "selected_vars_d_cv <- which(coef(cv_lasso_d, s = \"lambda.min\") != 0) - 1\n",
    "selected_vars_d_cv <- selected_vars_d_cv[selected_vars_d_cv > 0]\n",
    "\n",
    "# Combine selected variables from both lasso regressions\n",
    "selected_vars_cv <- unique(c(selected_vars_y_cv, selected_vars_d_cv))\n",
    "\n",
    "# Selected variables\n",
    "final_X_cv <- X_cv[, selected_vars_cv]\n",
    "final_data_cv <- data.frame(outcome_test_score = y_cv, is_female = d_cv, final_X_cv)\n",
    "\n",
    "# OLS regression\n",
    "final_model_cv <- lm(outcome_test_score ~ is_female + ., data = final_data_cv)\n",
    "\n",
    "summary(final_model_cv)"
   ]
  },
  {
   "cell_type": "markdown",
   "id": "486899b1-2705-443c-a85d-b3c0e6b83a2a",
   "metadata": {},
   "source": [
    "### Double lasso using theoretical lambda"
   ]
  },
  {
   "cell_type": "code",
   "execution_count": null,
   "id": "55f53690-60e9-43ef-947f-3ff54b2e2038",
   "metadata": {},
   "outputs": [],
   "source": [
    "# Prepare data\n",
    "x_tl <- as.matrix(data[, covariates])\n",
    "y_tl <- data[[outcome_variable]]\n",
    "d_tl <- data[[treatment_variable]]\n",
    "\n",
    "# Double lasso with theoretical lambda\n",
    "double_lasso_tl <- rlassoEffect(x_tl = x_tl, y_tl = y_tl, d_tl = d_tl, method = \"double selection\", penalty = list(lambda.start = \"theoretical\"))\n",
    "\n",
    "summary(double_lasso_tl)"
   ]
  },
  {
   "cell_type": "markdown",
   "id": "b1a6658a-50cc-45ea-adaf-f5c56e26c604",
   "metadata": {},
   "source": [
    "### Double Lasso using method = “partialling out”"
   ]
  },
  {
   "cell_type": "code",
   "execution_count": null,
   "id": "64426dd3-e04f-4c4c-9f37-fa0230c4bdb4",
   "metadata": {},
   "outputs": [],
   "source": [
    "# Prepare data\n",
    "x_po <- data[, covariates]\n",
    "y_po <- data[[outcome_variable]]\n",
    "d_po <- data[[treatment_variable]]\n",
    "\n",
    "# Partialling out method\n",
    "double_lasso_po <- partiallingOut(y_po = y_po, d_po = d_po, x_po = x_po)\n",
    "\n",
    "summary(double_lasso_po)"
   ]
  },
  {
   "cell_type": "markdown",
   "id": "10883b4a-8dee-4b71-84af-af10651a8e1b",
   "metadata": {},
   "source": [
    "### Main coefficient and confidence interval"
   ]
  },
  {
   "cell_type": "code",
   "execution_count": null,
   "id": "ac9fe6dc-7858-4e31-bd78-35bcc8200102",
   "metadata": {},
   "outputs": [],
   "source": [
    "# Extract coefficients and confidence intervals for OLS\n",
    "ols_coef <- coef(ols_model)\n",
    "ols_ci <- confint(ols_model)\n",
    "\n",
    "# Extract coefficients and confidence intervals for double lasso with cross-validation\n",
    "cv_coef <- coef(final_model_cv)\n",
    "cv_ci <- confint(final_model_cv)\n",
    "\n",
    "# Extract coefficients and confidence intervals for double lasso with theoretical lambda\n",
    "tl_coef <- double_lasso_tl$coef\n",
    "tl_ci <- double_lasso_tl$confint\n",
    "\n",
    "# Extract coefficients and confidence intervals for double lasso using partialling out\n",
    "po_coef <- double_lasso_po$coef\n",
    "po_ci <- double_lasso_po$confint\n",
    "\n",
    "# Results\n",
    "# Display results\n",
    "cat(\"OLS Coefficients:\\n\")\n",
    "print(ols_coef)\n",
    "cat(\"\\nOLS Confidence Intervals:\\n\")\n",
    "print(ols_ci)\n",
    "cat(\"\\nDouble Lasso with Cross-Validation Coefficients:\\n\")\n",
    "print(cv_coef)\n",
    "cat(\"\\nDouble Lasso with Cross-Validation Confidence Intervals:\\n\")\n",
    "print(cv_ci)\n",
    "cat(\"\\nDouble Lasso with Theoretical Lambda Coefficients:\\n\")\n",
    "print(tl_coef)\n",
    "cat(\"\\nDouble Lasso with Theoretical Lambda Confidence Intervals:\\n\")\n",
    "print(tl_ci)\n",
    "cat(\"\\nDouble Lasso using Partialling Out Coefficients:\\n\")\n",
    "print(po_coef)\n",
    "cat(\"\\nDouble Lasso using Partialling Out Confidence Intervals:\\n\")\n",
    "print(po_ci)"
   ]
  }
 ],
 "metadata": {
  "kernelspec": {
   "display_name": "Python 3 (ipykernel)",
   "language": "python",
   "name": "python3"
  },
  "language_info": {
   "codemirror_mode": {
    "name": "ipython",
    "version": 3
   },
   "file_extension": ".py",
   "mimetype": "text/x-python",
   "name": "python",
   "nbconvert_exporter": "python",
   "pygments_lexer": "ipython3",
   "version": "3.11.7"
  },
  "papermill": {
   "default_parameters": {},
   "duration": 835.118278,
   "end_time": "2021-03-17T14:09:19.633175",
   "environment_variables": {},
   "exception": null,
   "input_path": "__notebook__.ipynb",
   "output_path": "__notebook__.ipynb",
   "parameters": {},
   "start_time": "2021-03-17T13:55:24.514897",
   "version": "2.3.2"
  }
 },
 "nbformat": 4,
 "nbformat_minor": 5
}
