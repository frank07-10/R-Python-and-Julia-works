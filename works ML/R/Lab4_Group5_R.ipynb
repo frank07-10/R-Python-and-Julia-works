{
 "cells": [
  {
   "cell_type": "markdown",
   "id": "c13e9068",
   "metadata": {},
   "source": [
    "# Bootstraping "
   ]
  },
  {
   "cell_type": "code",
   "execution_count": 1,
   "id": "98df96de",
   "metadata": {},
   "outputs": [],
   "source": [
    "library(boot)\n",
    "setwd(\"C:/Users/jeffr/OneDrive/Escritorio\")"
   ]
  },
  {
   "cell_type": "code",
   "execution_count": 2,
   "id": "9d5412af",
   "metadata": {},
   "outputs": [],
   "source": [
    "# Cargar los datos\n",
    "data <- read.csv(\"penn_jae.csv\")"
   ]
  },
  {
   "cell_type": "code",
   "execution_count": 3,
   "id": "bb1558da",
   "metadata": {},
   "outputs": [
    {
     "data": {
      "text/html": [
       "<table>\n",
       "<thead><tr><th></th><th scope=col>X</th><th scope=col>abdt</th><th scope=col>tg</th><th scope=col>inuidur1</th><th scope=col>inuidur2</th><th scope=col>female</th><th scope=col>black</th><th scope=col>hispanic</th><th scope=col>othrace</th><th scope=col>dep</th><th scope=col>...</th><th scope=col>q5</th><th scope=col>q6</th><th scope=col>recall</th><th scope=col>agelt35</th><th scope=col>agegt54</th><th scope=col>durable</th><th scope=col>nondurable</th><th scope=col>lusd</th><th scope=col>husd</th><th scope=col>muld</th></tr></thead>\n",
       "<tbody>\n",
       "\t<tr><th scope=row>1</th><td> 1   </td><td>10824</td><td>0    </td><td>18   </td><td>18   </td><td>0    </td><td>0    </td><td>0    </td><td>0    </td><td>2    </td><td>...  </td><td>1    </td><td>0    </td><td>0    </td><td>0    </td><td>0    </td><td>0    </td><td>0    </td><td>0    </td><td>1    </td><td>0    </td></tr>\n",
       "\t<tr><th scope=row>4</th><td> 4   </td><td>10824</td><td>0    </td><td> 1   </td><td> 1   </td><td>0    </td><td>0    </td><td>0    </td><td>0    </td><td>0    </td><td>...  </td><td>1    </td><td>0    </td><td>0    </td><td>0    </td><td>0    </td><td>0    </td><td>0    </td><td>1    </td><td>0    </td><td>0    </td></tr>\n",
       "\t<tr><th scope=row>5</th><td> 5   </td><td>10747</td><td>0    </td><td>27   </td><td>27   </td><td>0    </td><td>0    </td><td>0    </td><td>0    </td><td>0    </td><td>...  </td><td>0    </td><td>0    </td><td>0    </td><td>0    </td><td>0    </td><td>0    </td><td>0    </td><td>1    </td><td>0    </td><td>0    </td></tr>\n",
       "\t<tr><th scope=row>12</th><td>12   </td><td>10607</td><td>4    </td><td> 9   </td><td> 9   </td><td>0    </td><td>0    </td><td>0    </td><td>0    </td><td>0    </td><td>...  </td><td>0    </td><td>0    </td><td>0    </td><td>1    </td><td>0    </td><td>0    </td><td>0    </td><td>0    </td><td>0    </td><td>1    </td></tr>\n",
       "\t<tr><th scope=row>13</th><td>13   </td><td>10831</td><td>0    </td><td>27   </td><td>27   </td><td>0    </td><td>0    </td><td>0    </td><td>0    </td><td>1    </td><td>...  </td><td>1    </td><td>0    </td><td>0    </td><td>0    </td><td>1    </td><td>1    </td><td>0    </td><td>1    </td><td>0    </td><td>0    </td></tr>\n",
       "\t<tr><th scope=row>14</th><td>14   </td><td>10845</td><td>0    </td><td>27   </td><td>27   </td><td>1    </td><td>0    </td><td>0    </td><td>0    </td><td>0    </td><td>...  </td><td>1    </td><td>0    </td><td>0    </td><td>0    </td><td>1    </td><td>0    </td><td>0    </td><td>1    </td><td>0    </td><td>0    </td></tr>\n",
       "\t<tr><th scope=row>15</th><td>15   </td><td>10831</td><td>0    </td><td> 9   </td><td> 9   </td><td>1    </td><td>0    </td><td>0    </td><td>0    </td><td>1    </td><td>...  </td><td>1    </td><td>0    </td><td>0    </td><td>0    </td><td>1    </td><td>0    </td><td>0    </td><td>1    </td><td>0    </td><td>0    </td></tr>\n",
       "\t<tr><th scope=row>17</th><td>17   </td><td>10859</td><td>0    </td><td>27   </td><td>27   </td><td>1    </td><td>0    </td><td>0    </td><td>0    </td><td>1    </td><td>...  </td><td>0    </td><td>1    </td><td>0    </td><td>0    </td><td>0    </td><td>0    </td><td>0    </td><td>1    </td><td>0    </td><td>0    </td></tr>\n",
       "\t<tr><th scope=row>23</th><td>23   </td><td>10516</td><td>0    </td><td>15   </td><td>15   </td><td>1    </td><td>0    </td><td>0    </td><td>0    </td><td>0    </td><td>...  </td><td>0    </td><td>0    </td><td>0    </td><td>0    </td><td>0    </td><td>0    </td><td>0    </td><td>1    </td><td>0    </td><td>0    </td></tr>\n",
       "\t<tr><th scope=row>25</th><td>25   </td><td>10663</td><td>0    </td><td>28   </td><td>11   </td><td>1    </td><td>0    </td><td>0    </td><td>0    </td><td>0    </td><td>...  </td><td>0    </td><td>0    </td><td>0    </td><td>0    </td><td>1    </td><td>0    </td><td>0    </td><td>1    </td><td>0    </td><td>0    </td></tr>\n",
       "\t<tr><th scope=row>26</th><td>26   </td><td>10747</td><td>0    </td><td>12   </td><td>12   </td><td>1    </td><td>0    </td><td>0    </td><td>0    </td><td>2    </td><td>...  </td><td>0    </td><td>0    </td><td>1    </td><td>1    </td><td>0    </td><td>0    </td><td>0    </td><td>0    </td><td>0    </td><td>1    </td></tr>\n",
       "\t<tr><th scope=row>27</th><td>27   </td><td>10551</td><td>4    </td><td>22   </td><td>22   </td><td>1    </td><td>0    </td><td>1    </td><td>0    </td><td>2    </td><td>...  </td><td>0    </td><td>0    </td><td>0    </td><td>1    </td><td>0    </td><td>0    </td><td>0    </td><td>0    </td><td>0    </td><td>1    </td></tr>\n",
       "\t<tr><th scope=row>32</th><td>32   </td><td>10768</td><td>0    </td><td>18   </td><td>18   </td><td>1    </td><td>0    </td><td>0    </td><td>0    </td><td>0    </td><td>...  </td><td>1    </td><td>0    </td><td>0    </td><td>0    </td><td>1    </td><td>0    </td><td>0    </td><td>0    </td><td>0    </td><td>1    </td></tr>\n",
       "\t<tr><th scope=row>33</th><td>33   </td><td>10537</td><td>0    </td><td> 1   </td><td> 1   </td><td>1    </td><td>0    </td><td>0    </td><td>0    </td><td>2    </td><td>...  </td><td>0    </td><td>0    </td><td>0    </td><td>0    </td><td>0    </td><td>0    </td><td>0    </td><td>0    </td><td>0    </td><td>1    </td></tr>\n",
       "\t<tr><th scope=row>39</th><td>39   </td><td>10600</td><td>4    </td><td> 7   </td><td> 7   </td><td>1    </td><td>0    </td><td>0    </td><td>0    </td><td>0    </td><td>...  </td><td>0    </td><td>0    </td><td>0    </td><td>0    </td><td>0    </td><td>0    </td><td>0    </td><td>1    </td><td>0    </td><td>0    </td></tr>\n",
       "\t<tr><th scope=row>43</th><td>43   </td><td>10866</td><td>0    </td><td>18   </td><td>18   </td><td>0    </td><td>0    </td><td>0    </td><td>0    </td><td>0    </td><td>...  </td><td>0    </td><td>1    </td><td>0    </td><td>0    </td><td>0    </td><td>1    </td><td>0    </td><td>1    </td><td>0    </td><td>0    </td></tr>\n",
       "\t<tr><th scope=row>49</th><td>49   </td><td>10572</td><td>0    </td><td>14   </td><td>14   </td><td>0    </td><td>0    </td><td>0    </td><td>0    </td><td>2    </td><td>...  </td><td>0    </td><td>0    </td><td>0    </td><td>0    </td><td>0    </td><td>0    </td><td>0    </td><td>1    </td><td>0    </td><td>0    </td></tr>\n",
       "\t<tr><th scope=row>50</th><td>50   </td><td>10663</td><td>0    </td><td> 5   </td><td> 5   </td><td>0    </td><td>0    </td><td>0    </td><td>0    </td><td>0    </td><td>...  </td><td>0    </td><td>0    </td><td>0    </td><td>0    </td><td>1    </td><td>0    </td><td>0    </td><td>1    </td><td>0    </td><td>0    </td></tr>\n",
       "\t<tr><th scope=row>58</th><td>58   </td><td>10789</td><td>0    </td><td> 9   </td><td> 9   </td><td>0    </td><td>0    </td><td>0    </td><td>0    </td><td>0    </td><td>...  </td><td>1    </td><td>0    </td><td>0    </td><td>0    </td><td>0    </td><td>0    </td><td>1    </td><td>1    </td><td>0    </td><td>0    </td></tr>\n",
       "\t<tr><th scope=row>59</th><td>59   </td><td>10768</td><td>0    </td><td> 3   </td><td> 3   </td><td>0    </td><td>1    </td><td>0    </td><td>0    </td><td>0    </td><td>...  </td><td>0    </td><td>0    </td><td>0    </td><td>0    </td><td>0    </td><td>0    </td><td>0    </td><td>0    </td><td>0    </td><td>1    </td></tr>\n",
       "\t<tr><th scope=row>60</th><td>60   </td><td>10649</td><td>0    </td><td>27   </td><td>27   </td><td>0    </td><td>0    </td><td>0    </td><td>0    </td><td>1    </td><td>...  </td><td>0    </td><td>0    </td><td>0    </td><td>1    </td><td>0    </td><td>0    </td><td>0    </td><td>0    </td><td>1    </td><td>0    </td></tr>\n",
       "\t<tr><th scope=row>61</th><td>61   </td><td>10670</td><td>4    </td><td>27   </td><td>27   </td><td>1    </td><td>0    </td><td>0    </td><td>0    </td><td>2    </td><td>...  </td><td>0    </td><td>0    </td><td>1    </td><td>0    </td><td>0    </td><td>0    </td><td>0    </td><td>0    </td><td>0    </td><td>1    </td></tr>\n",
       "\t<tr><th scope=row>63</th><td>63   </td><td>10796</td><td>0    </td><td>10   </td><td>10   </td><td>0    </td><td>0    </td><td>0    </td><td>0    </td><td>0    </td><td>...  </td><td>1    </td><td>0    </td><td>0    </td><td>1    </td><td>0    </td><td>0    </td><td>0    </td><td>0    </td><td>1    </td><td>0    </td></tr>\n",
       "\t<tr><th scope=row>65</th><td>65   </td><td>10558</td><td>0    </td><td>25   </td><td>25   </td><td>0    </td><td>0    </td><td>1    </td><td>0    </td><td>2    </td><td>...  </td><td>0    </td><td>0    </td><td>1    </td><td>1    </td><td>0    </td><td>0    </td><td>0    </td><td>1    </td><td>0    </td><td>0    </td></tr>\n",
       "\t<tr><th scope=row>72</th><td>72   </td><td>10831</td><td>4    </td><td> 1   </td><td> 1   </td><td>0    </td><td>0    </td><td>0    </td><td>0    </td><td>0    </td><td>...  </td><td>1    </td><td>0    </td><td>0    </td><td>0    </td><td>0    </td><td>0    </td><td>0    </td><td>1    </td><td>0    </td><td>0    </td></tr>\n",
       "\t<tr><th scope=row>73</th><td>73   </td><td>10810</td><td>4    </td><td> 3   </td><td> 3   </td><td>0    </td><td>0    </td><td>0    </td><td>0    </td><td>0    </td><td>...  </td><td>1    </td><td>0    </td><td>0    </td><td>1    </td><td>0    </td><td>0    </td><td>0    </td><td>0    </td><td>1    </td><td>0    </td></tr>\n",
       "\t<tr><th scope=row>75</th><td>75   </td><td>10551</td><td>4    </td><td>13   </td><td>13   </td><td>0    </td><td>0    </td><td>0    </td><td>0    </td><td>2    </td><td>...  </td><td>0    </td><td>0    </td><td>0    </td><td>1    </td><td>0    </td><td>0    </td><td>0    </td><td>0    </td><td>1    </td><td>0    </td></tr>\n",
       "\t<tr><th scope=row>77</th><td>77   </td><td>10796</td><td>0    </td><td> 1   </td><td> 1   </td><td>0    </td><td>0    </td><td>0    </td><td>0    </td><td>0    </td><td>...  </td><td>1    </td><td>0    </td><td>0    </td><td>1    </td><td>0    </td><td>0    </td><td>0    </td><td>0    </td><td>1    </td><td>0    </td></tr>\n",
       "\t<tr><th scope=row>81</th><td>81   </td><td>10719</td><td>0    </td><td>27   </td><td>27   </td><td>0    </td><td>0    </td><td>0    </td><td>0    </td><td>0    </td><td>...  </td><td>0    </td><td>0    </td><td>0    </td><td>1    </td><td>0    </td><td>1    </td><td>0    </td><td>1    </td><td>0    </td><td>0    </td></tr>\n",
       "\t<tr><th scope=row>82</th><td>82   </td><td>10726</td><td>4    </td><td>14   </td><td>14   </td><td>0    </td><td>0    </td><td>0    </td><td>0    </td><td>2    </td><td>...  </td><td>0    </td><td>0    </td><td>0    </td><td>1    </td><td>0    </td><td>0    </td><td>1    </td><td>1    </td><td>0    </td><td>0    </td></tr>\n",
       "\t<tr><th scope=row>...</th><td>...</td><td>...</td><td>...</td><td>...</td><td>...</td><td>...</td><td>...</td><td>...</td><td>...</td><td>...</td><td>   </td><td>...</td><td>...</td><td>...</td><td>...</td><td>...</td><td>...</td><td>...</td><td>...</td><td>...</td><td>...</td></tr>\n",
       "\t<tr><th scope=row>13829</th><td>13829</td><td>10558</td><td>0    </td><td>20   </td><td>20   </td><td>0    </td><td>0    </td><td>1    </td><td>0    </td><td>0    </td><td>...  </td><td>0    </td><td>0    </td><td>0    </td><td>1    </td><td>0    </td><td>0    </td><td>0    </td><td>0    </td><td>0    </td><td>1    </td></tr>\n",
       "\t<tr><th scope=row>13831</th><td>13831</td><td>10852</td><td>4    </td><td>27   </td><td>27   </td><td>0    </td><td>0    </td><td>1    </td><td>0    </td><td>0    </td><td>...  </td><td>1    </td><td>0    </td><td>0    </td><td>1    </td><td>0    </td><td>1    </td><td>0    </td><td>0    </td><td>0    </td><td>1    </td></tr>\n",
       "\t<tr><th scope=row>13842</th><td>13842</td><td>10579</td><td>4    </td><td>13   </td><td>13   </td><td>0    </td><td>0    </td><td>1    </td><td>0    </td><td>1    </td><td>...  </td><td>0    </td><td>0    </td><td>0    </td><td>1    </td><td>0    </td><td>0    </td><td>0    </td><td>0    </td><td>0    </td><td>1    </td></tr>\n",
       "\t<tr><th scope=row>13845</th><td>13845</td><td>10796</td><td>0    </td><td> 1   </td><td> 1   </td><td>1    </td><td>0    </td><td>1    </td><td>0    </td><td>1    </td><td>...  </td><td>1    </td><td>0    </td><td>0    </td><td>0    </td><td>0    </td><td>0    </td><td>1    </td><td>1    </td><td>0    </td><td>0    </td></tr>\n",
       "\t<tr><th scope=row>13846</th><td>13846</td><td>10782</td><td>0    </td><td> 1   </td><td> 1   </td><td>0    </td><td>0    </td><td>1    </td><td>0    </td><td>1    </td><td>...  </td><td>1    </td><td>0    </td><td>0    </td><td>1    </td><td>0    </td><td>0    </td><td>0    </td><td>1    </td><td>0    </td><td>0    </td></tr>\n",
       "\t<tr><th scope=row>13847</th><td>13847</td><td>10579</td><td>4    </td><td>16   </td><td>16   </td><td>0    </td><td>0    </td><td>1    </td><td>0    </td><td>2    </td><td>...  </td><td>0    </td><td>0    </td><td>0    </td><td>0    </td><td>0    </td><td>0    </td><td>0    </td><td>0    </td><td>0    </td><td>1    </td></tr>\n",
       "\t<tr><th scope=row>13854</th><td>13854</td><td>10544</td><td>0    </td><td>13   </td><td>13   </td><td>0    </td><td>0    </td><td>1    </td><td>0    </td><td>0    </td><td>...  </td><td>0    </td><td>0    </td><td>0    </td><td>0    </td><td>0    </td><td>0    </td><td>0    </td><td>0    </td><td>0    </td><td>1    </td></tr>\n",
       "\t<tr><th scope=row>13864</th><td>13864</td><td>10628</td><td>0    </td><td>10   </td><td>10   </td><td>0    </td><td>0    </td><td>1    </td><td>0    </td><td>0    </td><td>...  </td><td>0    </td><td>0    </td><td>0    </td><td>0    </td><td>0    </td><td>1    </td><td>0    </td><td>0    </td><td>0    </td><td>1    </td></tr>\n",
       "\t<tr><th scope=row>13872</th><td>13872</td><td>10593</td><td>4    </td><td> 1   </td><td> 1   </td><td>0    </td><td>0    </td><td>1    </td><td>0    </td><td>0    </td><td>...  </td><td>0    </td><td>0    </td><td>0    </td><td>1    </td><td>0    </td><td>0    </td><td>1    </td><td>1    </td><td>0    </td><td>0    </td></tr>\n",
       "\t<tr><th scope=row>13873</th><td>13873</td><td>10593</td><td>4    </td><td> 2   </td><td> 2   </td><td>0    </td><td>0    </td><td>1    </td><td>0    </td><td>2    </td><td>...  </td><td>0    </td><td>0    </td><td>0    </td><td>0    </td><td>0    </td><td>1    </td><td>0    </td><td>1    </td><td>0    </td><td>0    </td></tr>\n",
       "\t<tr><th scope=row>13875</th><td>13875</td><td>10712</td><td>0    </td><td>22   </td><td>22   </td><td>0    </td><td>0    </td><td>1    </td><td>0    </td><td>2    </td><td>...  </td><td>0    </td><td>0    </td><td>0    </td><td>1    </td><td>0    </td><td>0    </td><td>1    </td><td>0    </td><td>0    </td><td>1    </td></tr>\n",
       "\t<tr><th scope=row>13876</th><td>13876</td><td>10768</td><td>0    </td><td>27   </td><td>27   </td><td>0    </td><td>0    </td><td>1    </td><td>0    </td><td>0    </td><td>...  </td><td>1    </td><td>0    </td><td>0    </td><td>1    </td><td>0    </td><td>1    </td><td>0    </td><td>0    </td><td>0    </td><td>1    </td></tr>\n",
       "\t<tr><th scope=row>13877</th><td>13877</td><td>10817</td><td>0    </td><td>16   </td><td>16   </td><td>1    </td><td>0    </td><td>1    </td><td>0    </td><td>0    </td><td>...  </td><td>1    </td><td>0    </td><td>0    </td><td>0    </td><td>0    </td><td>0    </td><td>0    </td><td>0    </td><td>0    </td><td>1    </td></tr>\n",
       "\t<tr><th scope=row>13880</th><td>13880</td><td>10572</td><td>4    </td><td>17   </td><td>17   </td><td>0    </td><td>0    </td><td>1    </td><td>0    </td><td>2    </td><td>...  </td><td>0    </td><td>0    </td><td>0    </td><td>0    </td><td>0    </td><td>0    </td><td>0    </td><td>0    </td><td>0    </td><td>1    </td></tr>\n",
       "\t<tr><th scope=row>13883</th><td>13883</td><td>10845</td><td>4    </td><td> 2   </td><td> 2   </td><td>1    </td><td>0    </td><td>1    </td><td>0    </td><td>1    </td><td>...  </td><td>1    </td><td>0    </td><td>0    </td><td>1    </td><td>0    </td><td>0    </td><td>1    </td><td>0    </td><td>0    </td><td>1    </td></tr>\n",
       "\t<tr><th scope=row>13888</th><td>13888</td><td>10642</td><td>0    </td><td>10   </td><td>10   </td><td>0    </td><td>0    </td><td>0    </td><td>0    </td><td>0    </td><td>...  </td><td>0    </td><td>0    </td><td>0    </td><td>1    </td><td>0    </td><td>1    </td><td>0    </td><td>1    </td><td>0    </td><td>0    </td></tr>\n",
       "\t<tr><th scope=row>13891</th><td>13891</td><td>10670</td><td>0    </td><td>20   </td><td>20   </td><td>0    </td><td>0    </td><td>0    </td><td>0    </td><td>0    </td><td>...  </td><td>0    </td><td>0    </td><td>0    </td><td>1    </td><td>0    </td><td>1    </td><td>0    </td><td>0    </td><td>1    </td><td>0    </td></tr>\n",
       "\t<tr><th scope=row>13892</th><td>13892</td><td>10530</td><td>0    </td><td>27   </td><td>27   </td><td>1    </td><td>0    </td><td>0    </td><td>1    </td><td>0    </td><td>...  </td><td>0    </td><td>0    </td><td>0    </td><td>1    </td><td>0    </td><td>0    </td><td>0    </td><td>0    </td><td>0    </td><td>1    </td></tr>\n",
       "\t<tr><th scope=row>13893</th><td>13893</td><td>10691</td><td>0    </td><td>27   </td><td>27   </td><td>1    </td><td>0    </td><td>0    </td><td>1    </td><td>0    </td><td>...  </td><td>0    </td><td>0    </td><td>0    </td><td>0    </td><td>0    </td><td>1    </td><td>0    </td><td>1    </td><td>0    </td><td>0    </td></tr>\n",
       "\t<tr><th scope=row>13894</th><td>13894</td><td>10796</td><td>0    </td><td>15   </td><td>15   </td><td>1    </td><td>0    </td><td>0    </td><td>1    </td><td>0    </td><td>...  </td><td>1    </td><td>0    </td><td>0    </td><td>1    </td><td>0    </td><td>1    </td><td>0    </td><td>1    </td><td>0    </td><td>0    </td></tr>\n",
       "\t<tr><th scope=row>13895</th><td>13895</td><td>10635</td><td>4    </td><td>20   </td><td>20   </td><td>0    </td><td>0    </td><td>0    </td><td>1    </td><td>0    </td><td>...  </td><td>0    </td><td>0    </td><td>0    </td><td>1    </td><td>0    </td><td>0    </td><td>0    </td><td>0    </td><td>0    </td><td>1    </td></tr>\n",
       "\t<tr><th scope=row>13896</th><td>13896</td><td>10859</td><td>0    </td><td> 1   </td><td> 1   </td><td>1    </td><td>0    </td><td>0    </td><td>1    </td><td>0    </td><td>...  </td><td>0    </td><td>1    </td><td>0    </td><td>1    </td><td>0    </td><td>0    </td><td>0    </td><td>1    </td><td>0    </td><td>0    </td></tr>\n",
       "\t<tr><th scope=row>13899</th><td>13899</td><td>10796</td><td>0    </td><td>23   </td><td>23   </td><td>0    </td><td>1    </td><td>0    </td><td>0    </td><td>0    </td><td>...  </td><td>1    </td><td>0    </td><td>0    </td><td>0    </td><td>0    </td><td>0    </td><td>0    </td><td>0    </td><td>0    </td><td>1    </td></tr>\n",
       "\t<tr><th scope=row>13900</th><td>13900</td><td>10740</td><td>4    </td><td>13   </td><td>13   </td><td>1    </td><td>1    </td><td>0    </td><td>0    </td><td>0    </td><td>...  </td><td>0    </td><td>0    </td><td>1    </td><td>1    </td><td>0    </td><td>0    </td><td>0    </td><td>1    </td><td>0    </td><td>0    </td></tr>\n",
       "\t<tr><th scope=row>13901</th><td>13901</td><td>10845</td><td>0    </td><td> 6   </td><td> 6   </td><td>1    </td><td>0    </td><td>0    </td><td>1    </td><td>2    </td><td>...  </td><td>1    </td><td>0    </td><td>0    </td><td>0    </td><td>0    </td><td>0    </td><td>1    </td><td>0    </td><td>0    </td><td>1    </td></tr>\n",
       "\t<tr><th scope=row>13905</th><td>13905</td><td>10628</td><td>4    </td><td>10   </td><td>10   </td><td>0    </td><td>0    </td><td>1    </td><td>0    </td><td>0    </td><td>...  </td><td>0    </td><td>0    </td><td>0    </td><td>1    </td><td>0    </td><td>0    </td><td>0    </td><td>0    </td><td>0    </td><td>1    </td></tr>\n",
       "\t<tr><th scope=row>13906</th><td>13906</td><td>10523</td><td>4    </td><td> 4   </td><td> 4   </td><td>0    </td><td>0    </td><td>1    </td><td>0    </td><td>2    </td><td>...  </td><td>0    </td><td>0    </td><td>0    </td><td>0    </td><td>0    </td><td>0    </td><td>0    </td><td>0    </td><td>0    </td><td>1    </td></tr>\n",
       "\t<tr><th scope=row>13907</th><td>13907</td><td>10558</td><td>0    </td><td> 9   </td><td> 9   </td><td>0    </td><td>0    </td><td>0    </td><td>0    </td><td>2    </td><td>...  </td><td>0    </td><td>0    </td><td>0    </td><td>1    </td><td>0    </td><td>0    </td><td>0    </td><td>1    </td><td>0    </td><td>0    </td></tr>\n",
       "\t<tr><th scope=row>13911</th><td>13911</td><td>10817</td><td>4    </td><td> 4   </td><td> 4   </td><td>0    </td><td>0    </td><td>0    </td><td>0    </td><td>0    </td><td>...  </td><td>1    </td><td>0    </td><td>0    </td><td>0    </td><td>1    </td><td>0    </td><td>0    </td><td>0    </td><td>0    </td><td>0    </td></tr>\n",
       "\t<tr><th scope=row>13912</th><td>13912</td><td>10691</td><td>0    </td><td>27   </td><td>27   </td><td>0    </td><td>0    </td><td>0    </td><td>0    </td><td>0    </td><td>...  </td><td>0    </td><td>0    </td><td>0    </td><td>0    </td><td>1    </td><td>1    </td><td>0    </td><td>1    </td><td>0    </td><td>0    </td></tr>\n",
       "</tbody>\n",
       "</table>\n"
      ],
      "text/latex": [
       "\\begin{tabular}{r|llllllllllllllllllllllll}\n",
       "  & X & abdt & tg & inuidur1 & inuidur2 & female & black & hispanic & othrace & dep & ... & q5 & q6 & recall & agelt35 & agegt54 & durable & nondurable & lusd & husd & muld\\\\\n",
       "\\hline\n",
       "\t1 &  1    & 10824 & 0     & 18    & 18    & 0     & 0     & 0     & 0     & 2     & ...   & 1     & 0     & 0     & 0     & 0     & 0     & 0     & 0     & 1     & 0    \\\\\n",
       "\t4 &  4    & 10824 & 0     &  1    &  1    & 0     & 0     & 0     & 0     & 0     & ...   & 1     & 0     & 0     & 0     & 0     & 0     & 0     & 1     & 0     & 0    \\\\\n",
       "\t5 &  5    & 10747 & 0     & 27    & 27    & 0     & 0     & 0     & 0     & 0     & ...   & 0     & 0     & 0     & 0     & 0     & 0     & 0     & 1     & 0     & 0    \\\\\n",
       "\t12 & 12    & 10607 & 4     &  9    &  9    & 0     & 0     & 0     & 0     & 0     & ...   & 0     & 0     & 0     & 1     & 0     & 0     & 0     & 0     & 0     & 1    \\\\\n",
       "\t13 & 13    & 10831 & 0     & 27    & 27    & 0     & 0     & 0     & 0     & 1     & ...   & 1     & 0     & 0     & 0     & 1     & 1     & 0     & 1     & 0     & 0    \\\\\n",
       "\t14 & 14    & 10845 & 0     & 27    & 27    & 1     & 0     & 0     & 0     & 0     & ...   & 1     & 0     & 0     & 0     & 1     & 0     & 0     & 1     & 0     & 0    \\\\\n",
       "\t15 & 15    & 10831 & 0     &  9    &  9    & 1     & 0     & 0     & 0     & 1     & ...   & 1     & 0     & 0     & 0     & 1     & 0     & 0     & 1     & 0     & 0    \\\\\n",
       "\t17 & 17    & 10859 & 0     & 27    & 27    & 1     & 0     & 0     & 0     & 1     & ...   & 0     & 1     & 0     & 0     & 0     & 0     & 0     & 1     & 0     & 0    \\\\\n",
       "\t23 & 23    & 10516 & 0     & 15    & 15    & 1     & 0     & 0     & 0     & 0     & ...   & 0     & 0     & 0     & 0     & 0     & 0     & 0     & 1     & 0     & 0    \\\\\n",
       "\t25 & 25    & 10663 & 0     & 28    & 11    & 1     & 0     & 0     & 0     & 0     & ...   & 0     & 0     & 0     & 0     & 1     & 0     & 0     & 1     & 0     & 0    \\\\\n",
       "\t26 & 26    & 10747 & 0     & 12    & 12    & 1     & 0     & 0     & 0     & 2     & ...   & 0     & 0     & 1     & 1     & 0     & 0     & 0     & 0     & 0     & 1    \\\\\n",
       "\t27 & 27    & 10551 & 4     & 22    & 22    & 1     & 0     & 1     & 0     & 2     & ...   & 0     & 0     & 0     & 1     & 0     & 0     & 0     & 0     & 0     & 1    \\\\\n",
       "\t32 & 32    & 10768 & 0     & 18    & 18    & 1     & 0     & 0     & 0     & 0     & ...   & 1     & 0     & 0     & 0     & 1     & 0     & 0     & 0     & 0     & 1    \\\\\n",
       "\t33 & 33    & 10537 & 0     &  1    &  1    & 1     & 0     & 0     & 0     & 2     & ...   & 0     & 0     & 0     & 0     & 0     & 0     & 0     & 0     & 0     & 1    \\\\\n",
       "\t39 & 39    & 10600 & 4     &  7    &  7    & 1     & 0     & 0     & 0     & 0     & ...   & 0     & 0     & 0     & 0     & 0     & 0     & 0     & 1     & 0     & 0    \\\\\n",
       "\t43 & 43    & 10866 & 0     & 18    & 18    & 0     & 0     & 0     & 0     & 0     & ...   & 0     & 1     & 0     & 0     & 0     & 1     & 0     & 1     & 0     & 0    \\\\\n",
       "\t49 & 49    & 10572 & 0     & 14    & 14    & 0     & 0     & 0     & 0     & 2     & ...   & 0     & 0     & 0     & 0     & 0     & 0     & 0     & 1     & 0     & 0    \\\\\n",
       "\t50 & 50    & 10663 & 0     &  5    &  5    & 0     & 0     & 0     & 0     & 0     & ...   & 0     & 0     & 0     & 0     & 1     & 0     & 0     & 1     & 0     & 0    \\\\\n",
       "\t58 & 58    & 10789 & 0     &  9    &  9    & 0     & 0     & 0     & 0     & 0     & ...   & 1     & 0     & 0     & 0     & 0     & 0     & 1     & 1     & 0     & 0    \\\\\n",
       "\t59 & 59    & 10768 & 0     &  3    &  3    & 0     & 1     & 0     & 0     & 0     & ...   & 0     & 0     & 0     & 0     & 0     & 0     & 0     & 0     & 0     & 1    \\\\\n",
       "\t60 & 60    & 10649 & 0     & 27    & 27    & 0     & 0     & 0     & 0     & 1     & ...   & 0     & 0     & 0     & 1     & 0     & 0     & 0     & 0     & 1     & 0    \\\\\n",
       "\t61 & 61    & 10670 & 4     & 27    & 27    & 1     & 0     & 0     & 0     & 2     & ...   & 0     & 0     & 1     & 0     & 0     & 0     & 0     & 0     & 0     & 1    \\\\\n",
       "\t63 & 63    & 10796 & 0     & 10    & 10    & 0     & 0     & 0     & 0     & 0     & ...   & 1     & 0     & 0     & 1     & 0     & 0     & 0     & 0     & 1     & 0    \\\\\n",
       "\t65 & 65    & 10558 & 0     & 25    & 25    & 0     & 0     & 1     & 0     & 2     & ...   & 0     & 0     & 1     & 1     & 0     & 0     & 0     & 1     & 0     & 0    \\\\\n",
       "\t72 & 72    & 10831 & 4     &  1    &  1    & 0     & 0     & 0     & 0     & 0     & ...   & 1     & 0     & 0     & 0     & 0     & 0     & 0     & 1     & 0     & 0    \\\\\n",
       "\t73 & 73    & 10810 & 4     &  3    &  3    & 0     & 0     & 0     & 0     & 0     & ...   & 1     & 0     & 0     & 1     & 0     & 0     & 0     & 0     & 1     & 0    \\\\\n",
       "\t75 & 75    & 10551 & 4     & 13    & 13    & 0     & 0     & 0     & 0     & 2     & ...   & 0     & 0     & 0     & 1     & 0     & 0     & 0     & 0     & 1     & 0    \\\\\n",
       "\t77 & 77    & 10796 & 0     &  1    &  1    & 0     & 0     & 0     & 0     & 0     & ...   & 1     & 0     & 0     & 1     & 0     & 0     & 0     & 0     & 1     & 0    \\\\\n",
       "\t81 & 81    & 10719 & 0     & 27    & 27    & 0     & 0     & 0     & 0     & 0     & ...   & 0     & 0     & 0     & 1     & 0     & 1     & 0     & 1     & 0     & 0    \\\\\n",
       "\t82 & 82    & 10726 & 4     & 14    & 14    & 0     & 0     & 0     & 0     & 2     & ...   & 0     & 0     & 0     & 1     & 0     & 0     & 1     & 1     & 0     & 0    \\\\\n",
       "\t... & ... & ... & ... & ... & ... & ... & ... & ... & ... & ... &     & ... & ... & ... & ... & ... & ... & ... & ... & ... & ...\\\\\n",
       "\t13829 & 13829 & 10558 & 0     & 20    & 20    & 0     & 0     & 1     & 0     & 0     & ...   & 0     & 0     & 0     & 1     & 0     & 0     & 0     & 0     & 0     & 1    \\\\\n",
       "\t13831 & 13831 & 10852 & 4     & 27    & 27    & 0     & 0     & 1     & 0     & 0     & ...   & 1     & 0     & 0     & 1     & 0     & 1     & 0     & 0     & 0     & 1    \\\\\n",
       "\t13842 & 13842 & 10579 & 4     & 13    & 13    & 0     & 0     & 1     & 0     & 1     & ...   & 0     & 0     & 0     & 1     & 0     & 0     & 0     & 0     & 0     & 1    \\\\\n",
       "\t13845 & 13845 & 10796 & 0     &  1    &  1    & 1     & 0     & 1     & 0     & 1     & ...   & 1     & 0     & 0     & 0     & 0     & 0     & 1     & 1     & 0     & 0    \\\\\n",
       "\t13846 & 13846 & 10782 & 0     &  1    &  1    & 0     & 0     & 1     & 0     & 1     & ...   & 1     & 0     & 0     & 1     & 0     & 0     & 0     & 1     & 0     & 0    \\\\\n",
       "\t13847 & 13847 & 10579 & 4     & 16    & 16    & 0     & 0     & 1     & 0     & 2     & ...   & 0     & 0     & 0     & 0     & 0     & 0     & 0     & 0     & 0     & 1    \\\\\n",
       "\t13854 & 13854 & 10544 & 0     & 13    & 13    & 0     & 0     & 1     & 0     & 0     & ...   & 0     & 0     & 0     & 0     & 0     & 0     & 0     & 0     & 0     & 1    \\\\\n",
       "\t13864 & 13864 & 10628 & 0     & 10    & 10    & 0     & 0     & 1     & 0     & 0     & ...   & 0     & 0     & 0     & 0     & 0     & 1     & 0     & 0     & 0     & 1    \\\\\n",
       "\t13872 & 13872 & 10593 & 4     &  1    &  1    & 0     & 0     & 1     & 0     & 0     & ...   & 0     & 0     & 0     & 1     & 0     & 0     & 1     & 1     & 0     & 0    \\\\\n",
       "\t13873 & 13873 & 10593 & 4     &  2    &  2    & 0     & 0     & 1     & 0     & 2     & ...   & 0     & 0     & 0     & 0     & 0     & 1     & 0     & 1     & 0     & 0    \\\\\n",
       "\t13875 & 13875 & 10712 & 0     & 22    & 22    & 0     & 0     & 1     & 0     & 2     & ...   & 0     & 0     & 0     & 1     & 0     & 0     & 1     & 0     & 0     & 1    \\\\\n",
       "\t13876 & 13876 & 10768 & 0     & 27    & 27    & 0     & 0     & 1     & 0     & 0     & ...   & 1     & 0     & 0     & 1     & 0     & 1     & 0     & 0     & 0     & 1    \\\\\n",
       "\t13877 & 13877 & 10817 & 0     & 16    & 16    & 1     & 0     & 1     & 0     & 0     & ...   & 1     & 0     & 0     & 0     & 0     & 0     & 0     & 0     & 0     & 1    \\\\\n",
       "\t13880 & 13880 & 10572 & 4     & 17    & 17    & 0     & 0     & 1     & 0     & 2     & ...   & 0     & 0     & 0     & 0     & 0     & 0     & 0     & 0     & 0     & 1    \\\\\n",
       "\t13883 & 13883 & 10845 & 4     &  2    &  2    & 1     & 0     & 1     & 0     & 1     & ...   & 1     & 0     & 0     & 1     & 0     & 0     & 1     & 0     & 0     & 1    \\\\\n",
       "\t13888 & 13888 & 10642 & 0     & 10    & 10    & 0     & 0     & 0     & 0     & 0     & ...   & 0     & 0     & 0     & 1     & 0     & 1     & 0     & 1     & 0     & 0    \\\\\n",
       "\t13891 & 13891 & 10670 & 0     & 20    & 20    & 0     & 0     & 0     & 0     & 0     & ...   & 0     & 0     & 0     & 1     & 0     & 1     & 0     & 0     & 1     & 0    \\\\\n",
       "\t13892 & 13892 & 10530 & 0     & 27    & 27    & 1     & 0     & 0     & 1     & 0     & ...   & 0     & 0     & 0     & 1     & 0     & 0     & 0     & 0     & 0     & 1    \\\\\n",
       "\t13893 & 13893 & 10691 & 0     & 27    & 27    & 1     & 0     & 0     & 1     & 0     & ...   & 0     & 0     & 0     & 0     & 0     & 1     & 0     & 1     & 0     & 0    \\\\\n",
       "\t13894 & 13894 & 10796 & 0     & 15    & 15    & 1     & 0     & 0     & 1     & 0     & ...   & 1     & 0     & 0     & 1     & 0     & 1     & 0     & 1     & 0     & 0    \\\\\n",
       "\t13895 & 13895 & 10635 & 4     & 20    & 20    & 0     & 0     & 0     & 1     & 0     & ...   & 0     & 0     & 0     & 1     & 0     & 0     & 0     & 0     & 0     & 1    \\\\\n",
       "\t13896 & 13896 & 10859 & 0     &  1    &  1    & 1     & 0     & 0     & 1     & 0     & ...   & 0     & 1     & 0     & 1     & 0     & 0     & 0     & 1     & 0     & 0    \\\\\n",
       "\t13899 & 13899 & 10796 & 0     & 23    & 23    & 0     & 1     & 0     & 0     & 0     & ...   & 1     & 0     & 0     & 0     & 0     & 0     & 0     & 0     & 0     & 1    \\\\\n",
       "\t13900 & 13900 & 10740 & 4     & 13    & 13    & 1     & 1     & 0     & 0     & 0     & ...   & 0     & 0     & 1     & 1     & 0     & 0     & 0     & 1     & 0     & 0    \\\\\n",
       "\t13901 & 13901 & 10845 & 0     &  6    &  6    & 1     & 0     & 0     & 1     & 2     & ...   & 1     & 0     & 0     & 0     & 0     & 0     & 1     & 0     & 0     & 1    \\\\\n",
       "\t13905 & 13905 & 10628 & 4     & 10    & 10    & 0     & 0     & 1     & 0     & 0     & ...   & 0     & 0     & 0     & 1     & 0     & 0     & 0     & 0     & 0     & 1    \\\\\n",
       "\t13906 & 13906 & 10523 & 4     &  4    &  4    & 0     & 0     & 1     & 0     & 2     & ...   & 0     & 0     & 0     & 0     & 0     & 0     & 0     & 0     & 0     & 1    \\\\\n",
       "\t13907 & 13907 & 10558 & 0     &  9    &  9    & 0     & 0     & 0     & 0     & 2     & ...   & 0     & 0     & 0     & 1     & 0     & 0     & 0     & 1     & 0     & 0    \\\\\n",
       "\t13911 & 13911 & 10817 & 4     &  4    &  4    & 0     & 0     & 0     & 0     & 0     & ...   & 1     & 0     & 0     & 0     & 1     & 0     & 0     & 0     & 0     & 0    \\\\\n",
       "\t13912 & 13912 & 10691 & 0     & 27    & 27    & 0     & 0     & 0     & 0     & 0     & ...   & 0     & 0     & 0     & 0     & 1     & 1     & 0     & 1     & 0     & 0    \\\\\n",
       "\\end{tabular}\n"
      ],
      "text/markdown": [
       "\n",
       "| <!--/--> | X | abdt | tg | inuidur1 | inuidur2 | female | black | hispanic | othrace | dep | ... | q5 | q6 | recall | agelt35 | agegt54 | durable | nondurable | lusd | husd | muld |\n",
       "|---|---|---|---|---|---|---|---|---|---|---|---|---|---|---|---|---|---|---|---|---|---|\n",
       "| 1 |  1    | 10824 | 0     | 18    | 18    | 0     | 0     | 0     | 0     | 2     | ...   | 1     | 0     | 0     | 0     | 0     | 0     | 0     | 0     | 1     | 0     |\n",
       "| 4 |  4    | 10824 | 0     |  1    |  1    | 0     | 0     | 0     | 0     | 0     | ...   | 1     | 0     | 0     | 0     | 0     | 0     | 0     | 1     | 0     | 0     |\n",
       "| 5 |  5    | 10747 | 0     | 27    | 27    | 0     | 0     | 0     | 0     | 0     | ...   | 0     | 0     | 0     | 0     | 0     | 0     | 0     | 1     | 0     | 0     |\n",
       "| 12 | 12    | 10607 | 4     |  9    |  9    | 0     | 0     | 0     | 0     | 0     | ...   | 0     | 0     | 0     | 1     | 0     | 0     | 0     | 0     | 0     | 1     |\n",
       "| 13 | 13    | 10831 | 0     | 27    | 27    | 0     | 0     | 0     | 0     | 1     | ...   | 1     | 0     | 0     | 0     | 1     | 1     | 0     | 1     | 0     | 0     |\n",
       "| 14 | 14    | 10845 | 0     | 27    | 27    | 1     | 0     | 0     | 0     | 0     | ...   | 1     | 0     | 0     | 0     | 1     | 0     | 0     | 1     | 0     | 0     |\n",
       "| 15 | 15    | 10831 | 0     |  9    |  9    | 1     | 0     | 0     | 0     | 1     | ...   | 1     | 0     | 0     | 0     | 1     | 0     | 0     | 1     | 0     | 0     |\n",
       "| 17 | 17    | 10859 | 0     | 27    | 27    | 1     | 0     | 0     | 0     | 1     | ...   | 0     | 1     | 0     | 0     | 0     | 0     | 0     | 1     | 0     | 0     |\n",
       "| 23 | 23    | 10516 | 0     | 15    | 15    | 1     | 0     | 0     | 0     | 0     | ...   | 0     | 0     | 0     | 0     | 0     | 0     | 0     | 1     | 0     | 0     |\n",
       "| 25 | 25    | 10663 | 0     | 28    | 11    | 1     | 0     | 0     | 0     | 0     | ...   | 0     | 0     | 0     | 0     | 1     | 0     | 0     | 1     | 0     | 0     |\n",
       "| 26 | 26    | 10747 | 0     | 12    | 12    | 1     | 0     | 0     | 0     | 2     | ...   | 0     | 0     | 1     | 1     | 0     | 0     | 0     | 0     | 0     | 1     |\n",
       "| 27 | 27    | 10551 | 4     | 22    | 22    | 1     | 0     | 1     | 0     | 2     | ...   | 0     | 0     | 0     | 1     | 0     | 0     | 0     | 0     | 0     | 1     |\n",
       "| 32 | 32    | 10768 | 0     | 18    | 18    | 1     | 0     | 0     | 0     | 0     | ...   | 1     | 0     | 0     | 0     | 1     | 0     | 0     | 0     | 0     | 1     |\n",
       "| 33 | 33    | 10537 | 0     |  1    |  1    | 1     | 0     | 0     | 0     | 2     | ...   | 0     | 0     | 0     | 0     | 0     | 0     | 0     | 0     | 0     | 1     |\n",
       "| 39 | 39    | 10600 | 4     |  7    |  7    | 1     | 0     | 0     | 0     | 0     | ...   | 0     | 0     | 0     | 0     | 0     | 0     | 0     | 1     | 0     | 0     |\n",
       "| 43 | 43    | 10866 | 0     | 18    | 18    | 0     | 0     | 0     | 0     | 0     | ...   | 0     | 1     | 0     | 0     | 0     | 1     | 0     | 1     | 0     | 0     |\n",
       "| 49 | 49    | 10572 | 0     | 14    | 14    | 0     | 0     | 0     | 0     | 2     | ...   | 0     | 0     | 0     | 0     | 0     | 0     | 0     | 1     | 0     | 0     |\n",
       "| 50 | 50    | 10663 | 0     |  5    |  5    | 0     | 0     | 0     | 0     | 0     | ...   | 0     | 0     | 0     | 0     | 1     | 0     | 0     | 1     | 0     | 0     |\n",
       "| 58 | 58    | 10789 | 0     |  9    |  9    | 0     | 0     | 0     | 0     | 0     | ...   | 1     | 0     | 0     | 0     | 0     | 0     | 1     | 1     | 0     | 0     |\n",
       "| 59 | 59    | 10768 | 0     |  3    |  3    | 0     | 1     | 0     | 0     | 0     | ...   | 0     | 0     | 0     | 0     | 0     | 0     | 0     | 0     | 0     | 1     |\n",
       "| 60 | 60    | 10649 | 0     | 27    | 27    | 0     | 0     | 0     | 0     | 1     | ...   | 0     | 0     | 0     | 1     | 0     | 0     | 0     | 0     | 1     | 0     |\n",
       "| 61 | 61    | 10670 | 4     | 27    | 27    | 1     | 0     | 0     | 0     | 2     | ...   | 0     | 0     | 1     | 0     | 0     | 0     | 0     | 0     | 0     | 1     |\n",
       "| 63 | 63    | 10796 | 0     | 10    | 10    | 0     | 0     | 0     | 0     | 0     | ...   | 1     | 0     | 0     | 1     | 0     | 0     | 0     | 0     | 1     | 0     |\n",
       "| 65 | 65    | 10558 | 0     | 25    | 25    | 0     | 0     | 1     | 0     | 2     | ...   | 0     | 0     | 1     | 1     | 0     | 0     | 0     | 1     | 0     | 0     |\n",
       "| 72 | 72    | 10831 | 4     |  1    |  1    | 0     | 0     | 0     | 0     | 0     | ...   | 1     | 0     | 0     | 0     | 0     | 0     | 0     | 1     | 0     | 0     |\n",
       "| 73 | 73    | 10810 | 4     |  3    |  3    | 0     | 0     | 0     | 0     | 0     | ...   | 1     | 0     | 0     | 1     | 0     | 0     | 0     | 0     | 1     | 0     |\n",
       "| 75 | 75    | 10551 | 4     | 13    | 13    | 0     | 0     | 0     | 0     | 2     | ...   | 0     | 0     | 0     | 1     | 0     | 0     | 0     | 0     | 1     | 0     |\n",
       "| 77 | 77    | 10796 | 0     |  1    |  1    | 0     | 0     | 0     | 0     | 0     | ...   | 1     | 0     | 0     | 1     | 0     | 0     | 0     | 0     | 1     | 0     |\n",
       "| 81 | 81    | 10719 | 0     | 27    | 27    | 0     | 0     | 0     | 0     | 0     | ...   | 0     | 0     | 0     | 1     | 0     | 1     | 0     | 1     | 0     | 0     |\n",
       "| 82 | 82    | 10726 | 4     | 14    | 14    | 0     | 0     | 0     | 0     | 2     | ...   | 0     | 0     | 0     | 1     | 0     | 0     | 1     | 1     | 0     | 0     |\n",
       "| ... | ... | ... | ... | ... | ... | ... | ... | ... | ... | ... |     | ... | ... | ... | ... | ... | ... | ... | ... | ... | ... |\n",
       "| 13829 | 13829 | 10558 | 0     | 20    | 20    | 0     | 0     | 1     | 0     | 0     | ...   | 0     | 0     | 0     | 1     | 0     | 0     | 0     | 0     | 0     | 1     |\n",
       "| 13831 | 13831 | 10852 | 4     | 27    | 27    | 0     | 0     | 1     | 0     | 0     | ...   | 1     | 0     | 0     | 1     | 0     | 1     | 0     | 0     | 0     | 1     |\n",
       "| 13842 | 13842 | 10579 | 4     | 13    | 13    | 0     | 0     | 1     | 0     | 1     | ...   | 0     | 0     | 0     | 1     | 0     | 0     | 0     | 0     | 0     | 1     |\n",
       "| 13845 | 13845 | 10796 | 0     |  1    |  1    | 1     | 0     | 1     | 0     | 1     | ...   | 1     | 0     | 0     | 0     | 0     | 0     | 1     | 1     | 0     | 0     |\n",
       "| 13846 | 13846 | 10782 | 0     |  1    |  1    | 0     | 0     | 1     | 0     | 1     | ...   | 1     | 0     | 0     | 1     | 0     | 0     | 0     | 1     | 0     | 0     |\n",
       "| 13847 | 13847 | 10579 | 4     | 16    | 16    | 0     | 0     | 1     | 0     | 2     | ...   | 0     | 0     | 0     | 0     | 0     | 0     | 0     | 0     | 0     | 1     |\n",
       "| 13854 | 13854 | 10544 | 0     | 13    | 13    | 0     | 0     | 1     | 0     | 0     | ...   | 0     | 0     | 0     | 0     | 0     | 0     | 0     | 0     | 0     | 1     |\n",
       "| 13864 | 13864 | 10628 | 0     | 10    | 10    | 0     | 0     | 1     | 0     | 0     | ...   | 0     | 0     | 0     | 0     | 0     | 1     | 0     | 0     | 0     | 1     |\n",
       "| 13872 | 13872 | 10593 | 4     |  1    |  1    | 0     | 0     | 1     | 0     | 0     | ...   | 0     | 0     | 0     | 1     | 0     | 0     | 1     | 1     | 0     | 0     |\n",
       "| 13873 | 13873 | 10593 | 4     |  2    |  2    | 0     | 0     | 1     | 0     | 2     | ...   | 0     | 0     | 0     | 0     | 0     | 1     | 0     | 1     | 0     | 0     |\n",
       "| 13875 | 13875 | 10712 | 0     | 22    | 22    | 0     | 0     | 1     | 0     | 2     | ...   | 0     | 0     | 0     | 1     | 0     | 0     | 1     | 0     | 0     | 1     |\n",
       "| 13876 | 13876 | 10768 | 0     | 27    | 27    | 0     | 0     | 1     | 0     | 0     | ...   | 1     | 0     | 0     | 1     | 0     | 1     | 0     | 0     | 0     | 1     |\n",
       "| 13877 | 13877 | 10817 | 0     | 16    | 16    | 1     | 0     | 1     | 0     | 0     | ...   | 1     | 0     | 0     | 0     | 0     | 0     | 0     | 0     | 0     | 1     |\n",
       "| 13880 | 13880 | 10572 | 4     | 17    | 17    | 0     | 0     | 1     | 0     | 2     | ...   | 0     | 0     | 0     | 0     | 0     | 0     | 0     | 0     | 0     | 1     |\n",
       "| 13883 | 13883 | 10845 | 4     |  2    |  2    | 1     | 0     | 1     | 0     | 1     | ...   | 1     | 0     | 0     | 1     | 0     | 0     | 1     | 0     | 0     | 1     |\n",
       "| 13888 | 13888 | 10642 | 0     | 10    | 10    | 0     | 0     | 0     | 0     | 0     | ...   | 0     | 0     | 0     | 1     | 0     | 1     | 0     | 1     | 0     | 0     |\n",
       "| 13891 | 13891 | 10670 | 0     | 20    | 20    | 0     | 0     | 0     | 0     | 0     | ...   | 0     | 0     | 0     | 1     | 0     | 1     | 0     | 0     | 1     | 0     |\n",
       "| 13892 | 13892 | 10530 | 0     | 27    | 27    | 1     | 0     | 0     | 1     | 0     | ...   | 0     | 0     | 0     | 1     | 0     | 0     | 0     | 0     | 0     | 1     |\n",
       "| 13893 | 13893 | 10691 | 0     | 27    | 27    | 1     | 0     | 0     | 1     | 0     | ...   | 0     | 0     | 0     | 0     | 0     | 1     | 0     | 1     | 0     | 0     |\n",
       "| 13894 | 13894 | 10796 | 0     | 15    | 15    | 1     | 0     | 0     | 1     | 0     | ...   | 1     | 0     | 0     | 1     | 0     | 1     | 0     | 1     | 0     | 0     |\n",
       "| 13895 | 13895 | 10635 | 4     | 20    | 20    | 0     | 0     | 0     | 1     | 0     | ...   | 0     | 0     | 0     | 1     | 0     | 0     | 0     | 0     | 0     | 1     |\n",
       "| 13896 | 13896 | 10859 | 0     |  1    |  1    | 1     | 0     | 0     | 1     | 0     | ...   | 0     | 1     | 0     | 1     | 0     | 0     | 0     | 1     | 0     | 0     |\n",
       "| 13899 | 13899 | 10796 | 0     | 23    | 23    | 0     | 1     | 0     | 0     | 0     | ...   | 1     | 0     | 0     | 0     | 0     | 0     | 0     | 0     | 0     | 1     |\n",
       "| 13900 | 13900 | 10740 | 4     | 13    | 13    | 1     | 1     | 0     | 0     | 0     | ...   | 0     | 0     | 1     | 1     | 0     | 0     | 0     | 1     | 0     | 0     |\n",
       "| 13901 | 13901 | 10845 | 0     |  6    |  6    | 1     | 0     | 0     | 1     | 2     | ...   | 1     | 0     | 0     | 0     | 0     | 0     | 1     | 0     | 0     | 1     |\n",
       "| 13905 | 13905 | 10628 | 4     | 10    | 10    | 0     | 0     | 1     | 0     | 0     | ...   | 0     | 0     | 0     | 1     | 0     | 0     | 0     | 0     | 0     | 1     |\n",
       "| 13906 | 13906 | 10523 | 4     |  4    |  4    | 0     | 0     | 1     | 0     | 2     | ...   | 0     | 0     | 0     | 0     | 0     | 0     | 0     | 0     | 0     | 1     |\n",
       "| 13907 | 13907 | 10558 | 0     |  9    |  9    | 0     | 0     | 0     | 0     | 2     | ...   | 0     | 0     | 0     | 1     | 0     | 0     | 0     | 1     | 0     | 0     |\n",
       "| 13911 | 13911 | 10817 | 4     |  4    |  4    | 0     | 0     | 0     | 0     | 0     | ...   | 1     | 0     | 0     | 0     | 1     | 0     | 0     | 0     | 0     | 0     |\n",
       "| 13912 | 13912 | 10691 | 0     | 27    | 27    | 0     | 0     | 0     | 0     | 0     | ...   | 0     | 0     | 0     | 0     | 1     | 1     | 0     | 1     | 0     | 0     |\n",
       "\n"
      ],
      "text/plain": [
       "      X     abdt  tg  inuidur1 inuidur2 female black hispanic othrace dep ...\n",
       "1      1    10824 0   18       18       0      0     0        0       2   ...\n",
       "4      4    10824 0    1        1       0      0     0        0       0   ...\n",
       "5      5    10747 0   27       27       0      0     0        0       0   ...\n",
       "12    12    10607 4    9        9       0      0     0        0       0   ...\n",
       "13    13    10831 0   27       27       0      0     0        0       1   ...\n",
       "14    14    10845 0   27       27       1      0     0        0       0   ...\n",
       "15    15    10831 0    9        9       1      0     0        0       1   ...\n",
       "17    17    10859 0   27       27       1      0     0        0       1   ...\n",
       "23    23    10516 0   15       15       1      0     0        0       0   ...\n",
       "25    25    10663 0   28       11       1      0     0        0       0   ...\n",
       "26    26    10747 0   12       12       1      0     0        0       2   ...\n",
       "27    27    10551 4   22       22       1      0     1        0       2   ...\n",
       "32    32    10768 0   18       18       1      0     0        0       0   ...\n",
       "33    33    10537 0    1        1       1      0     0        0       2   ...\n",
       "39    39    10600 4    7        7       1      0     0        0       0   ...\n",
       "43    43    10866 0   18       18       0      0     0        0       0   ...\n",
       "49    49    10572 0   14       14       0      0     0        0       2   ...\n",
       "50    50    10663 0    5        5       0      0     0        0       0   ...\n",
       "58    58    10789 0    9        9       0      0     0        0       0   ...\n",
       "59    59    10768 0    3        3       0      1     0        0       0   ...\n",
       "60    60    10649 0   27       27       0      0     0        0       1   ...\n",
       "61    61    10670 4   27       27       1      0     0        0       2   ...\n",
       "63    63    10796 0   10       10       0      0     0        0       0   ...\n",
       "65    65    10558 0   25       25       0      0     1        0       2   ...\n",
       "72    72    10831 4    1        1       0      0     0        0       0   ...\n",
       "73    73    10810 4    3        3       0      0     0        0       0   ...\n",
       "75    75    10551 4   13       13       0      0     0        0       2   ...\n",
       "77    77    10796 0    1        1       0      0     0        0       0   ...\n",
       "81    81    10719 0   27       27       0      0     0        0       0   ...\n",
       "82    82    10726 4   14       14       0      0     0        0       2   ...\n",
       "...   ...   ...   ... ...      ...      ...    ...   ...      ...     ...    \n",
       "13829 13829 10558 0   20       20       0      0     1        0       0   ...\n",
       "13831 13831 10852 4   27       27       0      0     1        0       0   ...\n",
       "13842 13842 10579 4   13       13       0      0     1        0       1   ...\n",
       "13845 13845 10796 0    1        1       1      0     1        0       1   ...\n",
       "13846 13846 10782 0    1        1       0      0     1        0       1   ...\n",
       "13847 13847 10579 4   16       16       0      0     1        0       2   ...\n",
       "13854 13854 10544 0   13       13       0      0     1        0       0   ...\n",
       "13864 13864 10628 0   10       10       0      0     1        0       0   ...\n",
       "13872 13872 10593 4    1        1       0      0     1        0       0   ...\n",
       "13873 13873 10593 4    2        2       0      0     1        0       2   ...\n",
       "13875 13875 10712 0   22       22       0      0     1        0       2   ...\n",
       "13876 13876 10768 0   27       27       0      0     1        0       0   ...\n",
       "13877 13877 10817 0   16       16       1      0     1        0       0   ...\n",
       "13880 13880 10572 4   17       17       0      0     1        0       2   ...\n",
       "13883 13883 10845 4    2        2       1      0     1        0       1   ...\n",
       "13888 13888 10642 0   10       10       0      0     0        0       0   ...\n",
       "13891 13891 10670 0   20       20       0      0     0        0       0   ...\n",
       "13892 13892 10530 0   27       27       1      0     0        1       0   ...\n",
       "13893 13893 10691 0   27       27       1      0     0        1       0   ...\n",
       "13894 13894 10796 0   15       15       1      0     0        1       0   ...\n",
       "13895 13895 10635 4   20       20       0      0     0        1       0   ...\n",
       "13896 13896 10859 0    1        1       1      0     0        1       0   ...\n",
       "13899 13899 10796 0   23       23       0      1     0        0       0   ...\n",
       "13900 13900 10740 4   13       13       1      1     0        0       0   ...\n",
       "13901 13901 10845 0    6        6       1      0     0        1       2   ...\n",
       "13905 13905 10628 4   10       10       0      0     1        0       0   ...\n",
       "13906 13906 10523 4    4        4       0      0     1        0       2   ...\n",
       "13907 13907 10558 0    9        9       0      0     0        0       2   ...\n",
       "13911 13911 10817 4    4        4       0      0     0        0       0   ...\n",
       "13912 13912 10691 0   27       27       0      0     0        0       0   ...\n",
       "      q5  q6  recall agelt35 agegt54 durable nondurable lusd husd muld\n",
       "1     1   0   0      0       0       0       0          0    1    0   \n",
       "4     1   0   0      0       0       0       0          1    0    0   \n",
       "5     0   0   0      0       0       0       0          1    0    0   \n",
       "12    0   0   0      1       0       0       0          0    0    1   \n",
       "13    1   0   0      0       1       1       0          1    0    0   \n",
       "14    1   0   0      0       1       0       0          1    0    0   \n",
       "15    1   0   0      0       1       0       0          1    0    0   \n",
       "17    0   1   0      0       0       0       0          1    0    0   \n",
       "23    0   0   0      0       0       0       0          1    0    0   \n",
       "25    0   0   0      0       1       0       0          1    0    0   \n",
       "26    0   0   1      1       0       0       0          0    0    1   \n",
       "27    0   0   0      1       0       0       0          0    0    1   \n",
       "32    1   0   0      0       1       0       0          0    0    1   \n",
       "33    0   0   0      0       0       0       0          0    0    1   \n",
       "39    0   0   0      0       0       0       0          1    0    0   \n",
       "43    0   1   0      0       0       1       0          1    0    0   \n",
       "49    0   0   0      0       0       0       0          1    0    0   \n",
       "50    0   0   0      0       1       0       0          1    0    0   \n",
       "58    1   0   0      0       0       0       1          1    0    0   \n",
       "59    0   0   0      0       0       0       0          0    0    1   \n",
       "60    0   0   0      1       0       0       0          0    1    0   \n",
       "61    0   0   1      0       0       0       0          0    0    1   \n",
       "63    1   0   0      1       0       0       0          0    1    0   \n",
       "65    0   0   1      1       0       0       0          1    0    0   \n",
       "72    1   0   0      0       0       0       0          1    0    0   \n",
       "73    1   0   0      1       0       0       0          0    1    0   \n",
       "75    0   0   0      1       0       0       0          0    1    0   \n",
       "77    1   0   0      1       0       0       0          0    1    0   \n",
       "81    0   0   0      1       0       1       0          1    0    0   \n",
       "82    0   0   0      1       0       0       1          1    0    0   \n",
       "...   ... ... ...    ...     ...     ...     ...        ...  ...  ... \n",
       "13829 0   0   0      1       0       0       0          0    0    1   \n",
       "13831 1   0   0      1       0       1       0          0    0    1   \n",
       "13842 0   0   0      1       0       0       0          0    0    1   \n",
       "13845 1   0   0      0       0       0       1          1    0    0   \n",
       "13846 1   0   0      1       0       0       0          1    0    0   \n",
       "13847 0   0   0      0       0       0       0          0    0    1   \n",
       "13854 0   0   0      0       0       0       0          0    0    1   \n",
       "13864 0   0   0      0       0       1       0          0    0    1   \n",
       "13872 0   0   0      1       0       0       1          1    0    0   \n",
       "13873 0   0   0      0       0       1       0          1    0    0   \n",
       "13875 0   0   0      1       0       0       1          0    0    1   \n",
       "13876 1   0   0      1       0       1       0          0    0    1   \n",
       "13877 1   0   0      0       0       0       0          0    0    1   \n",
       "13880 0   0   0      0       0       0       0          0    0    1   \n",
       "13883 1   0   0      1       0       0       1          0    0    1   \n",
       "13888 0   0   0      1       0       1       0          1    0    0   \n",
       "13891 0   0   0      1       0       1       0          0    1    0   \n",
       "13892 0   0   0      1       0       0       0          0    0    1   \n",
       "13893 0   0   0      0       0       1       0          1    0    0   \n",
       "13894 1   0   0      1       0       1       0          1    0    0   \n",
       "13895 0   0   0      1       0       0       0          0    0    1   \n",
       "13896 0   1   0      1       0       0       0          1    0    0   \n",
       "13899 1   0   0      0       0       0       0          0    0    1   \n",
       "13900 0   0   1      1       0       0       0          1    0    0   \n",
       "13901 1   0   0      0       0       0       1          0    0    1   \n",
       "13905 0   0   0      1       0       0       0          0    0    1   \n",
       "13906 0   0   0      0       0       0       0          0    0    1   \n",
       "13907 0   0   0      1       0       0       0          1    0    0   \n",
       "13911 1   0   0      0       1       0       0          0    0    0   \n",
       "13912 0   0   0      0       1       1       0          1    0    0   "
      ]
     },
     "metadata": {},
     "output_type": "display_data"
    }
   ],
   "source": [
    "# Filtrar los datos\n",
    "data <- subset(data, tg == 4 | tg == 0)\n",
    "data"
   ]
  },
  {
   "cell_type": "code",
   "execution_count": 4,
   "id": "aa623593",
   "metadata": {},
   "outputs": [],
   "source": [
    "# Fórmula del modelo\n",
    "formula <- log(inuidur1) ~ tg + female + black + othrace + factor(dep) + \n",
    "           q2 + q3 + q4 + q5 + q6 + agelt35 + agegt54 + durable + lusd + husd"
   ]
  },
  {
   "cell_type": "code",
   "execution_count": 5,
   "id": "5342bf28",
   "metadata": {},
   "outputs": [],
   "source": [
    "# Definir función para obtener los coeficientes del modelo\n",
    "boot_fn <- function(data, index) {\n",
    "  fit <- lm(formula, data = data[index, ])\n",
    "  return(coef(fit))\n",
    "}"
   ]
  },
  {
   "cell_type": "code",
   "execution_count": 6,
   "id": "9f543584",
   "metadata": {},
   "outputs": [],
   "source": [
    "# Aplicar bootstrap\n",
    "set.seed(123)\n",
    "results <- boot(data, boot_fn, R = 1000)"
   ]
  },
  {
   "cell_type": "code",
   "execution_count": 7,
   "id": "fe8f7919",
   "metadata": {},
   "outputs": [],
   "source": [
    "# Obtener errores estándar para las variables tg, female y black\n",
    "coef_names <- names(coef(lm(formula, data = data)))\n",
    "colnames(results$t) <- coef_names\n",
    "\n",
    "tg_se <- sd(results$t[, \"tg\"])\n",
    "female_se <- sd(results$t[, \"female\"])\n",
    "black_se <- sd(results$t[, \"black\"])"
   ]
  },
  {
   "cell_type": "code",
   "execution_count": 8,
   "id": "224d0c1d",
   "metadata": {},
   "outputs": [
    {
     "data": {
      "text/html": [
       "<table>\n",
       "<thead><tr><th scope=col>Variable</th><th scope=col>Standard_Error</th></tr></thead>\n",
       "<tbody>\n",
       "\t<tr><td>tg         </td><td>0.008885217</td></tr>\n",
       "\t<tr><td>female     </td><td>0.034558548</td></tr>\n",
       "\t<tr><td>black      </td><td>0.059231111</td></tr>\n",
       "</tbody>\n",
       "</table>\n"
      ],
      "text/latex": [
       "\\begin{tabular}{r|ll}\n",
       " Variable & Standard\\_Error\\\\\n",
       "\\hline\n",
       "\t tg          & 0.008885217\\\\\n",
       "\t female      & 0.034558548\\\\\n",
       "\t black       & 0.059231111\\\\\n",
       "\\end{tabular}\n"
      ],
      "text/markdown": [
       "\n",
       "| Variable | Standard_Error |\n",
       "|---|---|\n",
       "| tg          | 0.008885217 |\n",
       "| female      | 0.034558548 |\n",
       "| black       | 0.059231111 |\n",
       "\n"
      ],
      "text/plain": [
       "  Variable Standard_Error\n",
       "1 tg       0.008885217   \n",
       "2 female   0.034558548   \n",
       "3 black    0.059231111   "
      ]
     },
     "metadata": {},
     "output_type": "display_data"
    }
   ],
   "source": [
    "# Crear una tabla de resultados\n",
    "results_table <- data.frame(\n",
    "  Variable = c(\"tg\", \"female\", \"black\"),\n",
    "  Standard_Error = c(tg_se, female_se, black_se)\n",
    ")\n",
    "\n",
    "results_table"
   ]
  },
  {
   "cell_type": "markdown",
   "id": "289edd5e",
   "metadata": {},
   "source": [
    "# Causal Forest"
   ]
  },
  {
   "cell_type": "code",
   "execution_count": 1,
   "id": "502530a5-9a34-4ba4-8c6c-90c61f318acb",
   "metadata": {},
   "outputs": [],
   "source": [
    "#install.packages(\"grf\")\n",
    "#install.packages(\"Hmisc\")"
   ]
  },
  {
   "cell_type": "markdown",
   "id": "6da79150-d52a-48d1-aa01-fcdba9526e9f",
   "metadata": {
    "tags": []
   },
   "source": [
    "### 1. How the tree was built?"
   ]
  },
  {
   "cell_type": "code",
   "execution_count": 2,
   "id": "2eabd517-2a7a-4adf-83af-5843248ace0b",
   "metadata": {},
   "outputs": [
    {
     "name": "stderr",
     "output_type": "stream",
     "text": [
      "Cargando paquete requerido: zoo\n",
      "\n",
      "\n",
      "Adjuntando el paquete: 'zoo'\n",
      "\n",
      "\n",
      "The following objects are masked from 'package:base':\n",
      "\n",
      "    as.Date, as.Date.numeric\n",
      "\n",
      "\n",
      "\n",
      "Adjuntando el paquete: 'Hmisc'\n",
      "\n",
      "\n",
      "The following objects are masked from 'package:base':\n",
      "\n",
      "    format.pval, units\n",
      "\n",
      "\n"
     ]
    },
    {
     "data": {
      "text/plain": [
       "\n",
       "Call:\n",
       "glm(formula = Z ~ ., family = binomial, data = data.all[, -3])\n",
       "\n",
       "Coefficients: (6 not defined because of singularities)\n",
       "              Estimate Std. Error z value Pr(>|z|)    \n",
       "(Intercept) -0.9524636  0.2845173  -3.348 0.000815 ***\n",
       "schoolid2    0.0697302  0.2766287   0.252 0.800986    \n",
       "schoolid3    0.0382080  0.2911323   0.131 0.895586    \n",
       "schoolid4    0.1761334  0.2784711   0.633 0.527059    \n",
       "schoolid5   -0.0033389  0.2950180  -0.011 0.990970    \n",
       "schoolid6    0.0583548  0.3067481   0.190 0.849124    \n",
       "schoolid7   -0.1313759  0.3188190  -0.412 0.680288    \n",
       "schoolid8    0.1233661  0.3023736   0.408 0.683279    \n",
       "schoolid9   -0.1955428  0.3073344  -0.636 0.524611    \n",
       "schoolid10  -0.1892794  0.2968750  -0.638 0.523752    \n",
       "schoolid11  -0.2224060  0.5461005  -0.407 0.683816    \n",
       "schoolid12  -0.3312420  0.5414374  -0.612 0.540682    \n",
       "schoolid13  -0.0408540  0.3989507  -0.102 0.918436    \n",
       "schoolid14  -0.8681934  0.6033674  -1.439 0.150175    \n",
       "schoolid15  -0.1059135  0.3263162  -0.325 0.745504    \n",
       "schoolid16  -0.1063268  0.2885387  -0.369 0.712500    \n",
       "schoolid17   0.0854323  0.3119435   0.274 0.784184    \n",
       "schoolid18  -0.1924441  0.2997822  -0.642 0.520908    \n",
       "schoolid19  -0.0265326  0.3229712  -0.082 0.934526    \n",
       "schoolid20  -0.2179554  0.3041336  -0.717 0.473594    \n",
       "schoolid21  -0.2147440  0.2982822  -0.720 0.471565    \n",
       "schoolid22  -0.5115966  0.4410779  -1.160 0.246098    \n",
       "schoolid23   0.0039231  0.3475373   0.011 0.990994    \n",
       "schoolid24  -0.0848314  0.3259572  -0.260 0.794668    \n",
       "schoolid25   0.0521087  0.2754586   0.189 0.849959    \n",
       "schoolid26   0.0241212  0.2876511   0.084 0.933171    \n",
       "schoolid27  -0.2300630  0.3104796  -0.741 0.458698    \n",
       "schoolid28  -0.3519010  0.2924774  -1.203 0.228909    \n",
       "schoolid29  -0.2198764  0.3293288  -0.668 0.504357    \n",
       "schoolid30  -0.3146292  0.3257994  -0.966 0.334187    \n",
       "schoolid31   0.1398555  0.6137901   0.228 0.819759    \n",
       "schoolid32   0.1555524  0.3916156   0.397 0.691215    \n",
       "schoolid33  -0.0991693  0.3939370  -0.252 0.801243    \n",
       "schoolid34  -0.0073688  0.2980808  -0.025 0.980278    \n",
       "schoolid35  -0.3528987  0.3997273  -0.883 0.377318    \n",
       "schoolid36  -0.3751465  0.3988972  -0.940 0.346982    \n",
       "schoolid37  -0.0343169  0.3219646  -0.107 0.915117    \n",
       "schoolid38  -0.1346432  0.3851869  -0.350 0.726674    \n",
       "schoolid39  -0.4339936  0.3612869  -1.201 0.229657    \n",
       "schoolid40  -0.3993958  0.3834495  -1.042 0.297604    \n",
       "schoolid41  -0.1490784  0.3542105  -0.421 0.673846    \n",
       "schoolid42  -0.1545715  0.3551857  -0.435 0.663428    \n",
       "schoolid43  -0.5679567  0.4277455  -1.328 0.184247    \n",
       "schoolid44  -0.1425896  0.3774795  -0.378 0.705623    \n",
       "schoolid45  -0.1337888  0.3232493  -0.414 0.678957    \n",
       "schoolid46  -0.2573249  0.3129119  -0.822 0.410874    \n",
       "schoolid47   0.0027726  0.2770108   0.010 0.992014    \n",
       "schoolid48  -0.3406079  0.3470361  -0.981 0.326358    \n",
       "schoolid49  -0.3236117  0.3434541  -0.942 0.346077    \n",
       "schoolid50  -0.1185119  0.4086074  -0.290 0.771787    \n",
       "schoolid51   0.4087898  0.4506822   0.907 0.364382    \n",
       "schoolid52  -0.3144014  0.4118342  -0.763 0.445214    \n",
       "schoolid53  -0.2733677  0.4511280  -0.606 0.544538    \n",
       "schoolid54  -0.0889588  0.3872532  -0.230 0.818311    \n",
       "schoolid55  -0.1558106  0.4155020  -0.375 0.707665    \n",
       "schoolid56   0.1050353  0.3149235   0.334 0.738737    \n",
       "schoolid57  -0.0314901  0.2901719  -0.109 0.913581    \n",
       "schoolid58  -0.0383183  0.2730077  -0.140 0.888379    \n",
       "schoolid59  -0.0529637  0.2934895  -0.180 0.856790    \n",
       "schoolid60  -0.1624792  0.3972885  -0.409 0.682561    \n",
       "schoolid61  -0.0289549  0.3201953  -0.090 0.927946    \n",
       "schoolid62   0.0993158  0.2669678   0.372 0.709882    \n",
       "schoolid63   0.1684702  0.3282167   0.513 0.607749    \n",
       "schoolid64  -0.0693060  0.2770896  -0.250 0.802493    \n",
       "schoolid65  -0.0004197  0.4072922  -0.001 0.999178    \n",
       "schoolid66  -0.2130911  0.2984091  -0.714 0.475171    \n",
       "schoolid67   0.0358440  0.2921158   0.123 0.902341    \n",
       "schoolid68  -0.0871303  0.3290814  -0.265 0.791188    \n",
       "schoolid69  -0.2550387  0.2908992  -0.877 0.380636    \n",
       "schoolid70  -0.0268947  0.4032160  -0.067 0.946820    \n",
       "schoolid71   0.0037464  0.4268290   0.009 0.992997    \n",
       "schoolid72  -0.1304085  0.2881512  -0.453 0.650859    \n",
       "schoolid73  -0.2160697  0.2840030  -0.761 0.446776    \n",
       "schoolid74  -0.0935320  0.2842612  -0.329 0.742129    \n",
       "schoolid75  -0.1056241  0.3024204  -0.349 0.726892    \n",
       "schoolid76  -0.1052261  0.2939262  -0.358 0.720342    \n",
       "S3           0.1036077  0.0197345   5.250 1.52e-07 ***\n",
       "C1          -0.0015919  0.0053900  -0.295 0.767728    \n",
       "C2          -0.1038596  0.0424020  -2.449 0.014309 *  \n",
       "C3          -0.1319218  0.0461833  -2.856 0.004284 ** \n",
       "XC                  NA         NA      NA       NA    \n",
       "X1                  NA         NA      NA       NA    \n",
       "X2                  NA         NA      NA       NA    \n",
       "X3                  NA         NA      NA       NA    \n",
       "X4                  NA         NA      NA       NA    \n",
       "X5                  NA         NA      NA       NA    \n",
       "---\n",
       "Signif. codes:  0 '***' 0.001 '**' 0.01 '*' 0.05 '.' 0.1 ' ' 1\n",
       "\n",
       "(Dispersion parameter for binomial family taken to be 1)\n",
       "\n",
       "    Null deviance: 13115  on 10390  degrees of freedom\n",
       "Residual deviance: 13009  on 10311  degrees of freedom\n",
       "AIC: 13169\n",
       "\n",
       "Number of Fisher Scoring iterations: 4\n"
      ]
     },
     "metadata": {},
     "output_type": "display_data"
    },
    {
     "name": "stdout",
     "output_type": "stream",
     "text": [
      "[1] \"S3\"                \"C2\"                \"X1\"               \n",
      "[4] \"X2\"                \"X3\"                \"X4\"               \n",
      "[7] \"X5\"                \"factor(X.raw$C1)4\"\n"
     ]
    }
   ],
   "source": [
    "set.seed(1)\n",
    "\n",
    "rm(list = ls())\n",
    "\n",
    "library(grf)\n",
    "if(packageVersion(\"grf\") < '0.10.2') {\n",
    "  warning(\"This script requires grf 0.10.2 or higher\")\n",
    "}\n",
    "library(sandwich)\n",
    "library(lmtest)\n",
    "library(Hmisc)\n",
    "library(ggplot2)\n",
    "\n",
    "data.all = read.csv(\"synthetic_data.csv\")\n",
    "data.all$schoolid = factor(data.all$schoolid)\n",
    "\n",
    "DF = data.all[,-1]\n",
    "school.id = as.numeric(data.all$schoolid)\n",
    "\n",
    "school.mat = model.matrix(~ schoolid + 0, data = data.all)\n",
    "school.size = colSums(school.mat)\n",
    "\n",
    "# It appears that school ID does not affect pscore. So ignore it\n",
    "# in modeling, and just treat it as source of per-cluster error.\n",
    "w.lm = glm(Z ~ ., data = data.all[,-3], family = binomial)\n",
    "summary(w.lm)\n",
    "\n",
    "W = DF$Z\n",
    "Y = DF$Y\n",
    "X.raw = DF[,-(1:2)]\n",
    "\n",
    "C1.exp = model.matrix(~ factor(X.raw$C1) + 0)\n",
    "XC.exp = model.matrix(~ factor(X.raw$XC) + 0)\n",
    "\n",
    "X = cbind(X.raw[,-which(names(X.raw) %in% c(\"C1\", \"XC\"))], C1.exp, XC.exp)\n",
    "\n",
    "#\n",
    "# Grow a forest. Add extra trees for the causal forest.\n",
    "#\n",
    "\n",
    "Y.forest = regression_forest(X, Y, clusters = school.id, equalize.cluster.weights = TRUE)\n",
    "Y.hat = predict(Y.forest)$predictions\n",
    "W.forest = regression_forest(X, W, clusters = school.id, equalize.cluster.weights = TRUE)\n",
    "W.hat = predict(W.forest)$predictions\n",
    "\n",
    "cf.raw = causal_forest(X, Y, W,\n",
    "                       Y.hat = Y.hat, W.hat = W.hat,\n",
    "                       clusters = school.id,\n",
    "                       equalize.cluster.weights = TRUE)\n",
    "varimp = variable_importance(cf.raw)\n",
    "selected.idx = which(varimp > mean(varimp))\n",
    "\n",
    "cf = causal_forest(X[,selected.idx], Y, W,\n",
    "                   Y.hat = Y.hat, W.hat = W.hat,\n",
    "                   clusters = school.id,\n",
    "                   equalize.cluster.weights = TRUE,\n",
    "                   tune.parameters = \"all\")\n",
    "tau.hat = predict(cf)$predictions\n",
    "print(colnames(X)[selected.idx])\n"
   ]
  },
  {
   "cell_type": "markdown",
   "id": "36cf9e5a-3d04-42ff-855a-416640b4f219",
   "metadata": {},
   "source": [
    "First they define the predictor, treatment, and outcome variables. Then, they predict the treatment variable, followed by building two separate random forest models to predict the outcome and treatment variables. After that, they construct a causal forest model considering all predictors (raw cf), and a final causal forest model using the most imporntat predictors (cf)."
   ]
  },
  {
   "cell_type": "markdown",
   "id": "932587e3-46fc-49ba-af78-a20a5bf499a2",
   "metadata": {
    "tags": []
   },
   "source": [
    "### 2. Estimate ATE"
   ]
  },
  {
   "cell_type": "code",
   "execution_count": 3,
   "id": "6ad8563a-61df-4306-9f21-a16492883936",
   "metadata": {},
   "outputs": [
    {
     "data": {
      "text/html": [
       "'95% CI for the ATE: 0.247 +/- 0.039'"
      ],
      "text/latex": [
       "'95\\% CI for the ATE: 0.247 +/- 0.039'"
      ],
      "text/markdown": [
       "'95% CI for the ATE: 0.247 +/- 0.039'"
      ],
      "text/plain": [
       "[1] \"95% CI for the ATE: 0.247 +/- 0.039\""
      ]
     },
     "metadata": {},
     "output_type": "display_data"
    }
   ],
   "source": [
    "#\n",
    "# Estimate ATE\n",
    "#\n",
    "\n",
    "ATE = average_treatment_effect(cf)\n",
    "paste(\"95% CI for the ATE:\", round(ATE[1], 3),\n",
    "      \"+/-\", round(qnorm(0.975) * ATE[2], 3))\n"
   ]
  },
  {
   "cell_type": "markdown",
   "id": "f851908b-c642-4cd4-a053-5d038f96006f",
   "metadata": {},
   "source": [
    "The ATE is found with the \"average_treatment_effect\" function, this is the average effect of the paper intervention."
   ]
  },
  {
   "cell_type": "markdown",
   "id": "bc384a61-42aa-462c-8564-e8e470741f82",
   "metadata": {
    "tags": []
   },
   "source": [
    "### 3. Run best linear predictor analysis"
   ]
  },
  {
   "cell_type": "code",
   "execution_count": 4,
   "id": "97138697-3b34-4f56-abde-f0bb7ffcfa74",
   "metadata": {},
   "outputs": [
    {
     "data": {
      "text/plain": [
       "\n",
       "Best linear fit using forest predictions (on held-out data)\n",
       "as well as the mean forest prediction as regressors, along\n",
       "with one-sided heteroskedasticity-robust (HC3) SEs:\n",
       "\n",
       "                               Estimate Std. Error t value Pr(>t)    \n",
       "mean.forest.prediction         1.006886   0.083618 12.0415 <2e-16 ***\n",
       "differential.forest.prediction 0.292474   0.655626  0.4461 0.3278    \n",
       "---\n",
       "Signif. codes:  0 '***' 0.001 '**' 0.01 '*' 0.05 '.' 0.1 ' ' 1\n"
      ]
     },
     "metadata": {},
     "output_type": "display_data"
    },
    {
     "data": {
      "text/html": [
       "'95% CI for difference in ATE: 0.054 +/- 0.07'"
      ],
      "text/latex": [
       "'95\\% CI for difference in ATE: 0.054 +/- 0.07'"
      ],
      "text/markdown": [
       "'95% CI for difference in ATE: 0.054 +/- 0.07'"
      ],
      "text/plain": [
       "[1] \"95% CI for difference in ATE: 0.054 +/- 0.07\""
      ]
     },
     "metadata": {},
     "output_type": "display_data"
    },
    {
     "data": {
      "text/plain": [
       "\n",
       "\tWelch Two Sample t-test\n",
       "\n",
       "data:  school.score[high.X1] and school.score[!high.X1]\n",
       "t = -3.0755, df = 71.824, p-value = 0.002972\n",
       "alternative hypothesis: true difference in means is not equal to 0\n",
       "95 percent confidence interval:\n",
       " -0.19359639 -0.04132175\n",
       "sample estimates:\n",
       "mean of x mean of y \n",
       "0.1884369 0.3058960 \n"
      ]
     },
     "metadata": {},
     "output_type": "display_data"
    },
    {
     "data": {
      "text/plain": [
       "\n",
       "\tWelch Two Sample t-test\n",
       "\n",
       "data:  school.score[high.X2] and school.score[!high.X2]\n",
       "t = 0.99875, df = 72.391, p-value = 0.3212\n",
       "alternative hypothesis: true difference in means is not equal to 0\n",
       "95 percent confidence interval:\n",
       " -0.04006824  0.12054510\n",
       "sample estimates:\n",
       "mean of x mean of y \n",
       "0.2672857 0.2270472 \n"
      ]
     },
     "metadata": {},
     "output_type": "display_data"
    },
    {
     "data": {
      "text/plain": [
       "                 Df Sum Sq Mean Sq F value Pr(>F)\n",
       "school.X2.levels  2 0.0826 0.04128   1.351  0.265\n",
       "Residuals        73 2.2304 0.03055               "
      ]
     },
     "metadata": {},
     "output_type": "display_data"
    },
    {
     "data": {
      "text/plain": [
       "\n",
       "\tOne Sample t-test\n",
       "\n",
       "data:  school.score.XS3.high - school.score.XS3.low\n",
       "t = 2.2326, df = 75, p-value = 0.02856\n",
       "alternative hypothesis: true mean is not equal to 0\n",
       "95 percent confidence interval:\n",
       " 0.009188917 0.161400046\n",
       "sample estimates:\n",
       " mean of x \n",
       "0.08529448 \n"
      ]
     },
     "metadata": {},
     "output_type": "display_data"
    },
    {
     "data": {
      "image/png": "[encoded data removed]",
      "text/plain": [
       "plot without title"
      ]
     },
     "metadata": {
      "image/png": {
       "height": 420,
       "width": 420
      }
     },
     "output_type": "display_data"
    }
   ],
   "source": [
    "#\n",
    "# Omnibus tests for heterogeneity\n",
    "#\n",
    "\n",
    "# Run best linear predictor analysis\n",
    "test_calibration(cf)\n",
    "\n",
    "# Compare regions with high and low estimated CATEs\n",
    "high_effect = tau.hat > median(tau.hat)\n",
    "ate.high = average_treatment_effect(cf, subset = high_effect)\n",
    "ate.low = average_treatment_effect(cf, subset = !high_effect)\n",
    "paste(\"95% CI for difference in ATE:\",\n",
    "      round(ate.high[1] - ate.low[1], 3), \"+/-\",\n",
    "      round(qnorm(0.975) * sqrt(ate.high[2]^2 + ate.low[2]^2), 3))\n",
    "\n",
    "\n",
    "#\n",
    "# formal test for X1 and X2\n",
    "#\n",
    "\n",
    "dr.score = tau.hat + W / cf$W.hat *\n",
    "  (Y - cf$Y.hat - (1 - cf$W.hat) * tau.hat) -\n",
    "  (1 - W) / (1 - cf$W.hat) * (Y - cf$Y.hat + cf$W.hat * tau.hat)\n",
    "school.score = t(school.mat) %*% dr.score / school.size\n",
    "\n",
    "school.X1 = t(school.mat) %*% X$X1 / school.size\n",
    "high.X1 = school.X1 > median(school.X1)\n",
    "t.test(school.score[high.X1], school.score[!high.X1])\n",
    "\n",
    "school.X2 = (t(school.mat) %*% X$X2) / school.size\n",
    "high.X2 = school.X2 > median(school.X2)\n",
    "t.test(school.score[high.X2], school.score[!high.X2])\n",
    "\n",
    "school.X2.levels = cut(school.X2,\n",
    "                       breaks = c(-Inf, quantile(school.X2, c(1/3, 2/3)), Inf))\n",
    "summary(aov(school.score ~ school.X2.levels))\n",
    "\n",
    "#\n",
    "# formal test for S3\n",
    "#\n",
    "\n",
    "school.score.XS3.high = t(school.mat) %*% (dr.score * (X$S3 >= 6)) /\n",
    "  t(school.mat) %*% (X$S3 >= 6)\n",
    "school.score.XS3.low = t(school.mat) %*% (dr.score * (X$S3 < 6)) /\n",
    "  t(school.mat) %*% (X$S3 < 6)\n",
    "\n",
    "plot(school.score.XS3.low, school.score.XS3.high)\n",
    "t.test(school.score.XS3.high - school.score.XS3.low)"
   ]
  },
  {
   "cell_type": "markdown",
   "id": "4fd0458f-a2eb-4068-ad42-39d01dfe9e35",
   "metadata": {},
   "source": [
    "In this part, multiple test are done in order to find the best fit model.\n",
    "The results indicate that the mean forest predictions are a significant predictor of the treatment effect, no significant difference in the Average Treatment Effect (ATE) between regions as the difference is 0.054 with a 95% confidence interval of ± 0.07. For the predictor X1, there is a significant difference in school scores between high and low levels. X2 does not show a significant difference in school scores between high and low levels. An ANOVA test for different levels of X2 also shows no significant differences in school scores"
   ]
  },
  {
   "cell_type": "markdown",
   "id": "1d49b8c7-b195-4bd9-a331-663b372ddb95",
   "metadata": {
    "tags": []
   },
   "source": [
    "### 4.Look at school-wise heterogeneity"
   ]
  },
  {
   "cell_type": "code",
   "execution_count": 5,
   "id": "166f0ad1-09b9-4660-9f97-e93b3784cf97",
   "metadata": {},
   "outputs": [
    {
     "name": "stdout",
     "output_type": "stream",
     "text": [
      "[1] \"0.247 +/- 0.039\"\n"
     ]
    },
    {
     "data": {
      "image/png": "[encoded data removed]",
      "text/plain": [
       "Plot with title \"\""
      ]
     },
     "metadata": {
      "image/png": {
       "height": 420,
       "width": 420
      }
     },
     "output_type": "display_data"
    },
    {
     "data": {
      "image/png": "[encoded data removed]",
      "text/plain": [
       "plot without title"
      ]
     },
     "metadata": {
      "image/png": {
       "height": 420,
       "width": 420
      }
     },
     "output_type": "display_data"
    }
   ],
   "source": [
    "# Look at school-wise heterogeneity\n",
    "\n",
    "pardef = par(mar = c(5, 4, 4, 2) + 0.5, cex.lab=1.5, cex.axis=1.5, cex.main=1.5, cex.sub=1.5)\n",
    "hist(school.score, xlab = \"School Treatment Effect Estimate\", main = \"\")\n",
    "\n",
    "# Re-check ATE... sanity check only\n",
    "\n",
    "ate.hat = mean(school.score)\n",
    "se.hat = sqrt(var(school.score) / length(school.score - 1))\n",
    "print(paste(round(ate.hat, 3), \"+/-\", round(1.96 * se.hat, 3)))\n",
    "\n",
    "# Look at variation in propensity scores\n",
    "\n",
    "DF = X\n",
    "DF$W.hat = cf$W.hat\n",
    "\n",
    "pardef = par(mar = c(5, 4, 4, 2) + 0.5, cex.lab=1.5, cex.axis=1.5, cex.main=1.5, cex.sub=1.5)\n",
    "boxplot(W.hat ~ S3, data = DF, ylab = \"Propensity Score\", xlab = \"Student Expectation of Success\")\n",
    "lines(smooth.spline(X$S3, cf$W.hat), lwd = 2, col = 4)"
   ]
  },
  {
   "cell_type": "markdown",
   "id": "ab286381-33a7-4d2d-81a2-30d50c8dcb7a",
   "metadata": {},
   "source": [
    "We can see that the distribution of school.score isnt normal and has a strong bias. After that, the student expectation of success is expected (with the cf) to positively affect the propensity score, but we see that there are many values that do not adjust (more in 6 and 7)."
   ]
  },
  {
   "cell_type": "markdown",
   "id": "ed6cbc72-64b9-451d-a1d7-44336880e800",
   "metadata": {
    "tags": []
   },
   "source": [
    "### 5. Analysis ignoring clusters. How do the results change?"
   ]
  },
  {
   "cell_type": "code",
   "execution_count": 9,
   "id": "c104f805-1d11-491a-8f48-0d04bf4c0855",
   "metadata": {},
   "outputs": [
    {
     "data": {
      "text/html": [
       "'95% CI for the ATE: 0.253 +/- 0.022'"
      ],
      "text/latex": [
       "'95\\% CI for the ATE: 0.253 +/- 0.022'"
      ],
      "text/markdown": [
       "'95% CI for the ATE: 0.253 +/- 0.022'"
      ],
      "text/plain": [
       "[1] \"95% CI for the ATE: 0.253 +/- 0.022\""
      ]
     },
     "metadata": {},
     "output_type": "display_data"
    },
    {
     "data": {
      "text/plain": [
       "\n",
       "Best linear fit using forest predictions (on held-out data)\n",
       "as well as the mean forest prediction as regressors, along\n",
       "with one-sided heteroskedasticity-robust (HC3) SEs:\n",
       "\n",
       "                               Estimate Std. Error t value    Pr(>t)    \n",
       "mean.forest.prediction         1.013241   0.045224  22.405 < 2.2e-16 ***\n",
       "differential.forest.prediction 0.523158   0.123531   4.235 1.152e-05 ***\n",
       "---\n",
       "Signif. codes:  0 '***' 0.001 '**' 0.01 '*' 0.05 '.' 0.1 ' ' 1\n"
      ]
     },
     "metadata": {},
     "output_type": "display_data"
    },
    {
     "name": "stdout",
     "output_type": "stream",
     "text": [
      "[1] 1\n",
      "[1] 2\n",
      "[1] 3\n",
      "[1] 4\n",
      "[1] 5\n"
     ]
    },
    {
     "data": {
      "text/plain": [
       "\n",
       "Best linear fit using forest predictions (on held-out data)\n",
       "as well as the mean forest prediction as regressors, along\n",
       "with one-sided heteroskedasticity-robust (HC3) SEs:\n",
       "\n",
       "                               Estimate Std. Error t value Pr(>t)    \n",
       "mean.forest.prediction         0.988922   0.065178 15.1727 <2e-16 ***\n",
       "differential.forest.prediction 0.187433   0.207553  0.9031 0.1833    \n",
       "---\n",
       "Signif. codes:  0 '***' 0.001 '**' 0.01 '*' 0.05 '.' 0.1 ' ' 1\n"
      ]
     },
     "metadata": {},
     "output_type": "display_data"
    },
    {
     "data": {
      "text/html": [
       "<style>\n",
       ".list-inline {list-style: none; margin:0; padding: 0}\n",
       ".list-inline>li {display: inline-block}\n",
       ".list-inline>li:not(:last-child)::after {content: \"\\00b7\"; padding: 0 .5ex}\n",
       "</style>\n",
       "<ol class=list-inline><li>6.54296379277164e-05</li><li>0.000693725934964473</li></ol>\n"
      ],
      "text/latex": [
       "\\begin{enumerate*}\n",
       "\\item 6.54296379277164e-05\n",
       "\\item 0.000693725934964473\n",
       "\\end{enumerate*}\n"
      ],
      "text/markdown": [
       "1. 6.54296379277164e-05\n",
       "2. 0.000693725934964473\n",
       "\n",
       "\n"
      ],
      "text/plain": [
       "[1] 6.542964e-05 6.937259e-04"
      ]
     },
     "metadata": {},
     "output_type": "display_data"
    },
    {
     "data": {
      "text/plain": [
       "                     Df Sum Sq Mean Sq F value   Pr(>F)    \n",
       "factor(school.id)    75    200   2.673   1.989 8.85e-07 ***\n",
       "Residuals         10315  13861   1.344                     \n",
       "---\n",
       "Signif. codes:  0 '***' 0.001 '**' 0.01 '*' 0.05 '.' 0.1 ' ' 1"
      ]
     },
     "metadata": {},
     "output_type": "display_data"
    },
    {
     "data": {
      "image/png": "[encoded data removed]",
      "text/plain": [
       "plot without title"
      ]
     },
     "metadata": {
      "image/png": {
       "height": 420,
       "width": 420
      }
     },
     "output_type": "display_data"
    }
   ],
   "source": [
    "#\n",
    "# Analysis ignoring clusters\n",
    "#\n",
    "\n",
    "cf.noclust = causal_forest(X[,selected.idx], Y, W,\n",
    "                           Y.hat = Y.hat, W.hat = W.hat,\n",
    "                           tune.parameters = \"all\")\n",
    "\n",
    "ATE.noclust = average_treatment_effect(cf.noclust)\n",
    "paste(\"95% CI for the ATE:\", round(ATE.noclust[1], 3),\n",
    "      \"+/-\", round(qnorm(0.975) * ATE.noclust[2], 3))\n",
    "\n",
    "test_calibration(cf.noclust)\n",
    "\n",
    "tau.hat.noclust = predict(cf.noclust)$predict\n",
    "plot(school.id, tau.hat.noclust)\n",
    "\n",
    "nfold = 5\n",
    "school.levels = unique(school.id)\n",
    "cluster.folds = sample.int(nfold, length(school.levels), replace = TRUE)\n",
    "\n",
    "tau.hat.crossfold = rep(NA, length(Y))\n",
    "for (foldid in 1:nfold) {\n",
    "  print(foldid)\n",
    "  infold = school.id %in% school.levels[cluster.folds == foldid]\n",
    "  cf.fold = causal_forest(X[!infold, selected.idx], Y[!infold], W[!infold],\n",
    "                          Y.hat = Y.hat[!infold], W.hat = W.hat[!infold],\n",
    "                          tune.parameters = \"all\")\n",
    "  pred.fold = predict(cf.fold, X[infold, selected.idx])$predictions\n",
    "  tau.hat.crossfold[infold] = pred.fold\n",
    "}\n",
    "\n",
    "cf.noclust.cpy = cf.noclust\n",
    "cf.noclust.cpy$predictions = tau.hat.crossfold\n",
    "cf.noclust.cpy$clusters = school.id\n",
    "test_calibration(cf.noclust.cpy)\n",
    "\n",
    "Rloss = mean(((Y - Y.hat) - tau.hat * (W - W.hat))^2)\n",
    "Rloss.noclust = mean(((Y - Y.hat) - tau.hat.noclust * (W - W.hat))^2)\n",
    "Rloss.crossfold = mean(((Y - Y.hat) - tau.hat.crossfold * (W - W.hat))^2)\n",
    "\n",
    "c(Rloss.noclust - Rloss, Rloss.crossfold - Rloss)\n",
    "\n",
    "summary(aov(dr.score ~ factor(school.id)))\n"
   ]
  },
  {
   "cell_type": "markdown",
   "id": "d464d3fc-1673-43cf-a8f9-f0ae84ba0d71",
   "metadata": {},
   "source": [
    "ATE goes from 0.247 +/- 0.039' to 0.253 +/- 0.022, reducing the confidence interval signicantly."
   ]
  },
  {
   "cell_type": "markdown",
   "id": "d7f89a10-0fea-47a6-86d1-8187e23f7163",
   "metadata": {
    "tags": []
   },
   "source": [
    "### 6. Analysis without fitting the propensity score"
   ]
  },
  {
   "cell_type": "code",
   "execution_count": 7,
   "id": "4feff034-ef8d-4a8d-a003-b6d23b48fe77",
   "metadata": {},
   "outputs": [
    {
     "data": {
      "text/html": [
       "'95% CI for the ATE: 0.254 +/- 0.039'"
      ],
      "text/latex": [
       "'95\\% CI for the ATE: 0.254 +/- 0.039'"
      ],
      "text/markdown": [
       "'95% CI for the ATE: 0.254 +/- 0.039'"
      ],
      "text/plain": [
       "[1] \"95% CI for the ATE: 0.254 +/- 0.039\""
      ]
     },
     "metadata": {},
     "output_type": "display_data"
    },
    {
     "data": {
      "text/html": [
       "<strong>null device:</strong> 1"
      ],
      "text/latex": [
       "\\textbf{null device:} 1"
      ],
      "text/markdown": [
       "**null device:** 1"
      ],
      "text/plain": [
       "null device \n",
       "          1 "
      ]
     },
     "metadata": {},
     "output_type": "display_data"
    },
    {
     "data": {
      "text/plain": [
       "\n",
       "Best linear fit using forest predictions (on held-out data)\n",
       "as well as the mean forest prediction as regressors, along\n",
       "with one-sided heteroskedasticity-robust (HC3) SEs:\n",
       "\n",
       "                               Estimate Std. Error t value Pr(>t)    \n",
       "mean.forest.prediction         1.005143   0.082815 12.1373 <2e-16 ***\n",
       "differential.forest.prediction 0.722757   0.657557  1.0992 0.1376    \n",
       "---\n",
       "Signif. codes:  0 '***' 0.001 '**' 0.01 '*' 0.05 '.' 0.1 ' ' 1\n"
      ]
     },
     "metadata": {},
     "output_type": "display_data"
    },
    {
     "data": {
      "text/plain": [
       "\n",
       "t test of coefficients:\n",
       "\n",
       "              Estimate Std. Error t value Pr(>|t|)   \n",
       "(Intercept)  0.2433855  0.0771666  3.1540 0.002424 **\n",
       "X1          -0.0495439  0.0291700 -1.6985 0.094132 . \n",
       "X2           0.0127040  0.0337703  0.3762 0.707984   \n",
       "X3           0.0093747  0.0264377  0.3546 0.724023   \n",
       "X4           0.0222932  0.0256041  0.8707 0.387080   \n",
       "X5          -0.0342604  0.0268506 -1.2760 0.206440   \n",
       "XC.1        -0.0030273  0.0930189 -0.0325 0.974136   \n",
       "XC.2         0.0839073  0.1051560  0.7979 0.427772   \n",
       "XC.3        -0.1351282  0.0878695 -1.5378 0.128871   \n",
       "XC.4         0.0398784  0.0820527  0.4860 0.628570   \n",
       "---\n",
       "Signif. codes:  0 '***' 0.001 '**' 0.01 '*' 0.05 '.' 0.1 ' ' 1\n"
      ]
     },
     "metadata": {},
     "output_type": "display_data"
    },
    {
     "data": {
      "image/png": "[encoded data removed]",
      "text/plain": [
       "plot without title"
      ]
     },
     "metadata": {
      "image/png": {
       "height": 420,
       "width": 420
      }
     },
     "output_type": "display_data"
    }
   ],
   "source": [
    "#\n",
    "# Analaysis without fitting the propensity score\n",
    "#\n",
    "\n",
    "cf.noprop = causal_forest(X[,selected.idx], Y, W,\n",
    "                          Y.hat = Y.hat, W.hat = mean(W),\n",
    "                          tune.parameters = \"all\",\n",
    "                          equalize.cluster.weights = TRUE,\n",
    "                          clusters = school.id)\n",
    "tau.hat.noprop = predict(cf.noprop)$predictions\n",
    "\n",
    "ATE.noprop = average_treatment_effect(cf.noprop)\n",
    "paste(\"95% CI for the ATE:\", round(ATE.noprop[1], 3),\n",
    "      \"+/-\", round(qnorm(0.975) * ATE.noprop[2], 3))\n",
    "\n",
    "pardef = par(mar = c(5, 4, 4, 2) + 0.5, cex.lab=1.5, cex.axis=1.5, cex.main=1.5, cex.sub=1.5)\n",
    "plot(tau.hat, tau.hat.noprop,\n",
    "     xlim = range(tau.hat, tau.hat.noprop),\n",
    "     ylim = range(tau.hat, tau.hat.noprop),\n",
    "     xlab = \"orthogonalized causal forest estimates\",\n",
    "     ylab = \"non-orthogonalized causal forest\")\n",
    "abline(0, 1, lwd = 2, lty = 2, col = 4)\n",
    "par = pardef\n",
    "dev.off()\n",
    "\n",
    "#\n",
    "# Train forest on school-wise DR scores\n",
    "#\n",
    "\n",
    "school.X = (t(school.mat) %*% as.matrix(X[,c(4:8, 25:28)])) / school.size\n",
    "school.X = data.frame(school.X)\n",
    "colnames(school.X) = c(\"X1\", \"X2\", \"X3\", \"X4\", \"X5\",\n",
    "                       \"XC.1\", \"XC.2\", \"XC.3\", \"XC.4\")\n",
    "\n",
    "dr.score = tau.hat + W / cf$W.hat * (Y - cf$Y.hat - (1 - cf$W.hat) * tau.hat) -\n",
    "  (1 - W) / (1 - cf$W.hat) * (Y - cf$Y.hat + cf$W.hat * tau.hat)\n",
    "school.score = t(school.mat) %*% dr.score / school.size\n",
    "\n",
    "school.forest = regression_forest(school.X, school.score)\n",
    "school.pred = predict(school.forest)$predictions\n",
    "test_calibration(school.forest)\n",
    "\n",
    "\n",
    "# Alternative OLS analysis\n",
    "school.DF = data.frame(school.X, school.score=school.score)\n",
    "coeftest(lm(school.score ~ ., data = school.DF), vcov = vcovHC)\n"
   ]
  },
  {
   "cell_type": "markdown",
   "id": "a2eb3007-9257-45ec-b935-5a3806dd9799",
   "metadata": {
    "tags": []
   },
   "source": [
    "### 7. The code plot six plots in the Make some plots section, so explain what you find there."
   ]
  },
  {
   "cell_type": "code",
   "execution_count": 10,
   "id": "bf5e84c5-71ca-4942-b74a-d0d887facbdc",
   "metadata": {},
   "outputs": [
    {
     "data": {
      "image/png": "[encoded data removed]",
      "text/plain": [
       "Plot with title \"\""
      ]
     },
     "metadata": {
      "image/png": {
       "height": 420,
       "width": 420
      }
     },
     "output_type": "display_data"
    },
    {
     "data": {
      "image/png": "[encoded data removed]",
      "text/plain": [
       "Plot with title \"\""
      ]
     },
     "metadata": {
      "image/png": {
       "height": 420,
       "width": 420
      }
     },
     "output_type": "display_data"
    },
    {
     "data": {
      "image/png": "[encoded data removed]",
      "text/plain": [
       "Plot with title \"\""
      ]
     },
     "metadata": {
      "image/png": {
       "height": 420,
       "width": 420
      }
     },
     "output_type": "display_data"
    },
    {
     "data": {
      "image/png": "[encoded data removed]",
      "text/plain": [
       "plot without title"
      ]
     },
     "metadata": {
      "image/png": {
       "height": 420,
       "width": 420
      }
     },
     "output_type": "display_data"
    },
    {
     "data": {
      "image/png": "[encoded data removed]",
      "text/plain": [
       "plot without title"
      ]
     },
     "metadata": {
      "image/png": {
       "height": 420,
       "width": 420
      }
     },
     "output_type": "display_data"
    },
    {
     "data": {
      "text/html": [
       "'95% CI for the ATE: -0.005 +/- 0.146'"
      ],
      "text/latex": [
       "'95\\% CI for the ATE: -0.005 +/- 0.146'"
      ],
      "text/markdown": [
       "'95% CI for the ATE: -0.005 +/- 0.146'"
      ],
      "text/plain": [
       "[1] \"95% CI for the ATE: -0.005 +/- 0.146\""
      ]
     },
     "metadata": {},
     "output_type": "display_data"
    },
    {
     "data": {
      "text/html": [
       "'95% CI for the ATE: 0.114 +/- 0.138'"
      ],
      "text/latex": [
       "'95\\% CI for the ATE: 0.114 +/- 0.138'"
      ],
      "text/markdown": [
       "'95% CI for the ATE: 0.114 +/- 0.138'"
      ],
      "text/plain": [
       "[1] \"95% CI for the ATE: 0.114 +/- 0.138\""
      ]
     },
     "metadata": {},
     "output_type": "display_data"
    },
    {
     "data": {
      "image/png": "[encoded data removed]",
      "text/plain": [
       "plot without title"
      ]
     },
     "metadata": {
      "image/png": {
       "height": 420,
       "width": 420
      }
     },
     "output_type": "display_data"
    }
   ],
   "source": [
    "# Make some plots...\n",
    "pardef = par(mar = c(5, 4, 4, 2) + 0.5, cex.lab=1.5, cex.axis=1.5, cex.main=1.5, cex.sub=1.5)\n",
    "hist(tau.hat, xlab = \"estimated CATE\", main = \"\")\n",
    "\n",
    "hist(tau.hat.noprop, xlab = \"estimated CATE\", main = \"\")\n",
    "\n",
    "hist(tau.hat.noclust, xlab = \"estimated CATE\", main = \"\", breaks = seq(-0.0, 0.55, by = 0.55 / 25))\n",
    "\n",
    "boxplot(tau.hat ~ round(X$X1), xlab = \"X1\", ylab = \"estimated CATE\")\n",
    "lines(smooth.spline(4 + X[,\"X1\"], tau.hat, df = 4), lwd = 2, col = 4)\n",
    "\n",
    "boxplot(tau.hat ~ round(X$X2), xlab = \"X2\", ylab = \"estimated CATE\")\n",
    "lines(smooth.spline(4 + X[,\"X2\"], tau.hat, df = 4), lwd = 2, col = 4)\n",
    "\n",
    "school.avg.tauhat = t(school.mat) %*% tau.hat / school.size\n",
    "\n",
    "plot(school.avg.tauhat, school.pred, cex = 1.5, xlim = range(school.avg.tauhat, school.pred),\n",
    "     ylim = range(school.avg.tauhat, school.pred), xlab = \"average CATE estimate in school\",\n",
    "     ylab = \"school-wise forest predictions\")\n",
    "abline(0, 1, lwd = 2, lty = 2, col = 4)\n",
    "\n",
    "#\n",
    "# Experiment with no orthogonalization\n",
    "#\n",
    "\n",
    "n.synth = 1000\n",
    "p.synth = 10\n",
    "X.synth = matrix(rnorm(n.synth * p.synth), n.synth, p.synth)\n",
    "W.synth = rbinom(n.synth, 1, 1 / (1 + exp(-X.synth[,1])))\n",
    "Y.synth = 2 * rowMeans(X.synth[,1:6]) + rnorm(n.synth)\n",
    "\n",
    "Y.forest.synth = regression_forest(X.synth, Y.synth)\n",
    "Y.hat.synth = predict(Y.forest.synth)$predictions\n",
    "W.forest.synth = regression_forest(X.synth, W.synth)\n",
    "W.hat.synth = predict(W.forest.synth)$predictions\n",
    "\n",
    "cf.synth = causal_forest(X.synth, Y.synth, W.synth,\n",
    "                         Y.hat = Y.hat.synth, W.hat = W.hat.synth)\n",
    "ATE.synth = average_treatment_effect(cf.synth)\n",
    "paste(\"95% CI for the ATE:\", round(ATE.synth[1], 3),\n",
    "      \"+/-\", round(qnorm(0.975) * ATE.synth[2], 3))\n",
    "\n",
    "cf.synth.noprop = causal_forest(X.synth, Y.synth, W.synth,\n",
    "                                Y.hat = Y.hat.synth, W.hat = mean(W.synth))\n",
    "ATE.synth.noprop = average_treatment_effect(cf.synth.noprop)\n",
    "paste(\"95% CI for the ATE:\", round(ATE.synth.noprop[1], 3),\n",
    "      \"+/-\", round(qnorm(0.975) * ATE.synth.noprop[2], 3))\n",
    "\n"
   ]
  },
  {
   "cell_type": "markdown",
   "id": "6e4fc2e3-b7d7-4c9e-87f0-e4ac7a3b87ae",
   "metadata": {},
   "source": [
    "The first two estimated CATE have less variance than the no-propensity score one. X1 and X2 show good fits, but x1 has more atypical values."
   ]
  },
  {
   "cell_type": "markdown",
   "id": "9a658fd6-a450-49c4-a3fb-dfc9c67cffe0",
   "metadata": {
    "tags": []
   },
   "source": [
    "### 8. Visualize school-level covariates by treatment heterogeneity"
   ]
  },
  {
   "cell_type": "code",
   "execution_count": 8,
   "id": "6a682665-cc64-4412-bb30-3fcafb2da00e",
   "metadata": {},
   "outputs": [
    {
     "data": {
      "text/html": [
       "0.210526315789474"
      ],
      "text/latex": [
       "0.210526315789474"
      ],
      "text/markdown": [
       "0.210526315789474"
      ],
      "text/plain": [
       "[1] 0.2105263"
      ]
     },
     "metadata": {},
     "output_type": "display_data"
    },
    {
     "data": {
      "text/html": [
       "0.538461538461538"
      ],
      "text/latex": [
       "0.538461538461538"
      ],
      "text/markdown": [
       "0.538461538461538"
      ],
      "text/plain": [
       "[1] 0.5384615"
      ]
     },
     "metadata": {},
     "output_type": "display_data"
    },
    {
     "data": {
      "image/png": "[encoded data removed]",
      "text/plain": [
       "plot without title"
      ]
     },
     "metadata": {
      "image/png": {
       "height": 420,
       "width": 420
      }
     },
     "output_type": "display_data"
    }
   ],
   "source": [
    "#\n",
    "# Visualize school-level covariates by treatment heterogeneity\n",
    "#\n",
    "\n",
    "school.X.std = scale(school.X)\n",
    "school.tercile = cut(school.pred,\n",
    "                     breaks = c(-Inf, quantile(school.pred, c(1/3, 2/3)), Inf))\n",
    "school.tercile.mat = model.matrix(~ school.tercile + 0)\n",
    "school.means = diag(1 / colSums(school.tercile.mat)) %*% t(school.tercile.mat) %*% as.matrix(school.X.std)\n",
    "\n",
    "MM = max(abs(school.means))\n",
    "HC = heat.colors(21)\n",
    "school.col = apply(school.means, 1:2, function(aa) HC[1 + round(20 * (0.5 + aa))])\n",
    "\n",
    "DF.plot = data.frame(tercile=rep(factor(1:3, labels=c(\"low\", \"mid\", \"high\")), 9), mean=as.numeric(school.means),\n",
    "                     feature = factor(rbind(colnames(school.X), colnames(school.X), colnames(school.X))))\n",
    "\n",
    "ggplot(data = DF.plot, aes(x = feature, y = tercile, fill = mean)) +\n",
    "    geom_tile() + scale_fill_gradient(low = \"white\", high = \"steelblue\") +\n",
    "    theme(axis.text = element_text(size=12), axis.title = element_text(size=14),\n",
    "          legend.title = element_text(size=14), legend.text = element_text(size=12)) +\n",
    "    theme(panel.background = element_blank())\n",
    "ggsave(\"tercile_plot.pdf\", width = 8, height = 4.5, dpi = 120)\n",
    "\n",
    "mean(school.X$XC.3)\n",
    "mean(school.X$XC.3[as.numeric(school.tercile) == 1])\n"
   ]
  },
  {
   "cell_type": "markdown",
   "id": "672668f6-0dbd-4129-9d15-3d0e03da7ea2",
   "metadata": {},
   "source": [
    "Low X2, high X5 and low XC.3 show the biggest means. On the other hand, low X2, low X5 and high-mid show the lowest ones."
   ]
  },
  {
   "cell_type": "markdown",
   "id": "32736441-fe39-457f-81b1-c0ae70561c45",
   "metadata": {
    "tags": []
   },
   "source": [
    "### 9. CATE by school"
   ]
  },
  {
   "cell_type": "code",
   "execution_count": 11,
   "id": "871b0027-0092-4ef5-928f-6113ae7c6800",
   "metadata": {},
   "outputs": [
    {
     "data": {
      "text/html": [
       "<strong>null device:</strong> 1"
      ],
      "text/latex": [
       "\\textbf{null device:} 1"
      ],
      "text/markdown": [
       "**null device:** 1"
      ],
      "text/plain": [
       "null device \n",
       "          1 "
      ]
     },
     "metadata": {},
     "output_type": "display_data"
    },
    {
     "data": {
      "image/png": "[encoded data removed]",
      "text/plain": [
       "plot without title"
      ]
     },
     "metadata": {
      "image/png": {
       "height": 420,
       "width": 420
      }
     },
     "output_type": "display_data"
    }
   ],
   "source": [
    "#\n",
    "# CATE by school\n",
    "#\n",
    "\n",
    "ord = order(order(school.pred))\n",
    "school.sort = ord[school.id]\n",
    "\n",
    "#pdf(\"school_boxplot.pdf\")\n",
    "pardef = par(mar = c(5, 4, 4, 2) + 0.5, cex.lab=1.5, cex.axis=1.5, cex.main=1.5, cex.sub=1.5)\n",
    "boxplot(tau.hat.noclust ~ school.sort, xaxt = \"n\",\n",
    "        xlab = \"school\", ylab = \"estimated CATE\")\n",
    "points(1:76, sort(school.pred), col = 4, pch = 16)\n",
    "legend(\"topleft\", c(\"school mean CATE\", \"CATE w/o clustering\"), pch = c(16, 1), col = c(4, 1), cex = 1.5)\n",
    "par = pardef\n",
    "dev.off()"
   ]
  },
  {
   "cell_type": "markdown",
   "id": "316218f8-f1e9-404d-a1bc-12c488e46a2d",
   "metadata": {
    "tags": []
   },
   "source": [
    "Most of the schools show low difference from the mean, but there are many extreme values at the right of the graph."
   ]
  },
  {
   "cell_type": "code",
   "execution_count": null,
   "id": "0e97e4f4-dbb6-459a-8992-496ce27d30b1",
   "metadata": {},
   "outputs": [],
   "source": []
  }
 ],
 "metadata": {
  "kernelspec": {
   "display_name": "R",
   "language": "R",
   "name": "ir"
  },
  "language_info": {
   "codemirror_mode": "r",
   "file_extension": ".r",
   "mimetype": "text/x-r-source",
   "name": "R",
   "pygments_lexer": "r",
   "version": "3.6.1"
  }
 },
 "nbformat": 4,
 "nbformat_minor": 5
}
