{
 "cells": [
  {
   "cell_type": "markdown",
   "id": "4dc3aa0b-c7f0-460a-8d08-7ae2327480db",
   "metadata": {},
   "source": [
    "# Descriptives"
   ]
  },
  {
   "cell_type": "code",
   "execution_count": 5,
   "id": "bce18214-8fd7-4a61-a050-595f9ef34879",
   "metadata": {},
   "outputs": [
    {
     "name": "stderr",
     "output_type": "stream",
     "text": [
      "\u001b[1mRows: \u001b[22m\u001b[34m1739\u001b[39m \u001b[1mColumns: \u001b[22m\u001b[34m15\u001b[39m\n",
      "\u001b[36m──\u001b[39m \u001b[1mColumn specification\u001b[22m \u001b[36m────────────────────────────────────────────────────────\u001b[39m\n",
      "\u001b[1mDelimiter:\u001b[22m \",\"\n",
      "\u001b[32mdbl\u001b[39m (15): y, w, gender_female, gender_male, gender_transgender, ethnicgrp_as...\n",
      "\n",
      "\u001b[36mℹ\u001b[39m Use `spec()` to retrieve the full column specification for this data.\n",
      "\u001b[36mℹ\u001b[39m Specify the column types or set `show_col_types = FALSE` to quiet this message.\n"
     ]
    },
    {
     "name": "stdout",
     "output_type": "stream",
     "text": [
      "         Variable n_Control mean_Control sd_Control n_Treatment mean_Treatment\n",
      "1     Age (years)       818   23.0476773  3.5940146         921     23.1585233\n",
      "2 Gender (1=male)       818    0.4180929  0.4935474         921      0.4093377\n",
      "3      IMD Decile       818    3.4841076  1.4860812         921      3.4603692\n",
      "  sd_Treatment         Diff\n",
      "1    3.5387384  0.110846083\n",
      "2    0.4919788 -0.008755233\n",
      "3    1.4658443 -0.023738416\n"
     ]
    },
    {
     "name": "stderr",
     "output_type": "stream",
     "text": [
      "Warning message in geom_histogram(stat = \"count\", position = \"dodge\"):\n",
      "\"\u001b[1m\u001b[22mIgnoring unknown parameters: `binwidth`, `bins`, and `pad`\"\n",
      "Warning message in grid.Call(C_textBounds, as.graphicsAnnot(x$label), x$x, x$y, :\n",
      "\"font family not found in Windows font database\"\n",
      "Warning message in grid.Call(C_textBounds, as.graphicsAnnot(x$label), x$x, x$y, :\n",
      "\"font family not found in Windows font database\"\n",
      "Warning message in grid.Call(C_textBounds, as.graphicsAnnot(x$label), x$x, x$y, :\n",
      "\"font family not found in Windows font database\"\n",
      "Warning message in grid.Call(C_textBounds, as.graphicsAnnot(x$label), x$x, x$y, :\n",
      "\"font family not found in Windows font database\"\n",
      "Warning message in grid.Call.graphics(C_text, as.graphicsAnnot(x$label), x$x, x$y, :\n",
      "\"font family not found in Windows font database\"\n",
      "Warning message in grid.Call.graphics(C_text, as.graphicsAnnot(x$label), x$x, x$y, :\n",
      "\"font family not found in Windows font database\"\n",
      "Warning message in grid.Call.graphics(C_text, as.graphicsAnnot(x$label), x$x, x$y, :\n",
      "\"font family not found in Windows font database\"\n",
      "Warning message in grid.Call.graphics(C_text, as.graphicsAnnot(x$label), x$x, x$y, :\n",
      "\"font family not found in Windows font database\"\n",
      "Warning message in grid.Call.graphics(C_text, as.graphicsAnnot(x$label), x$x, x$y, :\n",
      "\"font family not found in Windows font database\"\n",
      "Warning message in grid.Call.graphics(C_text, as.graphicsAnnot(x$label), x$x, x$y, :\n",
      "\"font family not found in Windows font database\"\n",
      "Warning message in grid.Call(C_textBounds, as.graphicsAnnot(x$label), x$x, x$y, :\n",
      "\"font family not found in Windows font database\"\n",
      "Warning message in grid.Call(C_textBounds, as.graphicsAnnot(x$label), x$x, x$y, :\n",
      "\"font family not found in Windows font database\"\n",
      "Warning message in grid.Call(C_textBounds, as.graphicsAnnot(x$label), x$x, x$y, :\n",
      "\"font family not found in Windows font database\"\n",
      "Warning message in grid.Call(C_textBounds, as.graphicsAnnot(x$label), x$x, x$y, :\n",
      "\"font family not found in Windows font database\"\n",
      "Warning message in grid.Call.graphics(C_text, as.graphicsAnnot(x$label), x$x, x$y, :\n",
      "\"font family not found in Windows font database\"\n",
      "Warning message in grid.Call.graphics(C_text, as.graphicsAnnot(x$label), x$x, x$y, :\n",
      "\"font family not found in Windows font database\"\n",
      "Warning message in grid.Call.graphics(C_text, as.graphicsAnnot(x$label), x$x, x$y, :\n",
      "\"font family not found in Windows font database\"\n",
      "Warning message in grid.Call.graphics(C_text, as.graphicsAnnot(x$label), x$x, x$y, :\n",
      "\"font family not found in Windows font database\"\n",
      "Warning message in grid.Call.graphics(C_text, as.graphicsAnnot(x$label), x$x, x$y, :\n",
      "\"font family not found in Windows font database\"\n",
      "Warning message in grid.Call.graphics(C_text, as.graphicsAnnot(x$label), x$x, x$y, :\n",
      "\"font family not found in Windows font database\"\n"
     ]
    },
    {
     "data": {
      "image/png": "[encoded data removed]",
      "text/plain": [
       "plot without title"
      ]
     },
     "metadata": {
      "image/png": {
       "height": 420,
       "width": 420
      }
     },
     "output_type": "display_data"
    },
    {
     "name": "stderr",
     "output_type": "stream",
     "text": [
      "Warning message in grid.Call(C_textBounds, as.graphicsAnnot(x$label), x$x, x$y, :\n",
      "\"font family not found in Windows font database\"\n",
      "Warning message in grid.Call(C_textBounds, as.graphicsAnnot(x$label), x$x, x$y, :\n",
      "\"font family not found in Windows font database\"\n",
      "Warning message in grid.Call(C_textBounds, as.graphicsAnnot(x$label), x$x, x$y, :\n",
      "\"font family not found in Windows font database\"\n",
      "Warning message in grid.Call(C_textBounds, as.graphicsAnnot(x$label), x$x, x$y, :\n",
      "\"font family not found in Windows font database\"\n",
      "Warning message in grid.Call.graphics(C_text, as.graphicsAnnot(x$label), x$x, x$y, :\n",
      "\"font family not found in Windows font database\"\n",
      "Warning message in grid.Call.graphics(C_text, as.graphicsAnnot(x$label), x$x, x$y, :\n",
      "\"font family not found in Windows font database\"\n",
      "Warning message in grid.Call.graphics(C_text, as.graphicsAnnot(x$label), x$x, x$y, :\n",
      "\"font family not found in Windows font database\"\n",
      "Warning message in grid.Call.graphics(C_text, as.graphicsAnnot(x$label), x$x, x$y, :\n",
      "\"font family not found in Windows font database\"\n",
      "Warning message in grid.Call.graphics(C_text, as.graphicsAnnot(x$label), x$x, x$y, :\n",
      "\"font family not found in Windows font database\"\n",
      "Warning message in grid.Call.graphics(C_text, as.graphicsAnnot(x$label), x$x, x$y, :\n",
      "\"font family not found in Windows font database\"\n"
     ]
    },
    {
     "data": {
      "image/png": "[encoded data removed]",
      "text/plain": [
       "plot without title"
      ]
     },
     "metadata": {
      "image/png": {
       "height": 420,
       "width": 420
      }
     },
     "output_type": "display_data"
    },
    {
     "name": "stdout",
     "output_type": "stream",
     "text": [
      "\n",
      "Regression Results\n",
      "===============================================\n",
      "                        Dependent variable:    \n",
      "                    ---------------------------\n",
      "                            Outcome (y)        \n",
      "-----------------------------------------------\n",
      "Treatment (w)                0.265***          \n",
      "                              (0.022)          \n",
      "Constant                     0.211***          \n",
      "                              (0.016)          \n",
      "-----------------------------------------------\n",
      "Observations                   1,739           \n",
      "R2                             0.077           \n",
      "Adjusted R2                    0.076           \n",
      "Residual Std. Error      0.459 (df = 1737)     \n",
      "F Statistic          144.502*** (df = 1; 1737) \n",
      "===============================================\n",
      "Note:               *p<0.1; **p<0.05; ***p<0.01\n"
     ]
    },
    {
     "data": {
      "image/png": "[encoded data removed]",
      "text/plain": [
       "plot without title"
      ]
     },
     "metadata": {
      "image/png": {
       "height": 420,
       "width": 420
      }
     },
     "output_type": "display_data"
    }
   ],
   "source": [
    "#install.packages(\"dplyr\")\n",
    "#install.packages(\"readr\")\n",
    "#install.packages(\"tidyr\")\n",
    "#install.packages(\"stargazer\")\n",
    "#install.packages(\"officer\")\n",
    "#install.packages(\"flextable\")\n",
    "\n",
    "library(dplyr)\n",
    "library(readr)\n",
    "library(tidyr)\n",
    "library(stargazer)\n",
    "library(officer)\n",
    "library(flextable)\n",
    "\n",
    "data <- read_csv(\"C:/Users/Frank/Downloads/processed_esti.csv\")\n",
    "descriptive_stats <- data %>%\n",
    "  group_by(w) %>%\n",
    "  summarise(\n",
    "    n_age = sum(!is.na(age)),\n",
    "    mean_age = mean(age, na.rm = TRUE),\n",
    "    sd_age = sd(age, na.rm = TRUE),\n",
    "    n_gender = sum(!is.na(gender_male)),\n",
    "    mean_gender = mean(gender_male, na.rm = TRUE),\n",
    "    sd_gender = sd(gender_male, na.rm = TRUE),\n",
    "    n_imd = sum(!is.na(imd_decile)),\n",
    "    mean_imd = mean(imd_decile, na.rm = TRUE),\n",
    "    sd_imd = sd(imd_decile, na.rm = TRUE)\n",
    "  ) %>%\n",
    "  pivot_longer(cols = starts_with(\"mean_\") | starts_with(\"sd_\") | starts_with(\"n_\"), \n",
    "               names_to = c(\"stat\", \"variable\"), \n",
    "               names_sep = \"_\") %>%\n",
    "  pivot_wider(names_from = w, values_from = value)\n",
    "\n",
    "descriptive_stats <- descriptive_stats %>% replace(is.na(.), 0)\n",
    "\n",
    "#para el diff\n",
    "lm_age <- lm(age ~ w, data = data)\n",
    "lm_gender <- lm(gender_male ~ w, data = data)\n",
    "lm_imd <- lm(imd_decile ~ w, data = data)\n",
    "coef_age <- summary(lm_age)$coefficients[2, \"Estimate\"]\n",
    "coef_gender <- summary(lm_gender)$coefficients[2, \"Estimate\"]\n",
    "coef_imd = summary(lm_imd)$coefficients[2, \"Estimate\"]\n",
    "\n",
    "# DataFrame para almacenar las estadísticas descriptivas\n",
    "descriptive_stats <- data.frame(\n",
    "  Variable = c(\"Age (years)\", \"Gender (1=male)\", \"IMD Decile\"),\n",
    "  n_Control = numeric(3),\n",
    "  mean_Control = numeric(3),\n",
    "  sd_Control = numeric(3),\n",
    "  n_Treatment = numeric(3),\n",
    "  mean_Treatment = numeric(3),\n",
    "  sd_Treatment = numeric(3),\n",
    "  Diff = numeric(3)\n",
    ")\n",
    "for (i in 1:3) {\n",
    "  variable <- c(\"age\", \"gender_male\", \"imd_decile\")[i]\n",
    "  \n",
    "  # Grupo de control\n",
    "  control_data <- data %>% filter(w == 0) %>% select(!!sym(variable))\n",
    "  descriptive_stats$n_Control[i] <- sum(!is.na(control_data))\n",
    "  descriptive_stats$mean_Control[i] <- mean(control_data[[variable]], na.rm = TRUE)\n",
    "  descriptive_stats$sd_Control[i] <- sd(control_data[[variable]], na.rm = TRUE)\n",
    "  \n",
    "  # Grupo de tratamiento\n",
    "  treatment_data <- data %>% filter(w == 1) %>% select(!!sym(variable))\n",
    "  descriptive_stats$n_Treatment[i] <- sum(!is.na(treatment_data))\n",
    "  descriptive_stats$mean_Treatment[i] <- mean(treatment_data[[variable]], na.rm = TRUE)\n",
    "  descriptive_stats$sd_Treatment[i] <- sd(treatment_data[[variable]], na.rm = TRUE)\n",
    "  \n",
    "  # Diferencia ajustada mediante regresión lineal\n",
    "  lm_model <- lm(as.formula(paste(variable, \"~ w\")), data = data)\n",
    "  descriptive_stats$Diff[i] <- summary(lm_model)$coefficients[2, \"Estimate\"]\n",
    "}\n",
    "print(descriptive_stats)\n",
    "\n",
    "##exportar tabla\n",
    "doc <- read_docx()\n",
    "doc <- body_add_par(doc, \"Table 1: Descriptive Statistics and Balance\", style = \"heading 1\")\n",
    "\n",
    "# tabla de balance\n",
    "balance_table <- data.frame(\n",
    "  Variable = c(\"Age (years)\", \"Gender (1=male)\", \"IMD Decile\"),\n",
    "  n_Control = c(50, 50, 50),\n",
    "  mean_Control = c(53.06, 0.64, 2639.60),\n",
    "  sd_Control = c(26.08, 0.48, 1261.20),\n",
    "  n_Treatment = c(50, 50, 50),\n",
    "  mean_Treatment = c(52.14, 0.78, 2570.68),\n",
    "  sd_Treatment = c(30.04, 0.42, 1544.05),\n",
    "  Diff = c(-0.920, 0.140, -68.920)\n",
    ")\n",
    "\n",
    "#  flextable\n",
    "ft <- flextable(balance_table)\n",
    "ft <- set_table_properties(ft, width = 1, layout = \"autofit\")\n",
    "ft <- theme_booktabs(ft)\n",
    "ft <- fontsize(ft, size = 11)\n",
    "ft <- font(ft, fontname = \"Times New Roman\")\n",
    "ft <- align(ft, align = \"center\", part = \"all\")\n",
    "ft <- autofit(ft)\n",
    "\n",
    "# encabezados\n",
    "ft <- set_header_labels(ft, \n",
    "                        Variable = \"Variable\", \n",
    "                        n_Control = \"n (Control)\", \n",
    "                        mean_Control = \"Mean (Control)\", \n",
    "                        sd_Control = \"SD (Control)\", \n",
    "                        n_Treatment = \"n (Treatment)\", \n",
    "                        mean_Treatment = \"Mean (Treatment)\", \n",
    "                        sd_Treatment = \"SD (Treatment)\", \n",
    "                        Diff = \"Difference\")\n",
    "\n",
    "doc <- body_add_flextable(doc, value = ft)\n",
    "\n",
    "print(doc, target = \"balance_table_R.docx\")\n",
    "##Pregunta 2\n",
    "#install.packages(\"ggplot2\")\n",
    "#install.packages(\"dplyr\")\n",
    "library(ggplot2)\n",
    "library(dplyr)\n",
    "data$w <- factor(data$w, levels = c(0, 1), labels = c(\"Control\", \"Treated\"))\n",
    "#genero\n",
    "ggplot(data, aes(x = factor(gender_male), fill = w)) +\n",
    "  geom_histogram(stat = \"count\", position = \"dodge\") +\n",
    "  labs(title = \"Histogram of Gender by Treatment Group\",\n",
    "       x = \"Gender (0 = Female, 1 = Male)\", y = \"Count\") +\n",
    "  scale_fill_manual(values = c(\"Control\" = \"red\", \"Treated\" = \"blue\")) +\n",
    "  theme_minimal() +\n",
    "  theme(text = element_text(family = \"Times New Roman\"))\n",
    "\n",
    "# densidad para edades\n",
    "ggplot(data, aes(x = age, fill = w)) +\n",
    "  geom_density(alpha = 0.5) +\n",
    "  labs(title = \"Density Plot of Age by Treatment Group\",\n",
    "       x = \"Age\", y = \"Density\") +\n",
    "  scale_fill_manual(values = c(\"Control\" = \"red\", \"Treated\" = \"blue\")) +\n",
    "  theme_minimal() +\n",
    "  theme(text = element_text(family = \"Times New Roman\"))\n",
    "\n",
    "# densidad para imd_decile\n",
    "ggplot(data, aes(x = imd_decile, fill = w)) +\n",
    "  geom_density(alpha = 0.5) +\n",
    "  labs(title = \"Density Plot of IMD Decile by Treatment Group\",\n",
    "       x = \"IMD Decile\", y = \"Density\") +\n",
    "  scale_fill_manual(values = c(\"Control\" = \"red\", \"Treated\" = \"blue\")) +\n",
    "  theme_minimal() +\n",
    "  theme(text = element_text(family = \"Times New Roman\"))\n",
    "\n",
    "##Análisis de regresión lineal\n",
    "# Pregunta 1\n",
    "#install.packages(\"dplyr\")\n",
    "#install.packages(\"readr\")\n",
    "#install.packages(\"stargazer\")\n",
    "\n",
    "library(dplyr)\n",
    "library(readr)\n",
    "library(stargazer)\n",
    "model <- lm(y ~ w, data = data)\n",
    "stargazer(model, type = \"text\", title = \"Regression Results\", \n",
    "          covariate.labels = c(\"Treatment (w)\"),\n",
    "          dep.var.labels = \"Outcome (y)\",\n",
    "          align = TRUE, no.space = TRUE)\n"
   ]
  },
  {
   "cell_type": "markdown",
   "id": "07d60c2c-0477-4813-8f0f-196f29beca54",
   "metadata": {},
   "source": [
    "El tratamiento tiene un efecto positivo y significativo en nuestra variable de interés. En otras palabras, las personas que reciben el tratamiento tienden a tener mejores resultados, un incremento de 0.2652 unidades."
   ]
  },
  {
   "cell_type": "markdown",
   "id": "97e2944b-5b84-4216-8241-13bd4bb3e86a",
   "metadata": {},
   "source": [
    " ### Y ~ T + X"
   ]
  },
  {
   "cell_type": "code",
   "execution_count": 10,
   "id": "a3fd10e7-4c20-4977-817c-805e04a07b42",
   "metadata": {
    "tags": []
   },
   "outputs": [
    {
     "data": {
      "text/plain": [
       "\n",
       "Call:\n",
       "lm(formula = formula, data = data)\n",
       "\n",
       "Residuals:\n",
       "    Min      1Q  Median      3Q     Max \n",
       "-0.6765 -0.3546 -0.1919  0.4732  1.0411 \n",
       "\n",
       "Coefficients: (2 not defined because of singularities)\n",
       "                          Estimate Std. Error t value Pr(>|t|)    \n",
       "(Intercept)               0.245498   0.238767   1.028 0.304005    \n",
       "w                         0.256224   0.021802  11.752  < 2e-16 ***\n",
       "gender_female            -0.269202   0.227874  -1.181 0.237620    \n",
       "gender_male              -0.363822   0.228226  -1.594 0.111091    \n",
       "gender_transgender              NA         NA      NA       NA    \n",
       "ethnicgrp_asian          -0.071477   0.044908  -1.592 0.111653    \n",
       "ethnicgrp_black          -0.088999   0.039655  -2.244 0.024937 *  \n",
       "ethnicgrp_mixed_multiple -0.087559   0.038621  -2.267 0.023506 *  \n",
       "ethnicgrp_other           0.041745   0.095520   0.437 0.662149    \n",
       "ethnicgrp_white                 NA         NA      NA       NA    \n",
       "partners1                -0.057558   0.024361  -2.363 0.018254 *  \n",
       "postlaunch                0.074806   0.022648   3.303 0.000976 ***\n",
       "msm                      -0.002328   0.036754  -0.063 0.949497    \n",
       "age                       0.012573   0.003180   3.954 7.99e-05 ***\n",
       "imd_decile               -0.004016   0.007422  -0.541 0.588550    \n",
       "---\n",
       "Signif. codes:  0 '***' 0.001 '**' 0.01 '*' 0.05 '.' 0.1 ' ' 1\n",
       "\n",
       "Residual standard error: 0.451 on 1726 degrees of freedom\n",
       "Multiple R-squared:  0.1147,\tAdjusted R-squared:  0.1086 \n",
       "F-statistic: 18.64 on 12 and 1726 DF,  p-value: < 2.2e-16\n"
      ]
     },
     "metadata": {},
     "output_type": "display_data"
    }
   ],
   "source": [
    "#install.packages(\"tidyverse\")\n",
    "\n",
    "library(tidyverse)\n",
    "library(glmnet)\n",
    "library(stargazer)\n",
    "\n",
    "data <- read.csv(\"C:/Users/Frank/Downloads/processed_esti.csv\")\n",
    "\n",
    "#Regresión lineal con controles:\n",
    "controles <- c(\"gender_female\", \"gender_male\", \"gender_transgender\", \n",
    "               \"ethnicgrp_asian\", \"ethnicgrp_black\", \"ethnicgrp_mixed_multiple\", \n",
    "               \"ethnicgrp_other\", \"ethnicgrp_white\", \"partners1\", \n",
    "               \"postlaunch\", \"msm\", \"age\", \"imd_decile\")\n",
    "\n",
    "formula <- as.formula(paste(\"y ~ w +\", paste(controles, collapse = \" + \")))\n",
    "\n",
    "model2 <- lm(formula, data = data)\n",
    "\n",
    "summary(model2)\n"
   ]
  },
  {
   "cell_type": "markdown",
   "id": "f3fe6f52-94db-4a38-92a3-663d0eea0e23",
   "metadata": {},
   "source": [
    "El resultado de la regresión sugiere que el uso del servicio de pruebas eSTI en línea tiene un efecto positivo significativo en el resultado medido: la tasa de detección o tratamiento exitoso de infecciones de transmisión sexual (ITS). Específicamente, el tratamiento aumenta el valor de y en aproximadamente 0.2562 unidades, manteniendo constantes las demás variables. La significancia estadística es muy alta (p < 0.001), lo que indica que es poco probable que este resultado sea debido al azar.\n",
    "\n",
    "Sobre los controles: \n",
    "  \n",
    ".-postlaunch: Positivo y significativo (coeficiente = 0.0748, p = 0.000), sugiriendo que el periodo postlanzamiento del servicio de pruebas tiene un efecto positivo en el resultado y.\n",
    "\n",
    ".-age: Positivo y significativo (coeficiente = 0.0126, p = 0.000), indicando que la edad está positivamente asociada con el resultado y.\n",
    "\n",
    "Los demás controles no son significativos, lo que sugiere que no hay diferencias sustanciales en el resultado y en función a dichas variables."
   ]
  },
  {
   "cell_type": "markdown",
   "id": "0beb737b-ddbe-4163-992c-67383859aab6",
   "metadata": {
    "tags": []
   },
   "source": [
    " ### Y ~ T + X DOUBLE LASSO"
   ]
  },
  {
   "cell_type": "code",
   "execution_count": 13,
   "id": "196f0dc2-677b-4f1a-aaa2-f2d325c64309",
   "metadata": {},
   "outputs": [
    {
     "data": {
      "text/plain": [
       "\n",
       "Call:\n",
       "lm(formula = final_formula, data = data)\n",
       "\n",
       "Residuals:\n",
       "    Min      1Q  Median      3Q     Max \n",
       "-0.6758 -0.3564 -0.1920  0.4733  1.0381 \n",
       "\n",
       "Coefficients:\n",
       "                    Estimate Std. Error t value Pr(>|t|)    \n",
       "(Intercept)        -0.108211   0.079310  -1.364 0.172615    \n",
       "w                   0.256604   0.021750  11.798  < 2e-16 ***\n",
       "gender_male        -0.095029   0.022299  -4.262 2.14e-05 ***\n",
       "gender_transgender  0.268506   0.227570   1.180 0.238209    \n",
       "ethnicgrp_other     0.125578   0.097211   1.292 0.196597    \n",
       "ethnicgrp_white     0.083660   0.025796   3.243 0.001205 ** \n",
       "partners1          -0.057280   0.024250  -2.362 0.018286 *  \n",
       "postlaunch          0.074307   0.022517   3.300 0.000986 ***\n",
       "age                 0.012566   0.003168   3.966 7.60e-05 ***\n",
       "imd_decile         -0.003777   0.007357  -0.513 0.607748    \n",
       "---\n",
       "Signif. codes:  0 '***' 0.001 '**' 0.01 '*' 0.05 '.' 0.1 ' ' 1\n",
       "\n",
       "Residual standard error: 0.4506 on 1729 degrees of freedom\n",
       "Multiple R-squared:  0.1147,\tAdjusted R-squared:  0.1101 \n",
       "F-statistic: 24.89 on 9 and 1729 DF,  p-value: < 2.2e-16\n"
      ]
     },
     "metadata": {},
     "output_type": "display_data"
    },
    {
     "data": {
      "image/png": "[encoded data removed]",
      "text/plain": [
       "plot without title"
      ]
     },
     "metadata": {
      "image/png": {
       "height": 420,
       "width": 420
      }
     },
     "output_type": "display_data"
    }
   ],
   "source": [
    "#Double Lasso con controles:\n",
    "X <- model.matrix(formula, data = data)[,-1]\n",
    "Y <- data$y\n",
    "\n",
    "lasso_model <- cv.glmnet(X, Y, alpha = 1)\n",
    "\n",
    "coef_lasso <- as.matrix(coef(lasso_model, s = \"lambda.min\"))\n",
    "\n",
    "selected_vars <- rownames(coef_lasso)[coef_lasso != 0]\n",
    "\n",
    "selected_vars <- selected_vars[selected_vars != \"(Intercept)\"]\n",
    "\n",
    "final_formula <- as.formula(paste(\"y ~\", paste(selected_vars, collapse = \" + \")))\n",
    "\n",
    "final_model <- lm(final_formula, data = data)\n",
    "summary(final_model)\n",
    "\n",
    "cat(\"\")\n",
    "\n",
    "#Gráfico de coeficientes:\n",
    "coef_model1 <- coef(model1)[\"w\"]\n",
    "coef_model2 <- coef(model2)[\"w\"]\n",
    "coef_final_model <- coef(final_model)[\"w\"]\n",
    "\n",
    "# Crear un data frame para los coeficientes\n",
    "coef_data <- data.frame(\n",
    "  Model = c(\"Simple\", \"Multiple\", \"Lasso\"),\n",
    "  Coefficient = c(coef_model1, coef_model2, coef_final_model)\n",
    ")\n",
    "\n",
    "# Graficar los coeficientes\n",
    "ggplot(coef_data, aes(x = Model, y = Coefficient)) +\n",
    "  geom_point(size = 3) +\n",
    "  geom_line(aes(group = 1)) +\n",
    "  labs(title = \"Comparación de Coeficientes\", x = \"Modelo\", y = \"Coeficiente de w\")"
   ]
  },
  {
   "cell_type": "markdown",
   "id": "186b468e-4ab9-4edf-8237-e2878d03d16d",
   "metadata": {},
   "source": [
    "Ambos métodos indican que el tratamiento tiene un efecto positivo y significativo sobre el resultado. El coeficiente es ligeramente mayor en el modelo Double Lasso, pero sigue siendo consistente en dirección y magnitud, lo que refuerza la conclusión de que el servicio de pruebas eSTI en línea es efectivo.\n",
    "\n",
    "Sobre los controles, gender_male es negativo y significativo, lo que sugiere una penalización en el resultado para los hombres en comparación con el modelo de regresión múltiple. Por otro lado, a diferencia de la regresión lineal donde nigún grupo étnico es significativo se mantiene ethnicgrp_white, que tiene un coeficiente positivo pequeño. Esto sugiere que ser blanco podría tener una pequeña asociación positiva con el resultado, aunque esta conclusión debe tomarse con cautela debido a la eliminación de otros grupos étnicos. Además de esto, ambos métodos coinciden en que postlaunch y age son positivos y significativos, lo que indica que el periodo postlanzamiento y la edad tienen un impacto positivo en el resultado."
   ]
  },
  {
   "cell_type": "markdown",
   "id": "ebca1c69-8c4f-4889-8e3d-9c5f6c4acb18",
   "metadata": {},
   "source": [
    "# Non-Linear Methods DML"
   ]
  },
  {
   "cell_type": "code",
   "execution_count": 93,
   "id": "dbc981f7-19a6-4e3b-a178-eb5961d859e8",
   "metadata": {},
   "outputs": [],
   "source": [
    "data <- fread(\"processed_esti.csv\")"
   ]
  },
  {
   "cell_type": "code",
   "execution_count": 94,
   "id": "456fdb60-5a97-4cfe-9519-55854f845eab",
   "metadata": {},
   "outputs": [],
   "source": [
    "data <- data %>%\n",
    "  mutate(\n",
    "    gender_female = as.factor(gender_female),\n",
    "    gender_male = as.factor(gender_male),\n",
    "    gender_transgender = as.factor(gender_transgender),\n",
    "    ethnicgrp_asian = as.factor(ethnicgrp_asian),\n",
    "    ethnicgrp_black = as.factor(ethnicgrp_black),\n",
    "    ethnicgrp_mixed_multiple = as.factor(ethnicgrp_mixed_multiple),\n",
    "    ethnicgrp_other = as.factor(ethnicgrp_other),\n",
    "    ethnicgrp_white = as.factor(ethnicgrp_white),\n",
    "    partners1 = as.factor(partners1),\n",
    "    postlaunch = as.factor(postlaunch),\n",
    "    msm = as.factor(msm)\n",
    "  )"
   ]
  },
  {
   "cell_type": "code",
   "execution_count": 95,
   "id": "1fbc6783-19cd-4254-b6e7-d0e161d3c585",
   "metadata": {},
   "outputs": [
    {
     "name": "stdout",
     "output_type": "stream",
     "text": [
      "       y     w gender_female gender_male gender_transgender ethnicgrp_asian\n",
      "   <int> <int>        <fctr>      <fctr>             <fctr>          <fctr>\n",
      "1:     1     1             0           1                  0               0\n",
      "2:     0     0             0           1                  0               0\n",
      "3:     0     1             0           1                  0               0\n",
      "4:     0     0             1           0                  0               0\n",
      "5:     1     1             1           0                  0               1\n",
      "6:     1     1             0           1                  0               0\n",
      "   ethnicgrp_black ethnicgrp_mixed_multiple ethnicgrp_other ethnicgrp_white\n",
      "            <fctr>                   <fctr>          <fctr>          <fctr>\n",
      "1:               0                        1               0               0\n",
      "2:               0                        0               0               1\n",
      "3:               1                        0               0               0\n",
      "4:               0                        0               0               1\n",
      "5:               0                        0               0               0\n",
      "6:               0                        0               0               1\n",
      "   partners1 postlaunch    msm   age imd_decile\n",
      "      <fctr>     <fctr> <fctr> <int>      <int>\n",
      "1:         0          1      0    27          5\n",
      "2:         0          0      0    19          6\n",
      "3:         0          1      0    26          4\n",
      "4:         1          0      0    20          2\n",
      "5:         0          1      0    24          3\n",
      "6:         0          1      0    24          2\n"
     ]
    }
   ],
   "source": [
    "print(head(data))"
   ]
  },
  {
   "cell_type": "code",
   "execution_count": 96,
   "id": "fc614631-8460-49cf-82e4-802c0f799f04",
   "metadata": {},
   "outputs": [
    {
     "name": "stdout",
     "output_type": "stream",
     "text": [
      "Classes ‘data.table’ and 'data.frame':\t1739 obs. of  15 variables:\n",
      " $ y                       : int  1 0 0 0 1 1 1 0 0 1 ...\n",
      " $ w                       : int  1 0 1 0 1 1 1 0 1 1 ...\n",
      " $ gender_female           : Factor w/ 2 levels \"0\",\"1\": 1 1 1 2 2 1 2 1 1 2 ...\n",
      " $ gender_male             : Factor w/ 2 levels \"0\",\"1\": 2 2 2 1 1 2 1 2 2 1 ...\n",
      " $ gender_transgender      : Factor w/ 2 levels \"0\",\"1\": 1 1 1 1 1 1 1 1 1 1 ...\n",
      " $ ethnicgrp_asian         : Factor w/ 2 levels \"0\",\"1\": 1 1 1 1 2 1 1 1 1 1 ...\n",
      " $ ethnicgrp_black         : Factor w/ 2 levels \"0\",\"1\": 1 1 2 1 1 1 1 2 1 2 ...\n",
      " $ ethnicgrp_mixed_multiple: Factor w/ 2 levels \"0\",\"1\": 2 1 1 1 1 1 1 1 1 1 ...\n",
      " $ ethnicgrp_other         : Factor w/ 2 levels \"0\",\"1\": 1 1 1 1 1 1 1 1 1 1 ...\n",
      " $ ethnicgrp_white         : Factor w/ 2 levels \"0\",\"1\": 1 2 1 2 1 2 2 1 2 1 ...\n",
      " $ partners1               : Factor w/ 2 levels \"0\",\"1\": 1 1 1 2 1 1 1 1 2 1 ...\n",
      " $ postlaunch              : Factor w/ 2 levels \"0\",\"1\": 2 1 2 1 2 2 1 2 1 1 ...\n",
      " $ msm                     : Factor w/ 2 levels \"0\",\"1\": 1 1 1 1 1 1 1 1 1 1 ...\n",
      " $ age                     : int  27 19 26 20 24 24 24 21 27 21 ...\n",
      " $ imd_decile              : int  5 6 4 2 3 2 4 2 2 6 ...\n",
      " - attr(*, \".internal.selfref\")=<externalptr> \n"
     ]
    }
   ],
   "source": [
    "str(data)"
   ]
  },
  {
   "cell_type": "markdown",
   "id": "1b63cbeb-62b5-4a61-bdce-301ddf994705",
   "metadata": {},
   "source": [
    "## Lasso"
   ]
  },
  {
   "cell_type": "code",
   "execution_count": 92,
   "id": "a38e472b-c15e-4004-a228-18066b88b160",
   "metadata": {},
   "outputs": [],
   "source": [
    "if (!requireNamespace(\"DoubleML\", quietly = TRUE)) {\n",
    "  install.packages(\"DoubleML\")\n",
    "}\n",
    "if (!requireNamespace(\"mlr3learners\", quietly = TRUE)) {\n",
    "  install.packages(\"mlr3learners\")\n",
    "}\n",
    "if (!requireNamespace(\"mlr3\", quietly = TRUE)) {\n",
    "  install.packages(\"mlr3\")\n",
    "}\n",
    "if (!requireNamespace(\"mlr3verse\", quietly = TRUE)) {\n",
    "  install.packages(\"mlr3verse\")\n",
    "}\n",
    "if (!requireNamespace(\"data.table\", quietly = TRUE)) {\n",
    "  install.packages(\"data.table\")\n",
    "}\n",
    "if (!requireNamespace(\"glmnet\", quietly = TRUE)) {\n",
    "  install.packages(\"glmnet\")\n",
    "}\n",
    "if (!requireNamespace(\"mlr3pipelines\", quietly = TRUE)) {\n",
    "  install.packages(\"mlr3pipelines\")\n",
    "}\n",
    "\n",
    "# Load required libraries\n",
    "library(DoubleML)\n",
    "library(mlr3learners)\n",
    "library(mlr3)\n",
    "library(mlr3verse)\n",
    "library(data.table)\n",
    "library(glmnet)\n",
    "library(mlr3pipelines)"
   ]
  },
  {
   "cell_type": "code",
   "execution_count": 97,
   "id": "835005b7-3ab8-4623-a688-95d9d968de37",
   "metadata": {},
   "outputs": [],
   "source": [
    "data <- as.data.table(model.matrix(~ . - 1, data = data))"
   ]
  },
  {
   "cell_type": "code",
   "execution_count": 98,
   "id": "132177d6-18d4-4a5f-aaf9-28f7f9ddffa3",
   "metadata": {},
   "outputs": [],
   "source": [
    "dml_data <- DoubleMLData$new(data, y_col = \"y\", d_cols = \"w\",\n",
    "                             x_cols = setdiff(colnames(data), c(\"y\", \"w\")))"
   ]
  },
  {
   "cell_type": "code",
   "execution_count": 104,
   "id": "463e7175-0d75-437c-a1ca-914593bc05f0",
   "metadata": {},
   "outputs": [],
   "source": [
    "ml_g <- lrn(\"regr.glmnet\")\n",
    "ml_m <- lrn(\"classif.glmnet\", predict_type = \"prob\")"
   ]
  },
  {
   "cell_type": "code",
   "execution_count": 105,
   "id": "04d38909-c504-43e0-af6c-0f0a55ac4752",
   "metadata": {},
   "outputs": [],
   "source": [
    "dml_plr <- DoubleMLPLR$new(dml_data, ml_g, ml_m)"
   ]
  },
  {
   "cell_type": "code",
   "execution_count": 106,
   "id": "0b14ba74-ad4c-4c81-8173-440e25cbf511",
   "metadata": {},
   "outputs": [
    {
     "name": "stdout",
     "output_type": "stream",
     "text": [
      "INFO  [23:19:59.570] [mlr3] Applying learner 'regr.glmnet' on task 'nuis_l' (iter 1/5)\n",
      "INFO  [23:19:59.593] [mlr3] Applying learner 'regr.glmnet' on task 'nuis_l' (iter 2/5)\n",
      "INFO  [23:19:59.629] [mlr3] Applying learner 'regr.glmnet' on task 'nuis_l' (iter 3/5)\n",
      "INFO  [23:19:59.642] [mlr3] Applying learner 'regr.glmnet' on task 'nuis_l' (iter 4/5)\n",
      "INFO  [23:19:59.653] [mlr3] Applying learner 'regr.glmnet' on task 'nuis_l' (iter 5/5)\n"
     ]
    },
    {
     "name": "stderr",
     "output_type": "stream",
     "text": [
      "Warning message:\n",
      "“Multiple lambdas have been fit. Lambda will be set to 0.01 (see parameter 's').”\n",
      "Warning message:\n",
      "“Multiple lambdas have been fit. Lambda will be set to 0.01 (see parameter 's').”\n",
      "Warning message:\n",
      "“Multiple lambdas have been fit. Lambda will be set to 0.01 (see parameter 's').”\n",
      "Warning message:\n",
      "“Multiple lambdas have been fit. Lambda will be set to 0.01 (see parameter 's').”\n",
      "Warning message:\n",
      "“Multiple lambdas have been fit. Lambda will be set to 0.01 (see parameter 's').”\n"
     ]
    },
    {
     "name": "stdout",
     "output_type": "stream",
     "text": [
      "INFO  [23:19:59.707] [mlr3] Applying learner 'classif.glmnet' on task 'nuis_m' (iter 1/5)\n",
      "INFO  [23:19:59.721] [mlr3] Applying learner 'classif.glmnet' on task 'nuis_m' (iter 2/5)\n",
      "INFO  [23:19:59.735] [mlr3] Applying learner 'classif.glmnet' on task 'nuis_m' (iter 3/5)\n",
      "INFO  [23:19:59.748] [mlr3] Applying learner 'classif.glmnet' on task 'nuis_m' (iter 4/5)\n",
      "INFO  [23:19:59.764] [mlr3] Applying learner 'classif.glmnet' on task 'nuis_m' (iter 5/5)\n"
     ]
    },
    {
     "name": "stderr",
     "output_type": "stream",
     "text": [
      "Warning message:\n",
      "“Multiple lambdas have been fit. Lambda will be set to 0.01 (see parameter 's').”\n",
      "Warning message:\n",
      "“Multiple lambdas have been fit. Lambda will be set to 0.01 (see parameter 's').”\n",
      "Warning message:\n",
      "“Multiple lambdas have been fit. Lambda will be set to 0.01 (see parameter 's').”\n",
      "Warning message:\n",
      "“Multiple lambdas have been fit. Lambda will be set to 0.01 (see parameter 's').”\n",
      "Warning message:\n",
      "“Multiple lambdas have been fit. Lambda will be set to 0.01 (see parameter 's').”\n"
     ]
    }
   ],
   "source": [
    "dml_plr$fit()"
   ]
  },
  {
   "cell_type": "code",
   "execution_count": 107,
   "id": "1eb30528-b35d-4d93-9e74-487feaee28a3",
   "metadata": {},
   "outputs": [],
   "source": [
    "coef_table <- coef(dml_plr)"
   ]
  },
  {
   "cell_type": "code",
   "execution_count": 108,
   "id": "2ea7dfd4-c2b9-40e1-a2c3-a2ee43045f1f",
   "metadata": {},
   "outputs": [
    {
     "name": "stdout",
     "output_type": "stream",
     "text": [
      "NULL\n"
     ]
    }
   ],
   "source": [
    "print(coef_table)"
   ]
  },
  {
   "cell_type": "markdown",
   "id": "b8ab7119-8a62-4d4c-8ef8-c09147572bca",
   "metadata": {},
   "source": [
    "## Regression Trees"
   ]
  },
  {
   "cell_type": "code",
   "execution_count": 111,
   "id": "3ca4a0ac-005b-403f-838d-92649cb52e6d",
   "metadata": {},
   "outputs": [],
   "source": [
    "if (!requireNamespace(\"DoubleML\", quietly = TRUE)) {\n",
    "  install.packages(\"DoubleML\")\n",
    "}\n",
    "if (!requireNamespace(\"mlr3learners\", quietly = TRUE)) {\n",
    "  install.packages(\"mlr3learners\")\n",
    "}\n",
    "if (!requireNamespace(\"mlr3\", quietly = TRUE)) {\n",
    "  install.packages(\"mlr3\")\n",
    "}"
   ]
  },
  {
   "cell_type": "code",
   "execution_count": 112,
   "id": "e8aef123-7c65-4347-a153-8eac5a422ac6",
   "metadata": {},
   "outputs": [],
   "source": [
    "library(DoubleML)\n",
    "library(mlr3learners)\n",
    "library(mlr3)"
   ]
  },
  {
   "cell_type": "code",
   "execution_count": 113,
   "id": "f8529506-7cbd-4a0a-b203-e90d6532cb0f",
   "metadata": {},
   "outputs": [],
   "source": [
    "dml_data <- DoubleMLData$new(data, y_col = \"y\", d_cols = \"w\",\n",
    "                             x_cols = setdiff(names(data), c(\"y\", \"w\")))"
   ]
  },
  {
   "cell_type": "code",
   "execution_count": 114,
   "id": "f485f370-b96b-4d91-96c5-af9a3b6dad33",
   "metadata": {},
   "outputs": [],
   "source": [
    "ml_g <- lrn(\"regr.rpart\")\n",
    "ml_m <- lrn(\"classif.rpart\", predict_type = \"prob\")"
   ]
  },
  {
   "cell_type": "code",
   "execution_count": 115,
   "id": "62c05767-d017-417d-a738-e6f1d4b6c962",
   "metadata": {},
   "outputs": [
    {
     "name": "stdout",
     "output_type": "stream",
     "text": [
      "INFO  [23:23:22.238] [mlr3] Applying learner 'regr.rpart' on task 'nuis_l' (iter 1/5)\n",
      "INFO  [23:23:22.782] [mlr3] Applying learner 'regr.rpart' on task 'nuis_l' (iter 2/5)\n",
      "INFO  [23:23:22.804] [mlr3] Applying learner 'regr.rpart' on task 'nuis_l' (iter 3/5)\n",
      "INFO  [23:23:22.821] [mlr3] Applying learner 'regr.rpart' on task 'nuis_l' (iter 4/5)\n",
      "INFO  [23:23:22.834] [mlr3] Applying learner 'regr.rpart' on task 'nuis_l' (iter 5/5)\n",
      "INFO  [23:23:22.917] [mlr3] Applying learner 'classif.rpart' on task 'nuis_m' (iter 1/5)\n",
      "INFO  [23:23:22.931] [mlr3] Applying learner 'classif.rpart' on task 'nuis_m' (iter 2/5)\n",
      "INFO  [23:23:22.944] [mlr3] Applying learner 'classif.rpart' on task 'nuis_m' (iter 3/5)\n",
      "INFO  [23:23:22.957] [mlr3] Applying learner 'classif.rpart' on task 'nuis_m' (iter 4/5)\n",
      "INFO  [23:23:22.970] [mlr3] Applying learner 'classif.rpart' on task 'nuis_m' (iter 5/5)\n"
     ]
    }
   ],
   "source": [
    "dml_plr <- DoubleMLPLR$new(dml_data, ml_g, ml_m)\n",
    "dml_plr$fit()"
   ]
  },
  {
   "cell_type": "code",
   "execution_count": 116,
   "id": "653cd263-4f8b-4d28-937f-b99720a9653e",
   "metadata": {},
   "outputs": [
    {
     "name": "stdout",
     "output_type": "stream",
     "text": [
      "NULL\n"
     ]
    }
   ],
   "source": [
    "coef_table <- coef(dml_plr)\n",
    "print(coef_table)"
   ]
  },
  {
   "cell_type": "markdown",
   "id": "0ce097c5-837e-4c60-960a-0727efd61698",
   "metadata": {},
   "source": [
    "## Boosting trees"
   ]
  },
  {
   "cell_type": "code",
   "execution_count": 117,
   "id": "d6714c6d-c7ae-4251-b37b-faf028390730",
   "metadata": {},
   "outputs": [
    {
     "name": "stdout",
     "output_type": "stream",
     "text": [
      "\n",
      "The downloaded binary packages are in\n",
      "\t/var/folders/_t/77pjth2j05lf_rl53gvvpwh80000gn/T//RtmpXwugEc/downloaded_packages\n"
     ]
    }
   ],
   "source": [
    "if (!requireNamespace(\"DoubleML\", quietly = TRUE)) {\n",
    "  install.packages(\"DoubleML\")\n",
    "}\n",
    "if (!requireNamespace(\"mlr3learners\", quietly = TRUE)) {\n",
    "  install.packages(\"mlr3learners\")\n",
    "}\n",
    "if (!requireNamespace(\"mlr3\", quietly = TRUE)) {\n",
    "  install.packages(\"mlr3\")\n",
    "}\n",
    "if (!requireNamespace(\"xgboost\", quietly = TRUE)) {\n",
    "  install.packages(\"xgboost\")\n",
    "}"
   ]
  },
  {
   "cell_type": "code",
   "execution_count": 118,
   "id": "835e5136-48ac-4293-8bf5-f9e1e5efbe37",
   "metadata": {},
   "outputs": [
    {
     "name": "stderr",
     "output_type": "stream",
     "text": [
      "\n",
      "Adjuntando el paquete: ‘xgboost’\n",
      "\n",
      "\n",
      "The following object is masked from ‘package:dplyr’:\n",
      "\n",
      "    slice\n",
      "\n",
      "\n"
     ]
    }
   ],
   "source": [
    "library(DoubleML)\n",
    "library(mlr3learners)\n",
    "library(mlr3)\n",
    "library(xgboost)"
   ]
  },
  {
   "cell_type": "code",
   "execution_count": 119,
   "id": "39540c5b-8a5d-4e3a-ab8c-bb1d30de0d28",
   "metadata": {},
   "outputs": [],
   "source": [
    "ml_g <- lrn(\"regr.xgboost\")\n",
    "ml_m <- lrn(\"classif.xgboost\", predict_type = \"prob\")"
   ]
  },
  {
   "cell_type": "code",
   "execution_count": 120,
   "id": "db228e08-5b22-4b71-8251-1534b269c3a6",
   "metadata": {},
   "outputs": [],
   "source": [
    "dml_plr <- DoubleMLPLR$new(dml_data, ml_g, ml_m)"
   ]
  },
  {
   "cell_type": "code",
   "execution_count": 121,
   "id": "818282dc-3f08-4f93-ab91-94049b7488ce",
   "metadata": {},
   "outputs": [
    {
     "name": "stdout",
     "output_type": "stream",
     "text": [
      "NULL\n"
     ]
    }
   ],
   "source": [
    "coef_table <- coef(dml_plr)\n",
    "print(coef_table)"
   ]
  },
  {
   "cell_type": "markdown",
   "id": "fa08994a-3dc0-432e-bde2-a8c48d0e2022",
   "metadata": {},
   "source": [
    "## Regression Forest"
   ]
  },
  {
   "cell_type": "code",
   "execution_count": 4,
   "id": "ce3b6bc5-d263-4526-8932-bfcd860ca1db",
   "metadata": {
    "tags": []
   },
   "outputs": [
    {
     "data": {
      "text/plain": [
       "   Min. 1st Qu.  Median    Mean 3rd Qu.    Max. \n",
       "0.03562 0.16765 0.22679 0.23410 0.28960 0.44234 "
      ]
     },
     "metadata": {},
     "output_type": "display_data"
    },
    {
     "data": {
      "image/png": "[encoded data removed]",
      "text/plain": [
       "Plot with title \"Estimated Treatment Effect Distribution\""
      ]
     },
     "metadata": {
      "image/png": {
       "height": 420,
       "width": 420
      }
     },
     "output_type": "display_data"
    }
   ],
   "source": [
    "#install.packages(\"grf\")\n",
    "#install.packages(\"dplyr\")\n",
    "#library(grf)\n",
    "#library(dplyr)\n",
    "set.seed(42)\n",
    "\n",
    "data <- read.csv('C:/Users/Frank/Downloads/processed_esti.csv')\n",
    "\n",
    "feature_columns <- c(\n",
    "  'gender_female', 'gender_male', 'gender_transgender',\n",
    "  'ethnicgrp_asian', 'ethnicgrp_black', 'ethnicgrp_mixed_multiple', \n",
    "  'ethnicgrp_other', 'ethnicgrp_white', 'partners1', 'postlaunch', \n",
    "  'msm', 'age', 'imd_decile'\n",
    ")\n",
    "\n",
    "\n",
    "treatment_column <- 'w'\n",
    "target_column <- 'y'\n",
    "\n",
    "\n",
    "X <- data %>% select(one_of(feature_columns))\n",
    "T <- data[[treatment_column]]\n",
    "Y <- data[[target_column]]\n",
    "\n",
    "\n",
    "train_indices <- sample(1:nrow(data), size = 0.7 * nrow(data))\n",
    "X_train <- X[train_indices, ]\n",
    "T_train <- T[train_indices]\n",
    "Y_train <- Y[train_indices]\n",
    "X_test <- X[-train_indices, ]\n",
    "T_test <- T[-train_indices]\n",
    "Y_test <- Y[-train_indices]\n",
    "\n",
    "cf <- causal_forest(X_train, Y_train, T_train, num.trees = 500)\n",
    "\n",
    "treatment_effects <- predict(cf, X_test)$predictions\n",
    "\n",
    "summary(treatment_effects)\n",
    "\n",
    "hist(treatment_effects, main=\"Estimated Treatment Effect Distribution\", xlab=\"Treatment Effect\", col=\"skyblue\", border=\"white\")\n",
    "\n",
    "treatment_effects_ci <- predict(cf, X_test, estimate.variance = TRUE)\n",
    "conf_intervals <- treatment_effects_ci$predictions + qnorm(c(0.025, 0.975)) * sqrt(treatment_effects_ci$variance.estimates)\n"
   ]
  },
  {
   "cell_type": "code",
   "execution_count": 10,
   "id": "c41288e3-8d38-45ff-93d2-4dbb2f404dc5",
   "metadata": {},
   "outputs": [
    {
     "name": "stdout",
     "output_type": "stream",
     "text": [
      "[1] \"The coefficient associated to treatment is 0.234101426057109 and its error is 0.084532702221943\"\n"
     ]
    }
   ],
   "source": [
    "print(paste(\"The coefficient associated to treatment is\", mean(treatment_effects), \"and its error is\",sd(treatment_effects)))"
   ]
  }
 ],
 "metadata": {
  "kernelspec": {
   "display_name": "R",
   "language": "R",
   "name": "ir"
  },
  "language_info": {
   "codemirror_mode": "r",
   "file_extension": ".r",
   "mimetype": "text/x-r-source",
   "name": "R",
   "pygments_lexer": "r",
   "version": "4.4.0"
  }
 },
 "nbformat": 4,
 "nbformat_minor": 5
}
